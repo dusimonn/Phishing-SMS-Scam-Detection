{
 "cells": [
  {
   "cell_type": "markdown",
   "metadata": {},
   "source": [
    "##### ### The University of Melbourne, School of Computing and Information Systems\n",
    "# COMP30027 Machine Learning, 2025 Semester 1\n",
    "\n",
    "## Assignment 1: Scam detection with naive Bayes\n"
   ]
  },
  {
   "cell_type": "markdown",
   "metadata": {},
   "source": [
    "**Student ID(s):**     `1352062`\n"
   ]
  },
  {
   "cell_type": "markdown",
   "metadata": {},
   "source": [
    "This iPython notebook is a template which you will use for your Assignment 1 submission.\n",
    "\n",
    "**NOTE: YOU SHOULD ADD YOUR RESULTS, GRAPHS, AND FIGURES FROM YOUR OBSERVATIONS IN THIS FILE TO YOUR REPORT (the PDF file).** Results, figures, etc. which appear in this file but are NOT included in your report will not be marked.\n",
    "\n",
    "**Adding proper comments to your code is MANDATORY. **"
   ]
  },
  {
   "cell_type": "markdown",
   "metadata": {},
   "source": [
    "## 0. Infrastructure and setup"
   ]
  },
  {
   "cell_type": "code",
   "execution_count": 1,
   "metadata": {},
   "outputs": [],
   "source": [
    "import numpy as np\n",
    "import pandas as pd\n",
    "import math\n",
    "from sklearn.metrics import classification_report, confusion_matrix\n",
    "import matplotlib.pyplot as plt\n",
    "import seaborn as sns\n",
    "from sklearn.model_selection import train_test_split"
   ]
  },
  {
   "cell_type": "code",
   "execution_count": 2,
   "metadata": {},
   "outputs": [],
   "source": [
    "def return_tokens(processed_text):\n",
    "    \"\"\"\n",
    "    Given a preprocessed string/instance, return its tokens and their counts.\n",
    "    \"\"\"\n",
    "    token_counts = dict()\n",
    "    \n",
    "    if isinstance(processed_text, str):\n",
    "        # Split the string into words/tokens\n",
    "        processed_text = processed_text.split(\" \")\n",
    "        # Count the occurrences of each token\n",
    "        for token in processed_text:\n",
    "            if token in token_counts:\n",
    "                token_counts[token] += 1\n",
    "            else:\n",
    "                token_counts[token] = 1\n",
    "    else:\n",
    "        # Empty string classified as a float for some reason\n",
    "        token_counts = {\"\": 1}\n",
    "\n",
    "    return token_counts"
   ]
  },
  {
   "cell_type": "code",
   "execution_count": 3,
   "metadata": {},
   "outputs": [],
   "source": [
    "def find_vocabulary(data):\n",
    "    \"\"\"\n",
    "    Find the list of every word which occurs in the  dataset (every word in textPreprocessed)\n",
    "    \"\"\"\n",
    "    vocabulary = []\n",
    "\n",
    "    for i in range(len(data)):\n",
    "        processed_text = return_tokens(data.loc[i, \"textPreprocessed\"]).keys()\n",
    "        vocabulary = vocabulary + list(processed_text)\n",
    "\n",
    "    vocabulary = sorted(list(set(vocabulary)))\n",
    "    return vocabulary"
   ]
  },
  {
   "cell_type": "code",
   "execution_count": 4,
   "metadata": {},
   "outputs": [],
   "source": [
    "def find_count_matrix(data, vocabulary):\n",
    "    \"\"\"\n",
    "    Find the count matrix, which is a matrix of size N*V where N is the number of instances in the training data \n",
    "    and V is the number of words in the vocabulary.  \n",
    "    Each cell in the matrix represents the number of times a given word appeared in a given message \n",
    "    \"\"\"\n",
    "\n",
    "    N = len(data)\n",
    "    V = len(vocabulary)\n",
    "\n",
    "    # Intialise matrix N*V with 0s\n",
    "    count_matrix = np.zeros((N,V))\n",
    "    count_matrix = pd.DataFrame(count_matrix)\n",
    "    count_matrix.columns = vocabulary\n",
    "\n",
    "    # Iterate over each row - instance \n",
    "    for i in range(N):\n",
    "        instance_token_counts = return_tokens(data.loc[i, \"textPreprocessed\"])\n",
    "        for token in instance_token_counts.keys():\n",
    "            count_matrix.loc[i, token] = instance_token_counts[token]\n",
    "    \n",
    "    return count_matrix"
   ]
  },
  {
   "cell_type": "code",
   "execution_count": 5,
   "metadata": {},
   "outputs": [],
   "source": [
    "def find_prior_prob(data):\n",
    "    \"\"\"\n",
    "    Returns a dictionary of the prior probability of each class P(class)\n",
    "    \"\"\"\n",
    "    prior_probs = dict()\n",
    "\n",
    "    labels = np.unique(data[\"class\"])\n",
    "    for label in labels:\n",
    "        prior_probs[int(label)] = len(data[data[\"class\"]==label])/len(data)\n",
    "\n",
    "    return prior_probs"
   ]
  },
  {
   "cell_type": "code",
   "execution_count": 6,
   "metadata": {},
   "outputs": [],
   "source": [
    "def calc_p_c_i(data, count_matrix, label, word, V=0, alpha=0):\n",
    "    \"\"\"\n",
    "    p(word | label) = count(c,i) + alpha / total(c) + V*alpha\n",
    "    count(c,i) is the total count of times word i appears in messages from class c\n",
    "    total(c) is the total count of words in class c\n",
    "    Alpha is smoothing factor used for Laplace smoothing, defaulted to 0 (no smoothing)\n",
    "    V is the length of the count vector of a test instance\n",
    "    \"\"\"\n",
    "    label_indexes = data[data[\"class\"] == label].index\n",
    "    count_matrix = count_matrix.iloc[label_indexes]\n",
    "    word_counts = np.sum(count_matrix[word]) + alpha\n",
    "    label_counts = np.sum(count_matrix, axis=0).sum() + (V*alpha)\n",
    "    \n",
    "    return float(word_counts / label_counts)"
   ]
  },
  {
   "cell_type": "code",
   "execution_count": 7,
   "metadata": {},
   "outputs": [],
   "source": [
    "def find_conditional_prob(data, vocabulary, count_matrix):\n",
    "    \"\"\"\n",
    "    Return dictionary conditional probabilities of each token in a class\n",
    "    \"\"\"\n",
    "    conditional_probs = {int(label): None for label in data[\"class\"].unique()}\n",
    "    for label in conditional_probs.keys():\n",
    "        conditional_probs[label] = {word: 0 for word in vocabulary}\n",
    "\n",
    "        for word in vocabulary:\n",
    "            conditional_probs[label][word] = calc_p_c_i(data, count_matrix, label, word)\n",
    "    \n",
    "    return conditional_probs"
   ]
  },
  {
   "cell_type": "code",
   "execution_count": 8,
   "metadata": {},
   "outputs": [],
   "source": [
    "def find_test_count_vector(test_text, vocabulary):\n",
    "    \"\"\"\n",
    "    Find the count vector of a test instance\n",
    "    \"\"\"\n",
    "    count_vector = np.zeros((1, len(vocabulary)))[0]\n",
    "    test_token_counts = return_tokens(test_text)\n",
    "\n",
    "    for i in range(len(vocabulary)):\n",
    "        token = vocabulary[i]\n",
    "        if token in test_token_counts.keys():\n",
    "            count_vector[i] = test_token_counts[token]\n",
    "    \n",
    "    return count_vector"
   ]
  },
  {
   "cell_type": "code",
   "execution_count": 9,
   "metadata": {},
   "outputs": [],
   "source": [
    "def find_posterior_prob(data, count_vector, vocabulary, prior_probs, conditional_probs):\n",
    "    \"\"\"\n",
    "    Find posterior probability P(class = label | count = count vector) -> P(class = label) * P(count|c)\n",
    "    \"\"\"\n",
    "    posterior_probs = {int(label): None for label in data[\"class\"].unique()}\n",
    "    for label in posterior_probs.keys():\n",
    "        p_class = prior_probs[label]\n",
    "        p_count_c = math.factorial(int(sum(count_vector))) / math.prod([math.factorial(int(x)) for x in count_vector])\n",
    "        test_token_indexes = [i for i in range(len(count_vector)) if count_vector[i] != 0]\n",
    "\n",
    "        for token_index in test_token_indexes:\n",
    "            p_c_i = conditional_probs[label][vocabulary[token_index]]\n",
    "\n",
    "            # Original formula\n",
    "            p_count_c = p_count_c * math.pow(p_c_i, count_vector[token_index])\n",
    "\n",
    "            # Or take log to avoid underflow\n",
    "            # prob = math.pow(p_c_i, count_vector[token_index])\n",
    "            # if prob == 0:\n",
    "            #     p_count_c = p_count_c + 0\n",
    "            # else:\n",
    "            #     p_count_c = p_count_c + math.log(prob)\n",
    "            \n",
    "        p_c_count = p_class * p_count_c\n",
    "        posterior_probs[label] = p_c_count\n",
    "\n",
    "    return posterior_probs"
   ]
  },
  {
   "cell_type": "code",
   "execution_count": 10,
   "metadata": {},
   "outputs": [],
   "source": [
    "def classify_test_instance(data, vocabulary, test_text, prior_probs, conditional_probs):\n",
    "    \"\"\"\n",
    "    Given a string, classify it as 0 - non malicious, or 1 - scam\n",
    "    \"\"\"\n",
    "    test_count_vector = find_test_count_vector(test_text, vocabulary)\n",
    "\n",
    "    # Count vector all zeroes so cannot classify\n",
    "    if np.count_nonzero(test_count_vector) == 0:\n",
    "        print(\"Cannot classify\")\n",
    "        return None\n",
    "    \n",
    "    test_posterior_prob = find_posterior_prob(data, test_count_vector, vocabulary, prior_probs, conditional_probs)\n",
    "    # Find which class has higher likelihood\n",
    "    best_label = None\n",
    "    best_prob = 0\n",
    "\n",
    "    # If both are equal, return 0.5, hard coded \n",
    "    if test_posterior_prob[0] == test_posterior_prob[1]:\n",
    "        return 0.5\n",
    "\n",
    "    for label, prob_label in test_posterior_prob.items():\n",
    "        if prob_label > best_prob:\n",
    "            best_prob = prob_label\n",
    "            best_label = label\n",
    "    \n",
    "    return best_label"
   ]
  },
  {
   "cell_type": "code",
   "execution_count": 11,
   "metadata": {},
   "outputs": [],
   "source": [
    "def find_top_prob_ratio(c1, c2, vocabulary, conditional_probs, top=10):\n",
    "    ratios = dict()\n",
    "\n",
    "    for word in vocabulary:\n",
    "        p_c1_i = conditional_probs[c1][word]\n",
    "        p_c2_i = conditional_probs[c2][word]\n",
    "        if p_c2_i != 0:\n",
    "            r = p_c1_i / p_c2_i\n",
    "            ratios[word] = r\n",
    "\n",
    "    top_ratios = sorted(ratios.items(), key=lambda x: x[1], reverse=True)[:top]\n",
    "    top_ratios = dict(top_ratios)\n",
    "\n",
    "    return top_ratios"
   ]
  },
  {
   "cell_type": "code",
   "execution_count": 12,
   "metadata": {},
   "outputs": [],
   "source": [
    "def find_top_test_ratios(data, vocabulary, prior_probs, conditional_probs, c1, c2, boundary=False, top=3):\n",
    "    ratios = dict()\n",
    "\n",
    "    for test_text in data[\"textPreprocessed\"]:\n",
    "        test_count_vector = find_test_count_vector(test_text, vocabulary)\n",
    "        test_posterior_prob = find_posterior_prob(data, test_count_vector, vocabulary, prior_probs, conditional_probs)\n",
    "        post_c1 = test_posterior_prob[c1]\n",
    "        post_c2 = test_posterior_prob[c2]\n",
    "\n",
    "        if post_c2 != 0:\n",
    "            r = post_c1/post_c2\n",
    "            ratios[test_text] = r\n",
    "\n",
    "    if not boundary:\n",
    "        top_ratios = sorted(ratios.items(), key=lambda x: x[1], reverse=True)[:top]\n",
    "    else:\n",
    "        top_ratios = sorted(ratios.items(), key=lambda x: abs(x[1] - 1))[:top]\n",
    "\n",
    "    top_ratios = dict(top_ratios)\n",
    "    return top_ratios"
   ]
  },
  {
   "cell_type": "markdown",
   "metadata": {},
   "source": [
    "## 1. Supervised model training\n"
   ]
  },
  {
   "cell_type": "code",
   "execution_count": 13,
   "metadata": {},
   "outputs": [],
   "source": [
    "train = pd.read_csv(\"sms_supervised_train.csv\")"
   ]
  },
  {
   "cell_type": "code",
   "execution_count": 14,
   "metadata": {},
   "outputs": [],
   "source": [
    "vocabulary = find_vocabulary(train)"
   ]
  },
  {
   "cell_type": "code",
   "execution_count": 15,
   "metadata": {},
   "outputs": [],
   "source": [
    "count_matrix = find_count_matrix(train, vocabulary)"
   ]
  },
  {
   "cell_type": "code",
   "execution_count": 16,
   "metadata": {},
   "outputs": [],
   "source": [
    "prior_probs = find_prior_prob(train)"
   ]
  },
  {
   "cell_type": "code",
   "execution_count": 17,
   "metadata": {},
   "outputs": [],
   "source": [
    "conditional_probs = find_conditional_prob(train, vocabulary, count_matrix)"
   ]
  },
  {
   "cell_type": "code",
   "execution_count": 18,
   "metadata": {},
   "outputs": [
    {
     "name": "stdout",
     "output_type": "stream",
     "text": [
      "(0, 1.0000000000000027)\n",
      "(1, 0.9999999999999903)\n"
     ]
    }
   ],
   "source": [
    "# check if prob within each class label sum = 1\n",
    "for label in conditional_probs.keys():\n",
    "    print((label, sum(conditional_probs[label].values())))\n",
    "# good enough"
   ]
  },
  {
   "cell_type": "markdown",
   "metadata": {},
   "source": [
    "**1. What are the prior probabilities of the classes P(c) in the training dataset?**"
   ]
  },
  {
   "cell_type": "code",
   "execution_count": 19,
   "metadata": {},
   "outputs": [
    {
     "data": {
      "text/plain": [
       "{0: 0.8, 1: 0.2}"
      ]
     },
     "execution_count": 19,
     "metadata": {},
     "output_type": "execute_result"
    }
   ],
   "source": [
    "prior_probs"
   ]
  },
  {
   "cell_type": "markdown",
   "metadata": {},
   "source": [
    "**2. What are the most probable words in each class? List about 10 per class and their probability values p(c,i)**"
   ]
  },
  {
   "cell_type": "code",
   "execution_count": 20,
   "metadata": {},
   "outputs": [
    {
     "name": "stdout",
     "output_type": "stream",
     "text": [
      "Top 10 probable words in class 0\n",
      "1. P(,|class = 0) = 0.02925414538805876\n",
      "2. P(?|class = 0) = 0.028749763571023264\n",
      "3. P(u|class = 0) = 0.021247084042620264\n",
      "4. P(...|class = 0) = 0.02105794086123195\n",
      "5. P(!|class = 0) = 0.01929260450160772\n",
      "6. P(..|class = 0) = 0.016770695416430236\n",
      "7. P(;|class = 0) = 0.014753168148288254\n",
      "8. P(&|class = 0) = 0.014690120421158817\n",
      "9. P(go|class = 0) = 0.012483449971628523\n",
      "10. P(get|class = 0) = 0.011096399974780909\n",
      "\n",
      "\n",
      "Top 10 probable words in class 1\n",
      "1. P(!|class = 1) = 0.031002363408869735\n",
      "2. P(,|class = 1) = 0.029890170999582927\n",
      "3. P(call|class = 1) = 0.026136521618239955\n",
      "4. P(£|class = 1) = 0.017656054497428054\n",
      "5. P(free|class = 1) = 0.01334630891144168\n",
      "6. P(/|class = 1) = 0.011538996246350618\n",
      "7. P(2|class = 1) = 0.011121924092868066\n",
      "8. P(&|class = 1) = 0.010982900041707216\n",
      "9. P(?|class = 1) = 0.010704851939385513\n",
      "10. P(claim|class = 1) = 0.009731683581259558\n",
      "\n",
      "\n"
     ]
    }
   ],
   "source": [
    "sorted_conditional_probs = {}\n",
    "\n",
    "for label in conditional_probs:\n",
    "    prob_dict = conditional_probs[label]\n",
    "    sorted_items = sorted(prob_dict.items(), key=lambda x: x[1], reverse=True)\n",
    "    sorted_conditional_probs[label] = dict(sorted_items)  \n",
    "\n",
    "for label in sorted_conditional_probs:\n",
    "    print(f\"Top 10 probable words in class {label}\")\n",
    "    for i in range(1, 11):\n",
    "        token = list(sorted_conditional_probs[label].keys())[i]\n",
    "        print(f\"{i}. P({token}|class = {label}) = {sorted_conditional_probs[label][token]}\")\n",
    "    print(\"\\n\")"
   ]
  },
  {
   "cell_type": "markdown",
   "metadata": {},
   "source": [
    "**3. What individual words are most strongly predictive of each class? List the words and the probability ratios R. Ignore ratios where the denominator = 0.**"
   ]
  },
  {
   "cell_type": "markdown",
   "metadata": {},
   "source": [
    "*What 10 words are most strongly predictive of the scam (label=1) class?*"
   ]
  },
  {
   "cell_type": "code",
   "execution_count": 21,
   "metadata": {},
   "outputs": [
    {
     "data": {
      "text/plain": [
       "{'claim': 77.17711664117893,\n",
       " 'award': 70.56193521479217,\n",
       " '£': 70.0106700959266,\n",
       " 'cs': 48.51133046016962,\n",
       " '1000': 41.89614903378285,\n",
       " '150p': 39.691088558320594,\n",
       " 'entry': 39.691088558320594,\n",
       " '100': 35.280967607396086,\n",
       " 'contact': 30.870846656471567,\n",
       " 'service': 30.13582649798415}"
      ]
     },
     "execution_count": 21,
     "metadata": {},
     "output_type": "execute_result"
    }
   ],
   "source": [
    "find_top_prob_ratio(c1=1, c2=0, vocabulary=vocabulary, conditional_probs=conditional_probs, top=10)"
   ]
  },
  {
   "cell_type": "markdown",
   "metadata": {},
   "source": [
    "*What 10 words are most strongly predictive non-malicious (label=0) class?*"
   ]
  },
  {
   "cell_type": "code",
   "execution_count": 22,
   "metadata": {},
   "outputs": [
    {
     "data": {
      "text/plain": [
       "{';': 106.11953849063741,\n",
       " '...': 75.73488430742071,\n",
       " 'ok': 43.08271861799382,\n",
       " 'sorry': 25.849631170796293,\n",
       " 'ask': 24.94262656831221,\n",
       " 'come': 20.86110585713385,\n",
       " 'k': 18.14009204968161,\n",
       " 'leave': 15.872580543471408,\n",
       " 'really': 14.512073639745285,\n",
       " 'say': 14.05857133850325}"
      ]
     },
     "execution_count": 22,
     "metadata": {},
     "output_type": "execute_result"
    }
   ],
   "source": [
    "find_top_prob_ratio(c1=0, c2=1, vocabulary=vocabulary, conditional_probs=conditional_probs, top=10)"
   ]
  },
  {
   "cell_type": "markdown",
   "metadata": {},
   "source": [
    "**Discuss results. Do they seem reasonable? Do you think it will be possible to distinguish the 2 classes using the multinomial naive Bayes model? Why?**"
   ]
  },
  {
   "cell_type": "markdown",
   "metadata": {},
   "source": [
    "Looking at the most probable words in each class, the top 10 most probable words in each class are filled with punctuation tokens instead of actual words, making it hard to distinguish the 2 classes using this specific Bayes Model. For example, the \"!\" token, appears relatively frequently in both classes, with a probability of approx. 2% and 3% respectively.\n",
    "Thus, more text preprocessing may be needed to reduce the dimensionality of our attributes/tokens/vocabulary, which may result in a more realistic representation of probable words within each label.\n",
    "\n",
    "However, results from the ratio R calculations seem promising and reasonable. The words most strongly predictive of the scam class include \"claim\", \"award\", \"service\", \"£\", which may correspond to typical rewards/money related phishing scams, which is to be expected. Likewise, words most strongly predictive of the non-malicious class such as \"ok\", \"k\", \"sorry\" are typically seen in everyday texts and conversations. \n",
    "\n",
    "Ultimately, it is possible to distinguish the 2 classes using the multinomial naive Bayes model, however, in our specific infrastructure/setup, more data preprocessing of the raw sms could further enhance the model's ability to differentiate between class labels."
   ]
  },
  {
   "cell_type": "markdown",
   "metadata": {},
   "source": [
    "## 2. Supervised model evaluation"
   ]
  },
  {
   "cell_type": "code",
   "execution_count": 23,
   "metadata": {
    "collapsed": true
   },
   "outputs": [],
   "source": [
    "test = pd.read_csv(\"sms_test.csv\")"
   ]
  },
  {
   "cell_type": "code",
   "execution_count": 24,
   "metadata": {},
   "outputs": [],
   "source": [
    "test_instances = test[\"textPreprocessed\"]\n",
    "predicted_labels = []\n",
    "for test_instance in test_instances:\n",
    "    predicted_label = classify_test_instance(test, vocabulary, test_instance, prior_probs, conditional_probs)\n",
    "    predicted_labels.append(predicted_label)\n",
    "\n",
    "test[\"predicted class\"] = predicted_labels"
   ]
  },
  {
   "cell_type": "markdown",
   "metadata": {},
   "source": [
    "**1. Report the overall accuracy of your classifier as well as a breakdown by class (e.g. using a confusion matrix or by reporting precision and recall)**"
   ]
  },
  {
   "cell_type": "markdown",
   "metadata": {},
   "source": [
    "Remove instances where the model could not decide between class 0 or 1 (predict 0.5)"
   ]
  },
  {
   "cell_type": "code",
   "execution_count": 25,
   "metadata": {},
   "outputs": [],
   "source": [
    "test_no_draws = test[test[\"predicted class\"] != 0.5]\n",
    "class_true = test_no_draws[\"class\"]\n",
    "class_predict = test_no_draws[\"predicted class\"]"
   ]
  },
  {
   "cell_type": "code",
   "execution_count": 26,
   "metadata": {},
   "outputs": [
    {
     "name": "stdout",
     "output_type": "stream",
     "text": [
      "              precision    recall  f1-score   support\n",
      "\n",
      "           0       0.97      0.99      0.98       752\n",
      "           1       0.93      0.88      0.90       158\n",
      "\n",
      "    accuracy                           0.97       910\n",
      "   macro avg       0.95      0.93      0.94       910\n",
      "weighted avg       0.97      0.97      0.97       910\n",
      "\n"
     ]
    }
   ],
   "source": [
    "print(classification_report(class_true, class_predict))"
   ]
  },
  {
   "cell_type": "code",
   "execution_count": 27,
   "metadata": {},
   "outputs": [
    {
     "name": "stdout",
     "output_type": "stream",
     "text": [
      "[[741  11]\n",
      " [ 19 139]]\n"
     ]
    },
    {
     "data": {
      "image/png": "[encoded data removed]",
      "text/plain": [
       "<Figure size 640x480 with 2 Axes>"
      ]
     },
     "metadata": {},
     "output_type": "display_data"
    }
   ],
   "source": [
    "cm = confusion_matrix(class_true, class_predict)\n",
    "print(cm)\n",
    "sns.heatmap(cm, annot=True, fmt='d')\n",
    "plt.xlabel('Predicted labels')\n",
    "plt.ylabel('True labels')\n",
    "plt.title('Confusion Matrix')\n",
    "plt.show()"
   ]
  },
  {
   "cell_type": "markdown",
   "metadata": {},
   "source": [
    "Overall accuracy = (741+139)/(741+139+11+19) = 0.967 = 0.97, matching the classification report\n",
    "\n",
    "Class 0:\n",
    "- Recall = 0.99\n",
    "- Precision = 0.97\n",
    "\n",
    "Class 1:\n",
    "- Recall = 0.88\n",
    "- Precision = 0.93"
   ]
  },
  {
   "cell_type": "markdown",
   "metadata": {},
   "source": [
    "**2. Report how often your model encountered out-of-vocabulary words in the test set. Were any test items skipped (not classified) due to this problem?**"
   ]
  },
  {
   "cell_type": "code",
   "execution_count": 28,
   "metadata": {},
   "outputs": [
    {
     "name": "stdout",
     "output_type": "stream",
     "text": [
      "{'trouble': 1, '2nite': 5, 'hmv': 1, 'law': 2, 'plot': 1, 'pie': 3, 'drivin': 3, 'realise': 1, 'hook': 3, 'nearly': 1, 'fetch': 1, 'activity': 2, 'inside': 3, 'greet': 1, 'grl': 1, 'manage': 2, '87131': 1, 'journey': 1, 'require': 2, '://': 3, 'daddy': 4, 'asleep': 4, 'market': 2, 'depend': 1, 'prabha': 1, 'wed': 2, 'title': 1, 'piece': 1, 'fault': 3, 'lift': 2, 'girlfrnd': 1, 'boston': 2, 'nyc': 2, 't-mobile': 3, '0845': 2, 'skype': 2, 'mini': 2, 'postcode': 1, 'dreams': 3, 'lmao': 2, 'armand': 1, '1956669': 2, 'possession': 2, 'feelin': 1, 'befor': 1, 'ru': 1, 'sen': 1, 'fire': 1, 'definitely': 1, 'legal': 2, 'holla': 3, 'sup': 1, 'dick': 2, 'harry': 1, 'oz': 3, 'yijue': 1, 'exactly': 2, 'bet': 1, 'esplanade': 2, 'bud': 1, 'din': 2, 'act': 3, '=d': 1, 'challenge': 1, 'wet': 1, '6hrs': 3, '7250i': 1, '0578': 2, 'annoying': 2, 'calling': 3, 'rally': 2, 'pack': 1, 'empty': 3, 'fyi': 2, '81151': 1, 'report': 1, 'gram': 1, 'lay': 2, 'yahoo': 1, 'experience': 2, 'fee': 1, 'k.': 2, 'pg': 1, 'ec2a': 1, 'woke': 2, 'realy': 1, 'lecture': 1, 'cancer': 1, 'fromm': 1, 'aiyar': 1, 'ta': 1, '32': 1, 'infernal': 1, 'affair': 1}\n",
      "Number of unique tokens not classifed = 94\n",
      "Number of instances model encountered out-of-vocab during testing = 160\n"
     ]
    }
   ],
   "source": [
    "test_out_of_vocab = dict()\n",
    "for i in range(len(test)):\n",
    "    text = test.loc[i, \"textPreprocessed\"]\n",
    "    text_tokens = return_tokens(text)\n",
    "    tokens_out_of_vocab = 0\n",
    "\n",
    "    for token in text_tokens:\n",
    "        if token not in vocabulary:\n",
    "            tokens_out_of_vocab += 1\n",
    "            if token not in test_out_of_vocab.keys():\n",
    "                test_out_of_vocab[token] = 1\n",
    "            else:\n",
    "                test_out_of_vocab[token] += 1\n",
    "\n",
    "print(test_out_of_vocab)\n",
    "print(f\"Number of unique tokens not classifed = {len(test_out_of_vocab)}\")\n",
    "print(f\"Number of instances model encountered out-of-vocab during testing = {sum(test_out_of_vocab.values())}\")"
   ]
  },
  {
   "cell_type": "code",
   "execution_count": 29,
   "metadata": {},
   "outputs": [
    {
     "name": "stdout",
     "output_type": "stream",
     "text": [
      "There were 0 test instances skipped\n"
     ]
    }
   ],
   "source": [
    "num_tests_skipped = len(test[test[\"predicted class\"].isna()])\n",
    "print(f\"There were {num_tests_skipped} test instances skipped\")"
   ]
  },
  {
   "cell_type": "markdown",
   "metadata": {},
   "source": [
    "**3. Provide examples of instances classified with high low confidence using ratio of posterior likelihood for each class. Provide some examples of test instances which are:**"
   ]
  },
  {
   "cell_type": "markdown",
   "metadata": {},
   "source": [
    "**a. classified scam (label=1) with high confidence**"
   ]
  },
  {
   "cell_type": "code",
   "execution_count": 30,
   "metadata": {},
   "outputs": [
    {
     "name": "stdout",
     "output_type": "stream",
     "text": [
      "1.\n",
      "Text: . . . 2 ur yes ! £ £ offer claim last chance t 250 16 mobile discount worth cs sub 3.00\n",
      "R score: 1218556157491979.2\n",
      "\n",
      "2.\n",
      "Text: reply reply free re call new offer delivery phone 150 750 tomorrow try contact video min\n",
      "R score: 72050987442.02776\n",
      "\n",
      "3.\n",
      "Text: ? . 4 4 u week £ txt new question name 100 draw thanks enter cash continue support an\n",
      "R score: 322011806.0440202\n",
      "\n"
     ]
    }
   ],
   "source": [
    "result = find_top_test_ratios(test, vocabulary, prior_probs, conditional_probs, c1=1, c2=0)\n",
    "for i, (text, R) in enumerate(result.items(), start=1):\n",
    "    print(f\"{i}.\")\n",
    "    print(f\"Text: {text}\")\n",
    "    print(f\"R score: {R}\")\n",
    "    print()"
   ]
  },
  {
   "cell_type": "markdown",
   "metadata": {},
   "source": [
    "**b. classified non-malicious (label=0) with high confidence**"
   ]
  },
  {
   "cell_type": "code",
   "execution_count": 31,
   "metadata": {},
   "outputs": [
    {
     "name": "stdout",
     "output_type": "stream",
     "text": [
      "1.\n",
      "Text: come , back back ... ... babe\n",
      "R score: 3496694.2349932324\n",
      "\n",
      "2.\n",
      "Text: ? come u pick ok n\n",
      "R score: 501137.3137662168\n",
      "\n",
      "3.\n",
      "Text: ok go ... change\n",
      "R score: 281369.3755832117\n",
      "\n"
     ]
    }
   ],
   "source": [
    "result = find_top_test_ratios(test, vocabulary, prior_probs, conditional_probs, c1=0, c2=1)\n",
    "for i, (text, R) in enumerate(result.items(), start=1):\n",
    "    print(f\"{i}.\")\n",
    "    print(f\"Text: {text}\")\n",
    "    print(f\"R score: {R}\")\n",
    "    print()"
   ]
  },
  {
   "cell_type": "markdown",
   "metadata": {},
   "source": [
    "**c. on the boundary between the 2 classes (R near 1)**"
   ]
  },
  {
   "cell_type": "code",
   "execution_count": 32,
   "metadata": {},
   "outputs": [
    {
     "name": "stdout",
     "output_type": "stream",
     "text": [
      "1.\n",
      "Text: 4 ! ! mate money\n",
      "R score: 0.916100252108639\n",
      "\n",
      "2.\n",
      "Text: . send link picture\n",
      "R score: 0.8252714568964516\n",
      "\n",
      "3.\n",
      "Text: . yes chat\n",
      "R score: 1.2034878671644293\n",
      "\n"
     ]
    }
   ],
   "source": [
    "result = find_top_test_ratios(test, vocabulary, prior_probs, conditional_probs, c1=1, c2=0, boundary=True)\n",
    "for i, (text, R) in enumerate(result.items(), start=1):\n",
    "    print(f\"{i}.\")\n",
    "    print(f\"Text: {text}\")\n",
    "    print(f\"R score: {R}\")\n",
    "    print()"
   ]
  },
  {
   "cell_type": "code",
   "execution_count": 33,
   "metadata": {},
   "outputs": [
    {
     "name": "stdout",
     "output_type": "stream",
     "text": [
      "1.\n",
      "Text: 4 ! ! mate money\n",
      "R score: 1.091583587820486\n",
      "\n",
      "2.\n",
      "Text: . yes chat\n",
      "R score: 0.8309182230113605\n",
      "\n",
      "3.\n",
      "Text: . send link picture\n",
      "R score: 1.2117225085678347\n",
      "\n"
     ]
    }
   ],
   "source": [
    "result = find_top_test_ratios(test, vocabulary, prior_probs, conditional_probs, c1=0, c2=1, boundary=True)\n",
    "for i, (text, R) in enumerate(result.items(), start=1):\n",
    "    print(f\"{i}.\")\n",
    "    print(f\"Text: {text}\")\n",
    "    print(f\"R score: {R}\")\n",
    "    print()"
   ]
  },
  {
   "cell_type": "markdown",
   "metadata": {},
   "source": [
    "Note that here, we should expect to receive the same texts regardless of what c1 or c2 is, which is true, as shown in results."
   ]
  },
  {
   "cell_type": "markdown",
   "metadata": {},
   "source": [
    "**In addition to reporting these points, briefly interpret them. Do the model’s high and low confidence\n",
    "predictions seem reasonable to you? Is one class easier to identify than the other?**"
   ]
  },
  {
   "cell_type": "markdown",
   "metadata": {},
   "source": [
    "The model performs well, having high accuracy and recall/precision per class in the test set. Looking at both recall and precision factors, i.e., the f1 score, the model performs better at predicting non-malicious texts (0.98), compared to scam texts (0.90). The difference may be due to class imbalance in the training set (80/20), where non malicious texts appear more than scams. Because of less occurances of scam instances, the model might not be as well trained on the minority class where there are less examples.\n",
    "\n",
    "The model's predictive capability can be further improved by having larger training datasets which reduce the number of unique tokens that cannot be identified in the test dataset. Fortunately, this issue did not lead to any non-classifications/skips in testing.\n",
    "\n",
    "Additionally, the model's confidence values seem reasonable. The top 3 results in the scam predictions have extremely high confidence, and the contents of the texts reflect this confidence value, tokens such as \"claim\", \"discount\", \"offer\", \"cash\"... are indicative of scam attempts. \n",
    "While there is also high confidence in non-malicious predictions, the degree/magnitude of confidence in scam instances is much higher, where the highest R score of label=0 is approx  3,500,000, compared to approx 1.22E12 in the scam class, almost a million times larger (looking at the number of extra 0s).\n",
    "\n",
    "In summary, based on f1, the model performs better when predicting non-malicious texts, however, looking at confidence, the model is more confident in the scam class, possibly due to more pronounced features."
   ]
  },
  {
   "cell_type": "markdown",
   "metadata": {},
   "source": [
    "## 3. Extending the model with semi-supervised training - Label Propagation"
   ]
  },
  {
   "cell_type": "code",
   "execution_count": 34,
   "metadata": {},
   "outputs": [],
   "source": [
    "# Create a validation set by splitting train dataset into train/validation subset\n",
    "train = pd.read_csv(\"sms_supervised_train.csv\")\n",
    "train_data, validation_data = train_test_split(train, test_size=0.2, random_state=1, stratify=train['class'])\n",
    "\n",
    "train_data.reset_index(inplace=True, drop=True)\n",
    "validation_data.reset_index(inplace=True, drop=True)"
   ]
  },
  {
   "cell_type": "code",
   "execution_count": 35,
   "metadata": {},
   "outputs": [
    {
     "data": {
      "text/html": [
       "<div>\n",
       "<style scoped>\n",
       "    .dataframe tbody tr th:only-of-type {\n",
       "        vertical-align: middle;\n",
       "    }\n",
       "\n",
       "    .dataframe tbody tr th {\n",
       "        vertical-align: top;\n",
       "    }\n",
       "\n",
       "    .dataframe thead th {\n",
       "        text-align: right;\n",
       "    }\n",
       "</style>\n",
       "<table border=\"1\" class=\"dataframe\">\n",
       "  <thead>\n",
       "    <tr style=\"text-align: right;\">\n",
       "      <th></th>\n",
       "      <th>textOriginal</th>\n",
       "      <th>textPreprocessed</th>\n",
       "      <th>class</th>\n",
       "    </tr>\n",
       "  </thead>\n",
       "  <tbody>\n",
       "    <tr>\n",
       "      <th>0</th>\n",
       "      <td>Give her something to drink, if she takes it a...</td>\n",
       "      <td>. . , know take may let give vomit something d...</td>\n",
       "      <td>0</td>\n",
       "    </tr>\n",
       "    <tr>\n",
       "      <th>1</th>\n",
       "      <td>In other news after hassling me to get him wee...</td>\n",
       "      <td>. get week news weed money</td>\n",
       "      <td>0</td>\n",
       "    </tr>\n",
       "    <tr>\n",
       "      <th>2</th>\n",
       "      <td>He's just gonna worry for nothing. And he won'...</td>\n",
       "      <td>. . go he 's just give to nothing worry money</td>\n",
       "      <td>0</td>\n",
       "    </tr>\n",
       "    <tr>\n",
       "      <th>3</th>\n",
       "      <td>I'm nt goin, got somethin on, unless they meet...</td>\n",
       "      <td>4 , , , get lor go ... ... time goin haha unle...</td>\n",
       "      <td>0</td>\n",
       "    </tr>\n",
       "    <tr>\n",
       "      <th>4</th>\n",
       "      <td>Tell my  bad character which u Dnt lik in me. ...</td>\n",
       "      <td>. . . . . 2 character reply u ll ur ... year g...</td>\n",
       "      <td>0</td>\n",
       "    </tr>\n",
       "    <tr>\n",
       "      <th>...</th>\n",
       "      <td>...</td>\n",
       "      <td>...</td>\n",
       "      <td>...</td>\n",
       "    </tr>\n",
       "    <tr>\n",
       "      <th>1595</th>\n",
       "      <td>\\tWe tried to call you re your reply to our sm...</td>\n",
       "      <td>reply reply free re sm text call call 750 try ...</td>\n",
       "      <td>1</td>\n",
       "    </tr>\n",
       "    <tr>\n",
       "      <th>1596</th>\n",
       "      <td>This phone has the weirdest auto correct.</td>\n",
       "      <td>. phone correct weird</td>\n",
       "      <td>0</td>\n",
       "    </tr>\n",
       "    <tr>\n",
       "      <th>1597</th>\n",
       "      <td>We'll join the  &amp;lt;#&amp;gt;  bus</td>\n",
       "      <td>&amp; &amp; ; ; lt # gt join bus</td>\n",
       "      <td>0</td>\n",
       "    </tr>\n",
       "    <tr>\n",
       "      <th>1598</th>\n",
       "      <td>Great! I hope you like your man well endowed. ...</td>\n",
       "      <td>. great hope like ... man ! well &amp; &amp; ; ; lt # ...</td>\n",
       "      <td>0</td>\n",
       "    </tr>\n",
       "    <tr>\n",
       "      <th>1599</th>\n",
       "      <td>Babe ? I lost you ... Will you try rebooting ?</td>\n",
       "      <td>? ? ... try babe lose</td>\n",
       "      <td>0</td>\n",
       "    </tr>\n",
       "  </tbody>\n",
       "</table>\n",
       "<p>1600 rows × 3 columns</p>\n",
       "</div>"
      ],
      "text/plain": [
       "                                           textOriginal  \\\n",
       "0     Give her something to drink, if she takes it a...   \n",
       "1     In other news after hassling me to get him wee...   \n",
       "2     He's just gonna worry for nothing. And he won'...   \n",
       "3     I'm nt goin, got somethin on, unless they meet...   \n",
       "4     Tell my  bad character which u Dnt lik in me. ...   \n",
       "...                                                 ...   \n",
       "1595  \\tWe tried to call you re your reply to our sm...   \n",
       "1596          This phone has the weirdest auto correct.   \n",
       "1597                     We'll join the  &lt;#&gt;  bus   \n",
       "1598  Great! I hope you like your man well endowed. ...   \n",
       "1599     Babe ? I lost you ... Will you try rebooting ?   \n",
       "\n",
       "                                       textPreprocessed  class  \n",
       "0     . . , know take may let give vomit something d...      0  \n",
       "1                            . get week news weed money      0  \n",
       "2         . . go he 's just give to nothing worry money      0  \n",
       "3     4 , , , get lor go ... ... time goin haha unle...      0  \n",
       "4     . . . . . 2 character reply u ll ur ... year g...      0  \n",
       "...                                                 ...    ...  \n",
       "1595  reply reply free re sm text call call 750 try ...      1  \n",
       "1596                              . phone correct weird      0  \n",
       "1597                           & & ; ; lt # gt join bus      0  \n",
       "1598  . great hope like ... man ! well & & ; ; lt # ...      0  \n",
       "1599                              ? ? ... try babe lose      0  \n",
       "\n",
       "[1600 rows x 3 columns]"
      ]
     },
     "execution_count": 35,
     "metadata": {},
     "output_type": "execute_result"
    }
   ],
   "source": [
    "train_data"
   ]
  },
  {
   "cell_type": "code",
   "execution_count": 36,
   "metadata": {},
   "outputs": [],
   "source": [
    "# Train model only on train_data\n",
    "vocabulary = find_vocabulary(train_data)\n",
    "count_matrix = find_count_matrix(train_data, vocabulary)\n",
    "prior_probs = find_prior_prob(train_data)\n",
    "conditional_probs = find_conditional_prob(train_data, vocabulary, count_matrix)"
   ]
  },
  {
   "cell_type": "code",
   "execution_count": 37,
   "metadata": {},
   "outputs": [
    {
     "name": "stdout",
     "output_type": "stream",
     "text": [
      "Cannot classify\n"
     ]
    }
   ],
   "source": [
    "# Classify the unsupervised dataset\n",
    "unlabelled = pd.read_csv(\"sms_unlabelled.csv\")\n",
    "unlabelled_instances = unlabelled[\"textPreprocessed\"]\n",
    "predicted_labels = []\n",
    "for unlabelled_instance in unlabelled_instances:\n",
    "    predicted_label = classify_test_instance(unlabelled, vocabulary, unlabelled_instance, prior_probs, conditional_probs)\n",
    "    predicted_labels.append(predicted_label)\n",
    "\n",
    "unlabelled[\"predicted class\"] = predicted_labels"
   ]
  },
  {
   "cell_type": "code",
   "execution_count": 38,
   "metadata": {},
   "outputs": [
    {
     "data": {
      "text/html": [
       "<div>\n",
       "<style scoped>\n",
       "    .dataframe tbody tr th:only-of-type {\n",
       "        vertical-align: middle;\n",
       "    }\n",
       "\n",
       "    .dataframe tbody tr th {\n",
       "        vertical-align: top;\n",
       "    }\n",
       "\n",
       "    .dataframe thead th {\n",
       "        text-align: right;\n",
       "    }\n",
       "</style>\n",
       "<table border=\"1\" class=\"dataframe\">\n",
       "  <thead>\n",
       "    <tr style=\"text-align: right;\">\n",
       "      <th></th>\n",
       "      <th>textOriginal</th>\n",
       "      <th>textPreprocessed</th>\n",
       "      <th>class</th>\n",
       "      <th>predicted class</th>\n",
       "    </tr>\n",
       "  </thead>\n",
       "  <tbody>\n",
       "    <tr>\n",
       "      <th>0</th>\n",
       "      <td>Your opinion about me? 1. Over 2. Jada 3. Kusr...</td>\n",
       "      <td>opinion ? 1 . . . . . . . . . 2 3 4 lovable 5 ...</td>\n",
       "      <td>0</td>\n",
       "      <td>0.0</td>\n",
       "    </tr>\n",
       "    <tr>\n",
       "      <th>1</th>\n",
       "      <td>Please Stay At Home. To encourage the notion o...</td>\n",
       "      <td>. . . � home home please stay stay citizen ent...</td>\n",
       "      <td>1</td>\n",
       "      <td>0.5</td>\n",
       "    </tr>\n",
       "    <tr>\n",
       "      <th>2</th>\n",
       "      <td>BankOfAmerica Alert 137943. Please follow http...</td>\n",
       "      <td>. please alert follow re-activate</td>\n",
       "      <td>1</td>\n",
       "      <td>1.0</td>\n",
       "    </tr>\n",
       "    <tr>\n",
       "      <th>3</th>\n",
       "      <td>Sorry dude. Dont know how i forgot. Even after...</td>\n",
       "      <td>. . . . . sorry sorry dude know forget even re...</td>\n",
       "      <td>0</td>\n",
       "      <td>0.0</td>\n",
       "    </tr>\n",
       "    <tr>\n",
       "      <th>4</th>\n",
       "      <td>No. I dont want to hear anything</td>\n",
       "      <td>. hear anything</td>\n",
       "      <td>0</td>\n",
       "      <td>0.0</td>\n",
       "    </tr>\n",
       "    <tr>\n",
       "      <th>...</th>\n",
       "      <td>...</td>\n",
       "      <td>...</td>\n",
       "      <td>...</td>\n",
       "      <td>...</td>\n",
       "    </tr>\n",
       "    <tr>\n",
       "      <th>1995</th>\n",
       "      <td>Kay... Since we are out already</td>\n",
       "      <td>already ...</td>\n",
       "      <td>0</td>\n",
       "      <td>0.0</td>\n",
       "    </tr>\n",
       "    <tr>\n",
       "      <th>1996</th>\n",
       "      <td>call now 08707509020 Just 20p per min NTT Ltd...</td>\n",
       "      <td>, call call just rate national per 0870 min 08...</td>\n",
       "      <td>1</td>\n",
       "      <td>1.0</td>\n",
       "    </tr>\n",
       "    <tr>\n",
       "      <th>1997</th>\n",
       "      <td>Are you angry with me. What happen dear</td>\n",
       "      <td>. angry dear happen</td>\n",
       "      <td>0</td>\n",
       "      <td>0.0</td>\n",
       "    </tr>\n",
       "    <tr>\n",
       "      <th>1998</th>\n",
       "      <td>We r outside already.</td>\n",
       "      <td>. already r outside</td>\n",
       "      <td>0</td>\n",
       "      <td>0.0</td>\n",
       "    </tr>\n",
       "    <tr>\n",
       "      <th>1999</th>\n",
       "      <td>The Xmas story is peace.. The Xmas msg is love...</td>\n",
       "      <td>.. .. .. u ... story month love &amp; amp ; msg wi...</td>\n",
       "      <td>0</td>\n",
       "      <td>0.0</td>\n",
       "    </tr>\n",
       "  </tbody>\n",
       "</table>\n",
       "<p>2000 rows × 4 columns</p>\n",
       "</div>"
      ],
      "text/plain": [
       "                                           textOriginal  \\\n",
       "0     Your opinion about me? 1. Over 2. Jada 3. Kusr...   \n",
       "1     Please Stay At Home. To encourage the notion o...   \n",
       "2     BankOfAmerica Alert 137943. Please follow http...   \n",
       "3     Sorry dude. Dont know how i forgot. Even after...   \n",
       "4                      No. I dont want to hear anything   \n",
       "...                                                 ...   \n",
       "1995                    Kay... Since we are out already   \n",
       "1996   call now 08707509020 Just 20p per min NTT Ltd...   \n",
       "1997            Are you angry with me. What happen dear   \n",
       "1998                              We r outside already.   \n",
       "1999  The Xmas story is peace.. The Xmas msg is love...   \n",
       "\n",
       "                                       textPreprocessed  class  \\\n",
       "0     opinion ? 1 . . . . . . . . . 2 3 4 lovable 5 ...      0   \n",
       "1     . . . � home home please stay stay citizen ent...      1   \n",
       "2                     . please alert follow re-activate      1   \n",
       "3     . . . . . sorry sorry dude know forget even re...      0   \n",
       "4                                       . hear anything      0   \n",
       "...                                                 ...    ...   \n",
       "1995                                        already ...      0   \n",
       "1996  , call call just rate national per 0870 min 08...      1   \n",
       "1997                                . angry dear happen      0   \n",
       "1998                                . already r outside      0   \n",
       "1999  .. .. .. u ... story month love & amp ; msg wi...      0   \n",
       "\n",
       "      predicted class  \n",
       "0                 0.0  \n",
       "1                 0.5  \n",
       "2                 1.0  \n",
       "3                 0.0  \n",
       "4                 0.0  \n",
       "...               ...  \n",
       "1995              0.0  \n",
       "1996              1.0  \n",
       "1997              0.0  \n",
       "1998              0.0  \n",
       "1999              0.0  \n",
       "\n",
       "[2000 rows x 4 columns]"
      ]
     },
     "metadata": {},
     "output_type": "display_data"
    },
    {
     "data": {
      "text/html": [
       "<div>\n",
       "<style scoped>\n",
       "    .dataframe tbody tr th:only-of-type {\n",
       "        vertical-align: middle;\n",
       "    }\n",
       "\n",
       "    .dataframe tbody tr th {\n",
       "        vertical-align: top;\n",
       "    }\n",
       "\n",
       "    .dataframe thead th {\n",
       "        text-align: right;\n",
       "    }\n",
       "</style>\n",
       "<table border=\"1\" class=\"dataframe\">\n",
       "  <thead>\n",
       "    <tr style=\"text-align: right;\">\n",
       "      <th></th>\n",
       "      <th>textOriginal</th>\n",
       "      <th>textPreprocessed</th>\n",
       "      <th>class</th>\n",
       "      <th>predicted class</th>\n",
       "    </tr>\n",
       "  </thead>\n",
       "  <tbody>\n",
       "    <tr>\n",
       "      <th>113</th>\n",
       "      <td>ALRITE</td>\n",
       "      <td>alrite</td>\n",
       "      <td>0</td>\n",
       "      <td>NaN</td>\n",
       "    </tr>\n",
       "  </tbody>\n",
       "</table>\n",
       "</div>"
      ],
      "text/plain": [
       "    textOriginal textPreprocessed  class  predicted class\n",
       "113       ALRITE           alrite      0              NaN"
      ]
     },
     "metadata": {},
     "output_type": "display_data"
    },
    {
     "data": {
      "text/html": [
       "<div>\n",
       "<style scoped>\n",
       "    .dataframe tbody tr th:only-of-type {\n",
       "        vertical-align: middle;\n",
       "    }\n",
       "\n",
       "    .dataframe tbody tr th {\n",
       "        vertical-align: top;\n",
       "    }\n",
       "\n",
       "    .dataframe thead th {\n",
       "        text-align: right;\n",
       "    }\n",
       "</style>\n",
       "<table border=\"1\" class=\"dataframe\">\n",
       "  <thead>\n",
       "    <tr style=\"text-align: right;\">\n",
       "      <th></th>\n",
       "      <th>textOriginal</th>\n",
       "      <th>textPreprocessed</th>\n",
       "      <th>class</th>\n",
       "    </tr>\n",
       "  </thead>\n",
       "  <tbody>\n",
       "    <tr>\n",
       "      <th>0</th>\n",
       "      <td>Your opinion about me? 1. Over 2. Jada 3. Kusr...</td>\n",
       "      <td>opinion ? 1 . . . . . . . . . 2 3 4 lovable 5 ...</td>\n",
       "      <td>0.0</td>\n",
       "    </tr>\n",
       "    <tr>\n",
       "      <th>1</th>\n",
       "      <td>Please Stay At Home. To encourage the notion o...</td>\n",
       "      <td>. . . � home home please stay stay citizen ent...</td>\n",
       "      <td>0.5</td>\n",
       "    </tr>\n",
       "    <tr>\n",
       "      <th>2</th>\n",
       "      <td>BankOfAmerica Alert 137943. Please follow http...</td>\n",
       "      <td>. please alert follow re-activate</td>\n",
       "      <td>1.0</td>\n",
       "    </tr>\n",
       "    <tr>\n",
       "      <th>3</th>\n",
       "      <td>Sorry dude. Dont know how i forgot. Even after...</td>\n",
       "      <td>. . . . . sorry sorry dude know forget even re...</td>\n",
       "      <td>0.0</td>\n",
       "    </tr>\n",
       "    <tr>\n",
       "      <th>4</th>\n",
       "      <td>No. I dont want to hear anything</td>\n",
       "      <td>. hear anything</td>\n",
       "      <td>0.0</td>\n",
       "    </tr>\n",
       "  </tbody>\n",
       "</table>\n",
       "</div>"
      ],
      "text/plain": [
       "                                        textOriginal  \\\n",
       "0  Your opinion about me? 1. Over 2. Jada 3. Kusr...   \n",
       "1  Please Stay At Home. To encourage the notion o...   \n",
       "2  BankOfAmerica Alert 137943. Please follow http...   \n",
       "3  Sorry dude. Dont know how i forgot. Even after...   \n",
       "4                   No. I dont want to hear anything   \n",
       "\n",
       "                                    textPreprocessed  class  \n",
       "0  opinion ? 1 . . . . . . . . . 2 3 4 lovable 5 ...    0.0  \n",
       "1  . . . � home home please stay stay citizen ent...    0.5  \n",
       "2                  . please alert follow re-activate    1.0  \n",
       "3  . . . . . sorry sorry dude know forget even re...    0.0  \n",
       "4                                    . hear anything    0.0  "
      ]
     },
     "metadata": {},
     "output_type": "display_data"
    }
   ],
   "source": [
    "# Drop any instances that can not be classified because none of its tokens appeared in vocabulary\n",
    "display(unlabelled)\n",
    "display(unlabelled[unlabelled[\"predicted class\"].isna()])\n",
    "unlabelled.dropna(subset=[\"predicted class\"], inplace=True)\n",
    "unlabelled = unlabelled[[\"textOriginal\", \"textPreprocessed\", \"predicted class\"]]\n",
    "unlabelled.rename(columns={\"predicted class\": \"class\"}, inplace=True)\n",
    "display(unlabelled.head())"
   ]
  },
  {
   "cell_type": "code",
   "execution_count": 39,
   "metadata": {},
   "outputs": [],
   "source": [
    "# Retrain model on train_data + unlabelled data, do not touch validation set\n",
    "expanded_data = pd.concat([train_data, unlabelled], axis=0)\n",
    "expanded_data.reset_index(inplace=True, drop=False)\n",
    "vocabulary = find_vocabulary(expanded_data)\n",
    "count_matrix = find_count_matrix(expanded_data, vocabulary)\n",
    "prior_probs = find_prior_prob(expanded_data)\n",
    "conditional_probs = find_conditional_prob(expanded_data, vocabulary, count_matrix)"
   ]
  },
  {
   "cell_type": "markdown",
   "metadata": {},
   "source": [
    "**1. Is it better to use all of the unlabelled data as described above, or only the instances that the Q1 model could label with high confidence?**"
   ]
  },
  {
   "cell_type": "code",
   "execution_count": 40,
   "metadata": {},
   "outputs": [],
   "source": [
    "def create_model(data):\n",
    "    vocabulary = find_vocabulary(data)\n",
    "    count_matrix = find_count_matrix(data, vocabulary)\n",
    "    prior_probs = find_prior_prob(data)\n",
    "    conditional_probs = find_conditional_prob(data, vocabulary, count_matrix)\n",
    "\n",
    "    return {\"data\": data,\n",
    "            \"vocabulary\": vocabulary,\n",
    "            \"count_matrix\": count_matrix,\n",
    "            \"prior_probs\": prior_probs,\n",
    "            \"conditional_probs\": conditional_probs}"
   ]
  },
  {
   "cell_type": "code",
   "execution_count": 41,
   "metadata": {},
   "outputs": [],
   "source": [
    "def get_top_confident_instances(model, unlabelled, conf=1):\n",
    "    data = model[\"data\"]\n",
    "    vocabulary = model[\"vocabulary\"]\n",
    "    count_matrix = model[\"count_matrix\"]\n",
    "    prior_probs = model[\"prior_probs\"]\n",
    "    conditional_probs = model[\"conditional_probs\"]\n",
    "\n",
    "    # Find R scores for each of the unlabelled instances\n",
    "\n",
    "    # Confidence of scam \n",
    "    scam_confidence = find_top_test_ratios(unlabelled, vocabulary, prior_probs, conditional_probs, c1=1, c2=0, top=len(data))\n",
    "    # Confidence of non-malicious\n",
    "    non_mal_confidence = find_top_test_ratios(unlabelled, vocabulary, prior_probs, conditional_probs, c1=0, c2=1, top=len(data))\n",
    "    \n",
    "    return scam_confidence, non_mal_confidence"
   ]
  },
  {
   "cell_type": "code",
   "execution_count": 42,
   "metadata": {},
   "outputs": [],
   "source": [
    "train_model = create_model(train_data)"
   ]
  },
  {
   "cell_type": "code",
   "execution_count": 43,
   "metadata": {},
   "outputs": [],
   "source": [
    "scam_confidence, non_mal_confidence = get_top_confident_instances(train_model, unlabelled)"
   ]
  },
  {
   "cell_type": "code",
   "execution_count": 44,
   "metadata": {},
   "outputs": [
    {
     "data": {
      "text/plain": [
       "1999"
      ]
     },
     "metadata": {},
     "output_type": "display_data"
    },
    {
     "data": {
      "text/plain": [
       "1460"
      ]
     },
     "metadata": {},
     "output_type": "display_data"
    },
    {
     "data": {
      "text/plain": [
       "470"
      ]
     },
     "metadata": {},
     "output_type": "display_data"
    },
    {
     "data": {
      "text/plain": [
       "{'? . . free free weekend late yes text text call / / £ orange 10 save phone mobile s video opt update camera mths': 21167390446031.344,\n",
       " '? 2 2 fun get + + + ! ! call : new help gold enjoy jamster club credit logo 16': 633851901.7109138,\n",
       " 'get / / / - - - - - deal': 622237.1999647673,\n",
       " '. . . free send get win win take part nokia nokia auction 7250i 86021': 139569.1193761734,\n",
       " '. bill - 150p po box netcollex': 103318.74710382223,\n",
       " '1 . 2 4 free , , , year ! ! ! call v etc special c cinema pass congrats yours': 10665.636441372235,\n",
       " '. 5 reply , order ! win new - question answer chance first harry harry': 3782.551334077054,\n",
       " 'get / / / deal': 1190.6336826069628,\n",
       " 'call phone service': 89.37601583556027,\n",
       " '. . plus gr8 due island': 44.15502651461141,\n",
       " '1 . . message please call new': 16.973510437426825,\n",
       " 'late call customer place': 14.170253569448928,\n",
       " '. . win chance s': 9.344979156531515,\n",
       " '. . , send great stop stop text text girl night service wait chat hi': 6.231378686265578,\n",
       " 'free , get call': 4.935027616482933,\n",
       " 'please dear word': 4.2347102301713075,\n",
       " 'cost': 2.7604076322636595,\n",
       " 'song upload': 2.438352094803029,\n",
       " '. country stamp': 2.0156543370473816,\n",
       " '. reply phone number change': 1.47996935525873,\n",
       " '? ? free call': 1.2949512465651216,\n",
       " '. . complete join': 1.2496746517198905,\n",
       " '. . %': 1.131784520802006,\n",
       " 'please': 1.0751061304605833,\n",
       " 'still customer place': 0.9702119974977104,\n",
       " '. home please call': 0.7747176346370545,\n",
       " 'help': 0.7729141370338247,\n",
       " '. text': 0.6988258426783414,\n",
       " '. free message dear hi hi hi': 0.6900842856535202,\n",
       " '. . pls , call dear': 0.6447564450638649}"
      ]
     },
     "metadata": {},
     "output_type": "display_data"
    },
    {
     "data": {
      "text/plain": [
       "{'. , , , love need miss ya ya ya ya': 5794470.648118587,\n",
       " '.. , sorry late ... right call busy': 1653056.2377514755,\n",
       " '? .. .. today k k special': 1148029.0149148898,\n",
       " '? ? come u go tell tell n': 745105.6817010217,\n",
       " '? . . 8 come pub ok go hello village': 383477.9534208396}"
      ]
     },
     "metadata": {},
     "output_type": "display_data"
    }
   ],
   "source": [
    "display(len(unlabelled))\n",
    "display(len(scam_confidence))\n",
    "display(len(non_mal_confidence))\n",
    "display(dict(sorted(scam_confidence.items(), key=lambda x: x[1], reverse=True)[:30]))\n",
    "display(dict(sorted(non_mal_confidence.items(), key=lambda x: x[1], reverse=True)[:5]))"
   ]
  },
  {
   "cell_type": "code",
   "execution_count": 45,
   "metadata": {},
   "outputs": [
    {
     "data": {
      "text/html": [
       "<div>\n",
       "<style scoped>\n",
       "    .dataframe tbody tr th:only-of-type {\n",
       "        vertical-align: middle;\n",
       "    }\n",
       "\n",
       "    .dataframe tbody tr th {\n",
       "        vertical-align: top;\n",
       "    }\n",
       "\n",
       "    .dataframe thead th {\n",
       "        text-align: right;\n",
       "    }\n",
       "</style>\n",
       "<table border=\"1\" class=\"dataframe\">\n",
       "  <thead>\n",
       "    <tr style=\"text-align: right;\">\n",
       "      <th></th>\n",
       "      <th>textOriginal</th>\n",
       "      <th>textPreprocessed</th>\n",
       "      <th>class</th>\n",
       "      <th>Scam confidence</th>\n",
       "      <th>Non-malicious confidence</th>\n",
       "    </tr>\n",
       "  </thead>\n",
       "  <tbody>\n",
       "    <tr>\n",
       "      <th>0</th>\n",
       "      <td>Your opinion about me? 1. Over 2. Jada 3. Kusr...</td>\n",
       "      <td>opinion ? 1 . . . . . . . . . 2 3 4 lovable 5 ...</td>\n",
       "      <td>0.0</td>\n",
       "      <td>0.0</td>\n",
       "      <td>NaN</td>\n",
       "    </tr>\n",
       "    <tr>\n",
       "      <th>1</th>\n",
       "      <td>Please Stay At Home. To encourage the notion o...</td>\n",
       "      <td>. . . � home home please stay stay citizen ent...</td>\n",
       "      <td>0.5</td>\n",
       "      <td>NaN</td>\n",
       "      <td>NaN</td>\n",
       "    </tr>\n",
       "    <tr>\n",
       "      <th>2</th>\n",
       "      <td>BankOfAmerica Alert 137943. Please follow http...</td>\n",
       "      <td>. please alert follow re-activate</td>\n",
       "      <td>1.0</td>\n",
       "      <td>NaN</td>\n",
       "      <td>0.0</td>\n",
       "    </tr>\n",
       "    <tr>\n",
       "      <th>3</th>\n",
       "      <td>Sorry dude. Dont know how i forgot. Even after...</td>\n",
       "      <td>. . . . . sorry sorry dude know forget even re...</td>\n",
       "      <td>0.0</td>\n",
       "      <td>0.0</td>\n",
       "      <td>NaN</td>\n",
       "    </tr>\n",
       "    <tr>\n",
       "      <th>4</th>\n",
       "      <td>No. I dont want to hear anything</td>\n",
       "      <td>. hear anything</td>\n",
       "      <td>0.0</td>\n",
       "      <td>0.0</td>\n",
       "      <td>NaN</td>\n",
       "    </tr>\n",
       "    <tr>\n",
       "      <th>...</th>\n",
       "      <td>...</td>\n",
       "      <td>...</td>\n",
       "      <td>...</td>\n",
       "      <td>...</td>\n",
       "      <td>...</td>\n",
       "    </tr>\n",
       "    <tr>\n",
       "      <th>1995</th>\n",
       "      <td>Kay... Since we are out already</td>\n",
       "      <td>already ...</td>\n",
       "      <td>0.0</td>\n",
       "      <td>0.0</td>\n",
       "      <td>NaN</td>\n",
       "    </tr>\n",
       "    <tr>\n",
       "      <th>1996</th>\n",
       "      <td>call now 08707509020 Just 20p per min NTT Ltd...</td>\n",
       "      <td>, call call just rate national per 0870 min 08...</td>\n",
       "      <td>1.0</td>\n",
       "      <td>NaN</td>\n",
       "      <td>0.0</td>\n",
       "    </tr>\n",
       "    <tr>\n",
       "      <th>1997</th>\n",
       "      <td>Are you angry with me. What happen dear</td>\n",
       "      <td>. angry dear happen</td>\n",
       "      <td>0.0</td>\n",
       "      <td>0.0</td>\n",
       "      <td>NaN</td>\n",
       "    </tr>\n",
       "    <tr>\n",
       "      <th>1998</th>\n",
       "      <td>We r outside already.</td>\n",
       "      <td>. already r outside</td>\n",
       "      <td>0.0</td>\n",
       "      <td>0.0</td>\n",
       "      <td>NaN</td>\n",
       "    </tr>\n",
       "    <tr>\n",
       "      <th>1999</th>\n",
       "      <td>The Xmas story is peace.. The Xmas msg is love...</td>\n",
       "      <td>.. .. .. u ... story month love &amp; amp ; msg wi...</td>\n",
       "      <td>0.0</td>\n",
       "      <td>0.0</td>\n",
       "      <td>NaN</td>\n",
       "    </tr>\n",
       "  </tbody>\n",
       "</table>\n",
       "<p>1999 rows × 5 columns</p>\n",
       "</div>"
      ],
      "text/plain": [
       "                                           textOriginal  \\\n",
       "0     Your opinion about me? 1. Over 2. Jada 3. Kusr...   \n",
       "1     Please Stay At Home. To encourage the notion o...   \n",
       "2     BankOfAmerica Alert 137943. Please follow http...   \n",
       "3     Sorry dude. Dont know how i forgot. Even after...   \n",
       "4                      No. I dont want to hear anything   \n",
       "...                                                 ...   \n",
       "1995                    Kay... Since we are out already   \n",
       "1996   call now 08707509020 Just 20p per min NTT Ltd...   \n",
       "1997            Are you angry with me. What happen dear   \n",
       "1998                              We r outside already.   \n",
       "1999  The Xmas story is peace.. The Xmas msg is love...   \n",
       "\n",
       "                                       textPreprocessed  class  \\\n",
       "0     opinion ? 1 . . . . . . . . . 2 3 4 lovable 5 ...    0.0   \n",
       "1     . . . � home home please stay stay citizen ent...    0.5   \n",
       "2                     . please alert follow re-activate    1.0   \n",
       "3     . . . . . sorry sorry dude know forget even re...    0.0   \n",
       "4                                       . hear anything    0.0   \n",
       "...                                                 ...    ...   \n",
       "1995                                        already ...    0.0   \n",
       "1996  , call call just rate national per 0870 min 08...    1.0   \n",
       "1997                                . angry dear happen    0.0   \n",
       "1998                                . already r outside    0.0   \n",
       "1999  .. .. .. u ... story month love & amp ; msg wi...    0.0   \n",
       "\n",
       "      Scam confidence  Non-malicious confidence  \n",
       "0                 0.0                       NaN  \n",
       "1                 NaN                       NaN  \n",
       "2                 NaN                       0.0  \n",
       "3                 0.0                       NaN  \n",
       "4                 0.0                       NaN  \n",
       "...               ...                       ...  \n",
       "1995              0.0                       NaN  \n",
       "1996              NaN                       0.0  \n",
       "1997              0.0                       NaN  \n",
       "1998              0.0                       NaN  \n",
       "1999              0.0                       NaN  \n",
       "\n",
       "[1999 rows x 5 columns]"
      ]
     },
     "execution_count": 45,
     "metadata": {},
     "output_type": "execute_result"
    }
   ],
   "source": [
    "unlabelled[\"Scam confidence\"] = unlabelled[\"textPreprocessed\"].apply(lambda x: scam_confidence.get(x, None))\n",
    "unlabelled[\"Non-malicious confidence\"] = unlabelled[\"textPreprocessed\"].apply(lambda x: non_mal_confidence.get(x,None))\n",
    "unlabelled"
   ]
  },
  {
   "cell_type": "code",
   "execution_count": 46,
   "metadata": {},
   "outputs": [],
   "source": [
    "# filtered_unlabelled = unlabelled[(~unlabelled[\"Scam confidence\"].isna()) & (~unlabelled[\"Non-malicious confidence\"].isna())]\n",
    "# filtered_unlabelled = unlabelled[(~unlabelled[\"Scam confidence\"].isna()) | (~unlabelled[\"Non-malicious confidence\"].isna())]\n",
    "# filtered_unlabelled\n",
    "\n",
    "# Create function to get add top X% of Scam conf instance and top Y% of Non-malicious conf inst to the expanded dataset"
   ]
  },
  {
   "cell_type": "code",
   "execution_count": 47,
   "metadata": {},
   "outputs": [],
   "source": [
    "def get_top_confidence(unlabelled, scam_prop, non_mal_prop):\n",
    "    confident_scam_instances = unlabelled[unlabelled[\"Scam confidence\"] > 1]\n",
    "    confident_non_mal_instances = unlabelled[unlabelled[\"Non-malicious confidence\"] > 1]\n",
    "\n",
    "    num_scam = int(len(confident_scam_instances) * scam_prop / 100)\n",
    "    num_non_mal = int(len(confident_non_mal_instances) * non_mal_prop / 100)\n",
    "\n",
    "    # Get the indexes of the top scam confidence values\n",
    "    top_scam_idx = confident_scam_instances.nlargest(num_scam, \"Scam confidence\").index\n",
    "    \n",
    "    # Get the indexes of the top non-malicious confidence values\n",
    "    top_non_mal_idx = confident_non_mal_instances.nlargest(num_non_mal, \"Non-malicious confidence\").index\n",
    "\n",
    "    confident_idx = list(set(top_scam_idx).union(top_non_mal_idx))\n",
    "    unlabelled = unlabelled.iloc[confident_idx]\n",
    "\n",
    "    return unlabelled"
   ]
  },
  {
   "cell_type": "code",
   "execution_count": 48,
   "metadata": {},
   "outputs": [
    {
     "data": {
      "text/html": [
       "<div>\n",
       "<style scoped>\n",
       "    .dataframe tbody tr th:only-of-type {\n",
       "        vertical-align: middle;\n",
       "    }\n",
       "\n",
       "    .dataframe tbody tr th {\n",
       "        vertical-align: top;\n",
       "    }\n",
       "\n",
       "    .dataframe thead th {\n",
       "        text-align: right;\n",
       "    }\n",
       "</style>\n",
       "<table border=\"1\" class=\"dataframe\">\n",
       "  <thead>\n",
       "    <tr style=\"text-align: right;\">\n",
       "      <th></th>\n",
       "      <th>textOriginal</th>\n",
       "      <th>textPreprocessed</th>\n",
       "      <th>class</th>\n",
       "      <th>Scam confidence</th>\n",
       "      <th>Non-malicious confidence</th>\n",
       "    </tr>\n",
       "  </thead>\n",
       "  <tbody>\n",
       "    <tr>\n",
       "      <th>7</th>\n",
       "      <td>4 tacos + 1 rajas burrito, right?</td>\n",
       "      <td>? 1 4 , + right</td>\n",
       "      <td>0.0</td>\n",
       "      <td>0.294439</td>\n",
       "      <td>3.396287</td>\n",
       "    </tr>\n",
       "    <tr>\n",
       "      <th>16</th>\n",
       "      <td>What you doing?how are you?</td>\n",
       "      <td>? ?</td>\n",
       "      <td>0.0</td>\n",
       "      <td>0.036629</td>\n",
       "      <td>27.300425</td>\n",
       "    </tr>\n",
       "    <tr>\n",
       "      <th>1048</th>\n",
       "      <td>You are always putting your business out there...</td>\n",
       "      <td>. . . . , feel think meet why put put make alw...</td>\n",
       "      <td>0.0</td>\n",
       "      <td>0.000000</td>\n",
       "      <td>NaN</td>\n",
       "    </tr>\n",
       "    <tr>\n",
       "      <th>24</th>\n",
       "      <td>You need to get up. Now.</td>\n",
       "      <td>.. up get need</td>\n",
       "      <td>0.0</td>\n",
       "      <td>0.000886</td>\n",
       "      <td>1128.204654</td>\n",
       "    </tr>\n",
       "    <tr>\n",
       "      <th>26</th>\n",
       "      <td>Hello. They are going to the village pub at 8 ...</td>\n",
       "      <td>? . . 8 come pub ok go hello village</td>\n",
       "      <td>0.0</td>\n",
       "      <td>0.000003</td>\n",
       "      <td>383477.953421</td>\n",
       "    </tr>\n",
       "    <tr>\n",
       "      <th>...</th>\n",
       "      <td>...</td>\n",
       "      <td>...</td>\n",
       "      <td>...</td>\n",
       "      <td>...</td>\n",
       "      <td>...</td>\n",
       "    </tr>\n",
       "    <tr>\n",
       "      <th>986</th>\n",
       "      <td>Party's at my place at usf, no charge (but if ...</td>\n",
       "      <td>, , get 's ( ) way charge place yeah room appr...</td>\n",
       "      <td>0.0</td>\n",
       "      <td>0.000000</td>\n",
       "      <td>NaN</td>\n",
       "    </tr>\n",
       "    <tr>\n",
       "      <th>989</th>\n",
       "      <td>Hey happy birthday...</td>\n",
       "      <td>... hey happy birthday</td>\n",
       "      <td>0.0</td>\n",
       "      <td>0.000000</td>\n",
       "      <td>NaN</td>\n",
       "    </tr>\n",
       "    <tr>\n",
       "      <th>995</th>\n",
       "      <td>I place all ur points on e cultures module alr...</td>\n",
       "      <td>. already ur e point place module</td>\n",
       "      <td>0.0</td>\n",
       "      <td>0.000000</td>\n",
       "      <td>NaN</td>\n",
       "    </tr>\n",
       "    <tr>\n",
       "      <th>1010</th>\n",
       "      <td>Get the door, I'm here</td>\n",
       "      <td>, get door</td>\n",
       "      <td>0.0</td>\n",
       "      <td>0.000000</td>\n",
       "      <td>NaN</td>\n",
       "    </tr>\n",
       "    <tr>\n",
       "      <th>1018</th>\n",
       "      <td>Ask g or iouri, I've told the story like ten t...</td>\n",
       "      <td>, like already story tell time ask g ten</td>\n",
       "      <td>0.0</td>\n",
       "      <td>0.000000</td>\n",
       "      <td>NaN</td>\n",
       "    </tr>\n",
       "  </tbody>\n",
       "</table>\n",
       "<p>217 rows × 5 columns</p>\n",
       "</div>"
      ],
      "text/plain": [
       "                                           textOriginal  \\\n",
       "7                     4 tacos + 1 rajas burrito, right?   \n",
       "16                          What you doing?how are you?   \n",
       "1048  You are always putting your business out there...   \n",
       "24                             You need to get up. Now.   \n",
       "26    Hello. They are going to the village pub at 8 ...   \n",
       "...                                                 ...   \n",
       "986   Party's at my place at usf, no charge (but if ...   \n",
       "989                               Hey happy birthday...   \n",
       "995   I place all ur points on e cultures module alr...   \n",
       "1010                             Get the door, I'm here   \n",
       "1018  Ask g or iouri, I've told the story like ten t...   \n",
       "\n",
       "                                       textPreprocessed  class  \\\n",
       "7                                       ? 1 4 , + right    0.0   \n",
       "16                                                  ? ?    0.0   \n",
       "1048  . . . . , feel think meet why put put make alw...    0.0   \n",
       "24                                       .. up get need    0.0   \n",
       "26                 ? . . 8 come pub ok go hello village    0.0   \n",
       "...                                                 ...    ...   \n",
       "986   , , get 's ( ) way charge place yeah room appr...    0.0   \n",
       "989                              ... hey happy birthday    0.0   \n",
       "995                   . already ur e point place module    0.0   \n",
       "1010                                         , get door    0.0   \n",
       "1018           , like already story tell time ask g ten    0.0   \n",
       "\n",
       "      Scam confidence  Non-malicious confidence  \n",
       "7            0.294439                  3.396287  \n",
       "16           0.036629                 27.300425  \n",
       "1048         0.000000                       NaN  \n",
       "24           0.000886               1128.204654  \n",
       "26           0.000003             383477.953421  \n",
       "...               ...                       ...  \n",
       "986          0.000000                       NaN  \n",
       "989          0.000000                       NaN  \n",
       "995          0.000000                       NaN  \n",
       "1010         0.000000                       NaN  \n",
       "1018         0.000000                       NaN  \n",
       "\n",
       "[217 rows x 5 columns]"
      ]
     },
     "execution_count": 48,
     "metadata": {},
     "output_type": "execute_result"
    }
   ],
   "source": [
    "confident_unlabelled = get_top_confidence(unlabelled, 100, 100)\n",
    "confident_unlabelled"
   ]
  },
  {
   "cell_type": "code",
   "execution_count": 49,
   "metadata": {},
   "outputs": [],
   "source": [
    "expanded_data = pd.concat([train_data, confident_unlabelled[[\"textOriginal\", \"textPreprocessed\", \"class\"]]], axis=0)\n",
    "expanded_data.reset_index(drop=True, inplace=True)"
   ]
  },
  {
   "cell_type": "code",
   "execution_count": 50,
   "metadata": {},
   "outputs": [],
   "source": [
    "expanded_model = create_model(expanded_data)"
   ]
  },
  {
   "cell_type": "code",
   "execution_count": 51,
   "metadata": {},
   "outputs": [],
   "source": [
    "def predict_dataset(model, test):\n",
    "    test_instances = test[\"textPreprocessed\"]\n",
    "    \n",
    "    vocabulary = model[\"vocabulary\"]\n",
    "    prior_probs = model[\"prior_probs\"]\n",
    "    conditional_probs = model[\"conditional_probs\"]\n",
    "    \n",
    "    predicted_labels = []\n",
    "    for test_instance in test_instances:\n",
    "        predicted_label = classify_test_instance(test, vocabulary, test_instance, prior_probs, conditional_probs)\n",
    "        predicted_labels.append(predicted_label)\n",
    "\n",
    "    test[\"predicted class\"] = predicted_labels\n",
    "\n",
    "    return test"
   ]
  },
  {
   "cell_type": "code",
   "execution_count": 52,
   "metadata": {},
   "outputs": [],
   "source": [
    "def report_predictions(test):\n",
    "    test_no_draws = test[test[\"predicted class\"] != 0.5]\n",
    "    class_true = test_no_draws[\"class\"]\n",
    "    class_predict = test_no_draws[\"predicted class\"]\n",
    "    print(classification_report(class_true, class_predict))\n",
    "    cm = confusion_matrix(class_true, class_predict)\n",
    "    print(cm)\n",
    "    sns.heatmap(cm, annot=True, fmt='d')\n",
    "    plt.xlabel('Predicted labels')\n",
    "    plt.ylabel('True labels')\n",
    "    plt.title('Confusion Matrix')\n",
    "    plt.show()"
   ]
  },
  {
   "cell_type": "code",
   "execution_count": 53,
   "metadata": {},
   "outputs": [
    {
     "name": "stdout",
     "output_type": "stream",
     "text": [
      "              precision    recall  f1-score   support\n",
      "\n",
      "           0       0.98      0.93      0.96       739\n",
      "           1       0.73      0.89      0.80       146\n",
      "\n",
      "    accuracy                           0.93       885\n",
      "   macro avg       0.85      0.91      0.88       885\n",
      "weighted avg       0.94      0.93      0.93       885\n",
      "\n",
      "[[690  49]\n",
      " [ 16 130]]\n"
     ]
    },
    {
     "data": {
      "image/png": "[encoded data removed]",
      "text/plain": [
       "<Figure size 640x480 with 2 Axes>"
      ]
     },
     "metadata": {},
     "output_type": "display_data"
    }
   ],
   "source": [
    "test = predict_dataset(expanded_model, test)\n",
    "report_predictions(test)"
   ]
  },
  {
   "cell_type": "code",
   "execution_count": 54,
   "metadata": {},
   "outputs": [],
   "source": [
    "# Entire pipeline\n",
    "def pipeline(train_data, validation_data, unlabelled_data, test_data):\n",
    "    \n",
    "    # Create training model based on training data\n",
    "    train_model = create_model(train_data)\n",
    "\n",
    "    # Use the model to get most confident instances from unlabelled data\n",
    "    scam_confidence, non_mal_confidence = get_top_confident_instances(train_model, unlabelled_data)\n",
    "    unlabelled_data[\"Scam confidence\"] = unlabelled_data[\"textPreprocessed\"].apply(lambda x: scam_confidence.get(x, None))\n",
    "    unlabelled_data[\"Non-malicious confidence\"] = unlabelled_data[\"textPreprocessed\"].apply(lambda x: non_mal_confidence.get(x,None))\n",
    "\n",
    "    confident_unlabelled = get_top_confidence(unlabelled_data, 100, 100)\n",
    "    \n",
    "    expanded_data = pd.concat([train_data, confident_unlabelled[[\"textOriginal\", \"textPreprocessed\", \"class\"]]], axis=0)\n",
    "    expanded_data.reset_index(drop=True, inplace=True)\n",
    "\n",
    "    # Create expanded model based on supervised data and unlabelled data\n",
    "    expanded_model = create_model(expanded_data)\n",
    "    test_data = predict_dataset(expanded_model, test_data)\n",
    "    report_predictions(test_data)"
   ]
  },
  {
   "cell_type": "code",
   "execution_count": 55,
   "metadata": {},
   "outputs": [
    {
     "name": "stdout",
     "output_type": "stream",
     "text": [
      "              precision    recall  f1-score   support\n",
      "\n",
      "           0       0.97      0.93      0.95       750\n",
      "           1       0.72      0.89      0.80       158\n",
      "\n",
      "    accuracy                           0.92       908\n",
      "   macro avg       0.85      0.91      0.87       908\n",
      "weighted avg       0.93      0.92      0.92       908\n",
      "\n",
      "[[696  54]\n",
      " [ 18 140]]\n"
     ]
    },
    {
     "data": {
      "image/png": "[encoded data removed]",
      "text/plain": [
       "<Figure size 640x480 with 2 Axes>"
      ]
     },
     "metadata": {},
     "output_type": "display_data"
    }
   ],
   "source": [
    "pipeline(train, 0, unlabelled, test)"
   ]
  },
  {
   "cell_type": "code",
   "execution_count": 56,
   "metadata": {},
   "outputs": [],
   "source": [
    "# Entire pipeline\n",
    "def pipeline1(train_data, validation_data, unlabelled_data, test_data):\n",
    "    train_model = create_model(train_data)\n",
    "    test_data = predict_dataset(train_model, test_data)\n",
    "    report_predictions(test_data)"
   ]
  },
  {
   "cell_type": "code",
   "execution_count": 57,
   "metadata": {},
   "outputs": [
    {
     "name": "stdout",
     "output_type": "stream",
     "text": [
      "              precision    recall  f1-score   support\n",
      "\n",
      "           0       0.97      0.99      0.98       752\n",
      "           1       0.93      0.88      0.90       158\n",
      "\n",
      "    accuracy                           0.97       910\n",
      "   macro avg       0.95      0.93      0.94       910\n",
      "weighted avg       0.97      0.97      0.97       910\n",
      "\n",
      "[[741  11]\n",
      " [ 19 139]]\n"
     ]
    },
    {
     "data": {
      "image/png": "[encoded data removed]",
      "text/plain": [
       "<Figure size 640x480 with 2 Axes>"
      ]
     },
     "metadata": {},
     "output_type": "display_data"
    }
   ],
   "source": [
    "pipeline1(train, 0, 0, test)"
   ]
  },
  {
   "cell_type": "markdown",
   "metadata": {},
   "source": [
    "**2.Do you get a different result if you iteratively update the model, retraining on only a portion of the unlabelled data each time? For example, use the Q1 model to label 50% of the unlabelled data, retrain, use the retrained model to classify the remaining 50% of the data, and then train the final model?**"
   ]
  },
  {
   "cell_type": "markdown",
   "metadata": {},
   "source": [
    "**In your write-up, explain your approach and give the reasoning behind your implementation choices.\n",
    "Show results on the training and/or validation set to support your discussion. Your response should be\n",
    "no more than 500 words.**"
   ]
  },
  {
   "cell_type": "markdown",
   "metadata": {},
   "source": [
    "## 4. Supervised model evaluation"
   ]
  },
  {
   "cell_type": "code",
   "execution_count": null,
   "metadata": {
    "collapsed": true
   },
   "outputs": [],
   "source": []
  }
 ],
 "metadata": {
  "kernelspec": {
   "display_name": "base",
   "language": "python",
   "name": "python3"
  },
  "language_info": {
   "codemirror_mode": {
    "name": "ipython",
    "version": 3
   },
   "file_extension": ".py",
   "mimetype": "text/x-python",
   "name": "python",
   "nbconvert_exporter": "python",
   "pygments_lexer": "ipython3",
   "version": "3.11.7"
  }
 },
 "nbformat": 4,
 "nbformat_minor": 4
}
