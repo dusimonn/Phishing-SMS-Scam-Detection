{
 "cells": [
  {
   "cell_type": "markdown",
   "metadata": {},
   "source": [
    "##### ### The University of Melbourne, School of Computing and Information Systems\n",
    "# COMP30027 Machine Learning, 2025 Semester 1\n",
    "\n",
    "## Assignment 1: Scam detection with naive Bayes\n"
   ]
  },
  {
   "cell_type": "markdown",
   "metadata": {},
   "source": [
    "**Student ID(s):**     `1352062`\n"
   ]
  },
  {
   "cell_type": "markdown",
   "metadata": {},
   "source": [
    "This iPython notebook is a template which you will use for your Assignment 1 submission.\n",
    "\n",
    "**NOTE: YOU SHOULD ADD YOUR RESULTS, GRAPHS, AND FIGURES FROM YOUR OBSERVATIONS IN THIS FILE TO YOUR REPORT (the PDF file).** Results, figures, etc. which appear in this file but are NOT included in your report will not be marked.\n",
    "\n",
    "**Adding proper comments to your code is MANDATORY. **"
   ]
  },
  {
   "cell_type": "markdown",
   "metadata": {},
   "source": [
    "## 0. Infrastructure and setup"
   ]
  },
  {
   "cell_type": "code",
   "execution_count": 125,
   "metadata": {},
   "outputs": [],
   "source": [
    "import numpy as np\n",
    "import pandas as pd\n",
    "import math\n",
    "from sklearn.metrics import classification_report, confusion_matrix\n",
    "import matplotlib.pyplot as plt\n",
    "import seaborn as sns\n",
    "from sklearn.model_selection import train_test_split"
   ]
  },
  {
   "cell_type": "code",
   "execution_count": 126,
   "metadata": {},
   "outputs": [],
   "source": [
    "def return_tokens(processed_text):\n",
    "    \"\"\"\n",
    "    Given a preprocessed string/instance, return its tokens and their counts.\n",
    "    \"\"\"\n",
    "    token_counts = dict()\n",
    "    \n",
    "    if isinstance(processed_text, str):\n",
    "        # Split the string into words/tokens\n",
    "        processed_text = processed_text.split(\" \")\n",
    "        # Count the occurrences of each token\n",
    "        for token in processed_text:\n",
    "            if token in token_counts:\n",
    "                token_counts[token] += 1\n",
    "            else:\n",
    "                token_counts[token] = 1\n",
    "    else:\n",
    "        # Empty string classified as a float for some reason\n",
    "        token_counts = {\"\": 1}\n",
    "\n",
    "    return token_counts"
   ]
  },
  {
   "cell_type": "code",
   "execution_count": 127,
   "metadata": {},
   "outputs": [],
   "source": [
    "def find_vocabulary(data):\n",
    "    \"\"\"\n",
    "    Find the list of every word which occurs in the  dataset (every word in textPreprocessed)\n",
    "    \"\"\"\n",
    "    vocabulary = []\n",
    "\n",
    "    for i in range(len(data)):\n",
    "        processed_text = return_tokens(data.loc[i, \"textPreprocessed\"]).keys()\n",
    "        vocabulary = vocabulary + list(processed_text)\n",
    "\n",
    "    vocabulary = sorted(list(set(vocabulary)))\n",
    "    return vocabulary"
   ]
  },
  {
   "cell_type": "code",
   "execution_count": 128,
   "metadata": {},
   "outputs": [],
   "source": [
    "def find_count_matrix(data, vocabulary):\n",
    "    \"\"\"\n",
    "    Find the count matrix, which is a matrix of size N*V where N is the number of instances in the training data \n",
    "    and V is the number of words in the vocabulary.  \n",
    "    Each cell in the matrix represents the number of times a given word appeared in a given message \n",
    "    \"\"\"\n",
    "\n",
    "    N = len(data)\n",
    "    V = len(vocabulary)\n",
    "\n",
    "    # Intialise matrix N*V with 0s\n",
    "    count_matrix = np.zeros((N,V))\n",
    "    count_matrix = pd.DataFrame(count_matrix)\n",
    "    count_matrix.columns = vocabulary\n",
    "\n",
    "    # Iterate over each row - instance \n",
    "    for i in range(N):\n",
    "        instance_token_counts = return_tokens(data.loc[i, \"textPreprocessed\"])\n",
    "        for token in instance_token_counts.keys():\n",
    "            count_matrix.loc[i, token] = instance_token_counts[token]\n",
    "    \n",
    "    return count_matrix"
   ]
  },
  {
   "cell_type": "code",
   "execution_count": 129,
   "metadata": {},
   "outputs": [],
   "source": [
    "def find_prior_prob(data):\n",
    "    \"\"\"\n",
    "    Returns a dictionary of the prior probability of each class P(class)\n",
    "    \"\"\"\n",
    "    prior_probs = dict()\n",
    "\n",
    "    labels = np.unique(data[\"class\"])\n",
    "    for label in labels:\n",
    "        prior_probs[int(label)] = len(data[data[\"class\"]==label])/len(data)\n",
    "\n",
    "    return prior_probs"
   ]
  },
  {
   "cell_type": "code",
   "execution_count": 130,
   "metadata": {},
   "outputs": [],
   "source": [
    "def calc_p_c_i(data, count_matrix, label, word, V=0, alpha=0):\n",
    "    \"\"\"\n",
    "    p(word | label) = count(c,i) + alpha / total(c) + V*alpha\n",
    "    count(c,i) is the total count of times word i appears in messages from class c\n",
    "    total(c) is the total count of words in class c\n",
    "    Alpha is smoothing factor used for Laplace smoothing, defaulted to 0 (no smoothing)\n",
    "    V is the length of the count vector of a test instance\n",
    "    \"\"\"\n",
    "    label_indexes = data[data[\"class\"] == label].index\n",
    "    count_matrix = count_matrix.iloc[label_indexes]\n",
    "    word_counts = np.sum(count_matrix[word]) + alpha\n",
    "    label_counts = np.sum(count_matrix, axis=0).sum() + (V*alpha)\n",
    "    \n",
    "    return float(word_counts / label_counts)"
   ]
  },
  {
   "cell_type": "code",
   "execution_count": 131,
   "metadata": {},
   "outputs": [],
   "source": [
    "def find_conditional_prob(data, vocabulary, count_matrix):\n",
    "    \"\"\"\n",
    "    Return dictionary conditional probabilities of each token in a class\n",
    "    \"\"\"\n",
    "    conditional_probs = {int(label): None for label in data[\"class\"].unique()}\n",
    "    for label in conditional_probs.keys():\n",
    "        conditional_probs[label] = {word: 0 for word in vocabulary}\n",
    "\n",
    "        for word in vocabulary:\n",
    "            conditional_probs[label][word] = calc_p_c_i(data, count_matrix, label, word, V=len(vocabulary), alpha=1)\n",
    "    \n",
    "    return conditional_probs"
   ]
  },
  {
   "cell_type": "code",
   "execution_count": 132,
   "metadata": {},
   "outputs": [],
   "source": [
    "def find_test_count_vector(test_text, vocabulary):\n",
    "    \"\"\"\n",
    "    Find the count vector of a test instance\n",
    "    \"\"\"\n",
    "    count_vector = np.zeros((1, len(vocabulary)))[0]\n",
    "    test_token_counts = return_tokens(test_text)\n",
    "\n",
    "    for i in range(len(vocabulary)):\n",
    "        token = vocabulary[i]\n",
    "        if token in test_token_counts.keys():\n",
    "            count_vector[i] = test_token_counts[token]\n",
    "    \n",
    "    return count_vector"
   ]
  },
  {
   "cell_type": "code",
   "execution_count": 133,
   "metadata": {},
   "outputs": [],
   "source": [
    "def find_posterior_prob(data, count_vector, vocabulary, prior_probs, conditional_probs):\n",
    "    \"\"\"\n",
    "    Find posterior probability P(class = label | count = count vector) -> P(class = label) * P(count|c)\n",
    "    \"\"\"\n",
    "    posterior_probs = {int(label): None for label in data[\"class\"].unique()}\n",
    "    for label in posterior_probs.keys():\n",
    "        p_class = prior_probs[label]\n",
    "        p_count_c = math.factorial(int(sum(count_vector))) / math.prod([math.factorial(int(x)) for x in count_vector])\n",
    "        test_token_indexes = [i for i in range(len(count_vector)) if count_vector[i] != 0]\n",
    "\n",
    "        for token_index in test_token_indexes:\n",
    "            p_c_i = conditional_probs[label][vocabulary[token_index]]\n",
    "\n",
    "            # Original formula\n",
    "            p_count_c = p_count_c * math.pow(p_c_i, count_vector[token_index])\n",
    "\n",
    "            # Or take log to avoid underflow\n",
    "            # prob = math.pow(p_c_i, count_vector[token_index])\n",
    "            # if prob == 0:\n",
    "            #     p_count_c = p_count_c + 0\n",
    "            # else:\n",
    "            #     p_count_c = p_count_c + math.log(prob)\n",
    "            \n",
    "        p_c_count = p_class * p_count_c\n",
    "        posterior_probs[label] = p_c_count\n",
    "\n",
    "    return posterior_probs"
   ]
  },
  {
   "cell_type": "code",
   "execution_count": 134,
   "metadata": {},
   "outputs": [],
   "source": [
    "def classify_test_instance(data, vocabulary, test_text, prior_probs, conditional_probs):\n",
    "    \"\"\"\n",
    "    Given a string, classify it as 0 - non malicious, or 1 - scam\n",
    "    \"\"\"\n",
    "    test_count_vector = find_test_count_vector(test_text, vocabulary)\n",
    "\n",
    "    # Count vector all zeroes so cannot classify\n",
    "    if np.count_nonzero(test_count_vector) == 0:\n",
    "        print(\"Cannot classify\")\n",
    "        print(test_text)\n",
    "        return None\n",
    "    \n",
    "    test_posterior_prob = find_posterior_prob(data, test_count_vector, vocabulary, prior_probs, conditional_probs)\n",
    "    # Find which class has higher likelihood\n",
    "    best_label = None\n",
    "    best_prob = 0\n",
    "\n",
    "    # If both are equal, return 0.5, hard coded \n",
    "    if test_posterior_prob[0] == test_posterior_prob[1]:\n",
    "        return 0.5\n",
    "\n",
    "    for label, prob_label in test_posterior_prob.items():\n",
    "        if prob_label > best_prob:\n",
    "            best_prob = prob_label\n",
    "            best_label = label\n",
    "    \n",
    "    return best_label"
   ]
  },
  {
   "cell_type": "code",
   "execution_count": 135,
   "metadata": {},
   "outputs": [],
   "source": [
    "def find_top_prob_ratio(c1, c2, vocabulary, conditional_probs, top=10):\n",
    "    ratios = dict()\n",
    "\n",
    "    for word in vocabulary:\n",
    "        p_c1_i = conditional_probs[c1][word]\n",
    "        p_c2_i = conditional_probs[c2][word]\n",
    "        if p_c2_i != 0:\n",
    "            r = p_c1_i / p_c2_i\n",
    "            ratios[word] = r\n",
    "\n",
    "    top_ratios = sorted(ratios.items(), key=lambda x: x[1], reverse=True)[:top]\n",
    "    top_ratios = dict(top_ratios)\n",
    "\n",
    "    return top_ratios"
   ]
  },
  {
   "cell_type": "code",
   "execution_count": 136,
   "metadata": {},
   "outputs": [],
   "source": [
    "def find_top_test_ratios(data, vocabulary, prior_probs, conditional_probs, c1, c2, boundary=False, top=3):\n",
    "    ratios = dict()\n",
    "\n",
    "    for test_text in data[\"textPreprocessed\"]:\n",
    "        test_count_vector = find_test_count_vector(test_text, vocabulary)\n",
    "        test_posterior_prob = find_posterior_prob(data, test_count_vector, vocabulary, prior_probs, conditional_probs)\n",
    "        post_c1 = test_posterior_prob[c1]\n",
    "        post_c2 = test_posterior_prob[c2]\n",
    "\n",
    "        if post_c2 != 0:\n",
    "            r = post_c1/post_c2\n",
    "            ratios[test_text] = r\n",
    "\n",
    "    if not boundary:\n",
    "        top_ratios = sorted(ratios.items(), key=lambda x: x[1], reverse=True)[:top]\n",
    "    else:\n",
    "        top_ratios = sorted(ratios.items(), key=lambda x: abs(x[1] - 1))[:top]\n",
    "\n",
    "    top_ratios = dict(top_ratios)\n",
    "    return top_ratios"
   ]
  },
  {
   "cell_type": "markdown",
   "metadata": {},
   "source": [
    "## 1. Supervised model training\n"
   ]
  },
  {
   "cell_type": "code",
   "execution_count": 137,
   "metadata": {},
   "outputs": [],
   "source": [
    "train = pd.read_csv(\"sms_supervised_train.csv\")"
   ]
  },
  {
   "cell_type": "code",
   "execution_count": 138,
   "metadata": {},
   "outputs": [],
   "source": [
    "vocabulary = find_vocabulary(train)"
   ]
  },
  {
   "cell_type": "code",
   "execution_count": 139,
   "metadata": {},
   "outputs": [],
   "source": [
    "count_matrix = find_count_matrix(train, vocabulary)"
   ]
  },
  {
   "cell_type": "code",
   "execution_count": 140,
   "metadata": {},
   "outputs": [],
   "source": [
    "prior_probs = find_prior_prob(train)"
   ]
  },
  {
   "cell_type": "code",
   "execution_count": 141,
   "metadata": {},
   "outputs": [],
   "source": [
    "conditional_probs = find_conditional_prob(train, vocabulary, count_matrix)"
   ]
  },
  {
   "cell_type": "code",
   "execution_count": 142,
   "metadata": {},
   "outputs": [
    {
     "name": "stdout",
     "output_type": "stream",
     "text": [
      "(0, 1.0000000000000082)\n",
      "(1, 0.9999999999999685)\n"
     ]
    }
   ],
   "source": [
    "# check if prob within each class label sum = 1\n",
    "for label in conditional_probs.keys():\n",
    "    print((label, sum(conditional_probs[label].values())))\n",
    "# good enough"
   ]
  },
  {
   "cell_type": "markdown",
   "metadata": {},
   "source": [
    "**1. What are the prior probabilities of the classes P(c) in the training dataset?**"
   ]
  },
  {
   "cell_type": "code",
   "execution_count": 143,
   "metadata": {},
   "outputs": [
    {
     "data": {
      "text/plain": [
       "{0: 0.8, 1: 0.2}"
      ]
     },
     "execution_count": 143,
     "metadata": {},
     "output_type": "execute_result"
    }
   ],
   "source": [
    "prior_probs"
   ]
  },
  {
   "cell_type": "markdown",
   "metadata": {},
   "source": [
    "**2. What are the most probable words in each class? List about 10 per class and their probability values p(c,i)**"
   ]
  },
  {
   "cell_type": "code",
   "execution_count": 144,
   "metadata": {},
   "outputs": [
    {
     "name": "stdout",
     "output_type": "stream",
     "text": [
      "Top 10 probable words in class 0\n",
      "1. P(,|class = 0) = 0.026024177300201477\n",
      "2. P(?|class = 0) = 0.025576449518692635\n",
      "3. P(u|class = 0) = 0.0189164987687486\n",
      "4. P(...|class = 0) = 0.018748600850682785\n",
      "5. P(!|class = 0) = 0.017181553615401836\n",
      "6. P(..|class = 0) = 0.014942914707857623\n",
      "7. P(;|class = 0) = 0.013152003581822252\n",
      "8. P(&|class = 0) = 0.013096037609133646\n",
      "9. P(go|class = 0) = 0.01113722856503246\n",
      "10. P(get|class = 0) = 0.009905977165883144\n",
      "\n",
      "\n",
      "Top 10 probable words in class 1\n",
      "1. P(!|class = 1) = 0.02434782608695652\n",
      "2. P(,|class = 1) = 0.023478260869565216\n",
      "3. P(call|class = 1) = 0.020543478260869566\n",
      "4. P(£|class = 1) = 0.01391304347826087\n",
      "5. P(free|class = 1) = 0.010543478260869566\n",
      "6. P(/|class = 1) = 0.009130434782608696\n",
      "7. P(2|class = 1) = 0.008804347826086956\n",
      "8. P(&|class = 1) = 0.008695652173913044\n",
      "9. P(?|class = 1) = 0.008478260869565218\n",
      "10. P(claim|class = 1) = 0.007717391304347826\n",
      "\n",
      "\n"
     ]
    }
   ],
   "source": [
    "sorted_conditional_probs = {}\n",
    "\n",
    "for label in conditional_probs:\n",
    "    prob_dict = conditional_probs[label]\n",
    "    sorted_items = sorted(prob_dict.items(), key=lambda x: x[1], reverse=True)\n",
    "    sorted_conditional_probs[label] = dict(sorted_items)  \n",
    "\n",
    "for label in sorted_conditional_probs:\n",
    "    print(f\"Top 10 probable words in class {label}\")\n",
    "    for i in range(1, 11):\n",
    "        token = list(sorted_conditional_probs[label].keys())[i]\n",
    "        print(f\"{i}. P({token}|class = {label}) = {sorted_conditional_probs[label][token]}\")\n",
    "    print(\"\\n\")"
   ]
  },
  {
   "cell_type": "markdown",
   "metadata": {},
   "source": [
    "**3. What individual words are most strongly predictive of each class? List the words and the probability ratios R. Ignore ratios where the denominator = 0.**"
   ]
  },
  {
   "cell_type": "markdown",
   "metadata": {},
   "source": [
    "*What 10 words are most strongly predictive of the scam (label=1) class?*"
   ]
  },
  {
   "cell_type": "code",
   "execution_count": 145,
   "metadata": {},
   "outputs": [
    {
     "data": {
      "text/plain": [
       "{'prize': 99.05086956521738,\n",
       " 'tone': 64.09173913043477,\n",
       " '£': 49.71965217391304,\n",
       " 'select': 46.61217391304348,\n",
       " 'claim': 45.96478260869565,\n",
       " 'paytm': 36.901304347826084,\n",
       " 'code': 34.95913043478261,\n",
       " 'award': 32.04586956521739,\n",
       " 'won': 31.074782608695653,\n",
       " '18': 29.13260869565217}"
      ]
     },
     "execution_count": 145,
     "metadata": {},
     "output_type": "execute_result"
    }
   ],
   "source": [
    "find_top_prob_ratio(c1=1, c2=0, vocabulary=vocabulary, conditional_probs=conditional_probs, top=10)"
   ]
  },
  {
   "cell_type": "markdown",
   "metadata": {},
   "source": [
    "*What 10 words are most strongly predictive non-malicious (label=0) class?*"
   ]
  },
  {
   "cell_type": "code",
   "execution_count": 146,
   "metadata": {},
   "outputs": [
    {
     "data": {
      "text/plain": [
       "{';': 60.49921647638236,\n",
       " '...': 57.4957092754272,\n",
       " 'gt': 54.06312961719275,\n",
       " 'lt': 53.548242668457576,\n",
       " ':)': 47.88448623237072,\n",
       " 'ü': 31.922990821580477,\n",
       " 'lor': 28.833669129169465,\n",
       " 'hope': 24.714573539288114,\n",
       " 'ok': 24.714573539288114,\n",
       " 'd': 21.110364898141928}"
      ]
     },
     "execution_count": 146,
     "metadata": {},
     "output_type": "execute_result"
    }
   ],
   "source": [
    "find_top_prob_ratio(c1=0, c2=1, vocabulary=vocabulary, conditional_probs=conditional_probs, top=10)"
   ]
  },
  {
   "cell_type": "markdown",
   "metadata": {},
   "source": [
    "**Discuss results. Do they seem reasonable? Do you think it will be possible to distinguish the 2 classes using the multinomial naive Bayes model? Why?**"
   ]
  },
  {
   "cell_type": "markdown",
   "metadata": {},
   "source": [
    "Looking at the most probable words in each class, the top 10 most probable words in each class are filled with punctuation tokens instead of actual words, making it hard to distinguish the 2 classes using this specific Bayes Model. For example, the \"!\" token, appears relatively frequently in both classes, with a probability of approx. 2% and 3% respectively.\n",
    "Thus, more text preprocessing may be needed to reduce the dimensionality of our attributes/tokens/vocabulary, which may result in a more realistic representation of probable words within each label.\n",
    "\n",
    "However, results from the ratio R calculations seem promising and reasonable. The words most strongly predictive of the scam class include \"claim\", \"award\", \"service\", \"£\", which may correspond to typical rewards/money related phishing scams, which is to be expected. Likewise, words most strongly predictive of the non-malicious class such as \"ok\", \"k\", \"sorry\" are typically seen in everyday texts and conversations. \n",
    "\n",
    "Ultimately, it is possible to distinguish the 2 classes using the multinomial naive Bayes model, however, in our specific infrastructure/setup, more data preprocessing of the raw sms could further enhance the model's ability to differentiate between class labels."
   ]
  },
  {
   "cell_type": "markdown",
   "metadata": {},
   "source": [
    "## 2. Supervised model evaluation"
   ]
  },
  {
   "cell_type": "code",
   "execution_count": 147,
   "metadata": {
    "collapsed": true
   },
   "outputs": [],
   "source": [
    "test = pd.read_csv(\"sms_test.csv\")"
   ]
  },
  {
   "cell_type": "code",
   "execution_count": 148,
   "metadata": {},
   "outputs": [],
   "source": [
    "test_instances = test[\"textPreprocessed\"]\n",
    "predicted_labels = []\n",
    "for test_instance in test_instances:\n",
    "    predicted_label = classify_test_instance(test, vocabulary, test_instance, prior_probs, conditional_probs)\n",
    "    predicted_labels.append(predicted_label)\n",
    "\n",
    "test[\"predicted class\"] = predicted_labels"
   ]
  },
  {
   "cell_type": "markdown",
   "metadata": {},
   "source": [
    "**1. Report the overall accuracy of your classifier as well as a breakdown by class (e.g. using a confusion matrix or by reporting precision and recall)**"
   ]
  },
  {
   "cell_type": "markdown",
   "metadata": {},
   "source": [
    "Remove instances where the model could not decide between class 0 or 1 (predict 0.5)"
   ]
  },
  {
   "cell_type": "code",
   "execution_count": 149,
   "metadata": {},
   "outputs": [],
   "source": [
    "test_no_draws = test[test[\"predicted class\"] != 0.5]\n",
    "class_true = test_no_draws[\"class\"]\n",
    "class_predict = test_no_draws[\"predicted class\"]"
   ]
  },
  {
   "cell_type": "code",
   "execution_count": 150,
   "metadata": {},
   "outputs": [
    {
     "name": "stdout",
     "output_type": "stream",
     "text": [
      "              precision    recall  f1-score   support\n",
      "\n",
      "           0       0.99      0.98      0.98       800\n",
      "           1       0.93      0.95      0.94       200\n",
      "\n",
      "    accuracy                           0.97      1000\n",
      "   macro avg       0.96      0.97      0.96      1000\n",
      "weighted avg       0.98      0.97      0.98      1000\n",
      "\n"
     ]
    }
   ],
   "source": [
    "print(classification_report(class_true, class_predict))"
   ]
  },
  {
   "cell_type": "code",
   "execution_count": 151,
   "metadata": {},
   "outputs": [
    {
     "name": "stdout",
     "output_type": "stream",
     "text": [
      "[[785  15]\n",
      " [ 10 190]]\n"
     ]
    },
    {
     "data": {
      "image/png": "[encoded data removed]",
      "text/plain": [
       "<Figure size 640x480 with 2 Axes>"
      ]
     },
     "metadata": {},
     "output_type": "display_data"
    }
   ],
   "source": [
    "cm = confusion_matrix(class_true, class_predict)\n",
    "print(cm)\n",
    "sns.heatmap(cm, annot=True, fmt='d')\n",
    "plt.xlabel('Predicted labels')\n",
    "plt.ylabel('True labels')\n",
    "plt.title('Confusion Matrix')\n",
    "plt.show()"
   ]
  },
  {
   "cell_type": "markdown",
   "metadata": {},
   "source": [
    "Overall accuracy = (741+139)/(741+139+11+19) = 0.967 = 0.97, matching the classification report\n",
    "\n",
    "Class 0:\n",
    "- Recall = 0.99\n",
    "- Precision = 0.97\n",
    "\n",
    "Class 1:\n",
    "- Recall = 0.88\n",
    "- Precision = 0.93"
   ]
  },
  {
   "cell_type": "markdown",
   "metadata": {},
   "source": [
    "**2. Report how often your model encountered out-of-vocabulary words in the test set. Were any test items skipped (not classified) due to this problem?**"
   ]
  },
  {
   "cell_type": "code",
   "execution_count": 152,
   "metadata": {},
   "outputs": [
    {
     "name": "stdout",
     "output_type": "stream",
     "text": [
      "{'trouble': 1, '2nite': 5, 'hmv': 1, 'law': 2, 'plot': 1, 'pie': 3, 'drivin': 3, 'realise': 1, 'hook': 3, 'nearly': 1, 'fetch': 1, 'activity': 2, 'inside': 3, 'greet': 1, 'grl': 1, 'manage': 2, '87131': 1, 'journey': 1, 'require': 2, '://': 3, 'daddy': 4, 'asleep': 4, 'market': 2, 'depend': 1, 'prabha': 1, 'wed': 2, 'title': 1, 'piece': 1, 'fault': 3, 'lift': 2, 'girlfrnd': 1, 'boston': 2, 'nyc': 2, 't-mobile': 3, '0845': 2, 'skype': 2, 'mini': 2, 'postcode': 1, 'dreams': 3, 'lmao': 2, 'armand': 1, '1956669': 2, 'possession': 2, 'feelin': 1, 'befor': 1, 'ru': 1, 'sen': 1, 'fire': 1, 'definitely': 1, 'legal': 2, 'holla': 3, 'sup': 1, 'dick': 2, 'harry': 1, 'oz': 3, 'yijue': 1, 'exactly': 2, 'bet': 1, 'esplanade': 2, 'bud': 1, 'din': 2, 'act': 3, '=d': 1, 'challenge': 1, 'wet': 1, '6hrs': 3, '7250i': 1, '0578': 2, 'annoying': 2, 'calling': 3, 'rally': 2, 'pack': 1, 'empty': 3, 'fyi': 2, '81151': 1, 'report': 1, 'gram': 1, 'lay': 2, 'yahoo': 1, 'experience': 2, 'fee': 1, 'k.': 2, 'pg': 1, 'ec2a': 1, 'woke': 2, 'realy': 1, 'lecture': 1, 'cancer': 1, 'fromm': 1, 'aiyar': 1, 'ta': 1, '32': 1, 'infernal': 1, 'affair': 1}\n",
      "Number of unique tokens not classifed = 94\n",
      "Number of instances model encountered out-of-vocab during testing = 160\n"
     ]
    }
   ],
   "source": [
    "test_out_of_vocab = dict()\n",
    "for i in range(len(test)):\n",
    "    text = test.loc[i, \"textPreprocessed\"]\n",
    "    text_tokens = return_tokens(text)\n",
    "    tokens_out_of_vocab = 0\n",
    "\n",
    "    for token in text_tokens:\n",
    "        if token not in vocabulary:\n",
    "            tokens_out_of_vocab += 1\n",
    "            if token not in test_out_of_vocab.keys():\n",
    "                test_out_of_vocab[token] = 1\n",
    "            else:\n",
    "                test_out_of_vocab[token] += 1\n",
    "\n",
    "print(test_out_of_vocab)\n",
    "print(f\"Number of unique tokens not classifed = {len(test_out_of_vocab)}\")\n",
    "print(f\"Number of instances model encountered out-of-vocab during testing = {sum(test_out_of_vocab.values())}\")"
   ]
  },
  {
   "cell_type": "code",
   "execution_count": 153,
   "metadata": {},
   "outputs": [
    {
     "name": "stdout",
     "output_type": "stream",
     "text": [
      "There were 0 test instances skipped\n"
     ]
    }
   ],
   "source": [
    "num_tests_skipped = len(test[test[\"predicted class\"].isna()])\n",
    "print(f\"There were {num_tests_skipped} test instances skipped\")"
   ]
  },
  {
   "cell_type": "markdown",
   "metadata": {},
   "source": [
    "**3. Provide examples of instances classified with high low confidence using ratio of posterior likelihood for each class. Provide some examples of test instances which are:**"
   ]
  },
  {
   "cell_type": "markdown",
   "metadata": {},
   "source": [
    "**a. classified scam (label=1) with high confidence**"
   ]
  },
  {
   "cell_type": "code",
   "execution_count": 154,
   "metadata": {},
   "outputs": [
    {
     "name": "stdout",
     "output_type": "stream",
     "text": [
      "1.\n",
      "Text: . 4 + call £ - * holiday & urgent 18 t landline 150ppm cash cs await collection po box sae complimentary 10,000 ibiza\n",
      "R score: 1.3538895972838257e+20\n",
      "\n",
      "2.\n",
      "Text: . 3 4 + ! call : £ offer * holiday & urgent 18 t landline 150ppm cash cs await collection po box sae tenerife 10,000\n",
      "R score: 1.2870905388142915e+20\n",
      "\n",
      "3.\n",
      "Text: . . . , please order text call / : customer tone number [ [ service mobile ] ] colour colour thanks ringtone reference charge 4.50 arrive = red x49 09065989182\n",
      "R score: 1.1491239652938205e+20\n",
      "\n"
     ]
    }
   ],
   "source": [
    "result = find_top_test_ratios(test, vocabulary, prior_probs, conditional_probs, c1=1, c2=0)\n",
    "for i, (text, R) in enumerate(result.items(), start=1):\n",
    "    print(f\"{i}.\")\n",
    "    print(f\"Text: {text}\")\n",
    "    print(f\"R score: {R}\")\n",
    "    print()"
   ]
  },
  {
   "cell_type": "markdown",
   "metadata": {},
   "source": [
    "**b. classified non-malicious (label=0) with high confidence**"
   ]
  },
  {
   "cell_type": "code",
   "execution_count": 155,
   "metadata": {},
   "outputs": [
    {
     "name": "stdout",
     "output_type": "stream",
     "text": [
      "1.\n",
      "Text: time : rs. transaction number & & & & & & & & & & ; ; ; ; ; ; ; ; ; ; lt lt lt lt lt # # # gt gt gt gt gt credit account reference decimal\n",
      "R score: 9.134994451628885e+37\n",
      "\n",
      "2.\n",
      "Text: ? ? ? ? .. .. u u u u , , ... ... ... ... say person yes ! f : hello hello hello o o wen knw knw girl girl mean @ \" \" \" \" t name name g g n d d d d d d lift bt real dat h girlfrnd girlfrnd moral\n",
      "R score: 2.690381858561345e+29\n",
      "\n",
      "3.\n",
      "Text: . every & & & & & & ; ; ; ; ; ; lt lt lt # # # gt gt gt big hr\n",
      "R score: 3.182924541185372e+25\n",
      "\n"
     ]
    }
   ],
   "source": [
    "result = find_top_test_ratios(test, vocabulary, prior_probs, conditional_probs, c1=0, c2=1)\n",
    "for i, (text, R) in enumerate(result.items(), start=1):\n",
    "    print(f\"{i}.\")\n",
    "    print(f\"Text: {text}\")\n",
    "    print(f\"R score: {R}\")\n",
    "    print()"
   ]
  },
  {
   "cell_type": "markdown",
   "metadata": {},
   "source": [
    "**c. on the boundary between the 2 classes (R near 1)**"
   ]
  },
  {
   "cell_type": "code",
   "execution_count": 156,
   "metadata": {},
   "outputs": [
    {
     "name": "stdout",
     "output_type": "stream",
     "text": [
      "1.\n",
      "Text: . call dear\n",
      "R score: 0.9831892964622647\n",
      "\n",
      "2.\n",
      "Text: . reply glad\n",
      "R score: 0.9577512241887175\n",
      "\n",
      "3.\n",
      "Text: . . tell return re order\n",
      "R score: 1.0755396179747467\n",
      "\n"
     ]
    }
   ],
   "source": [
    "result = find_top_test_ratios(test, vocabulary, prior_probs, conditional_probs, c1=1, c2=0, boundary=True)\n",
    "for i, (text, R) in enumerate(result.items(), start=1):\n",
    "    print(f\"{i}.\")\n",
    "    print(f\"Text: {text}\")\n",
    "    print(f\"R score: {R}\")\n",
    "    print()"
   ]
  },
  {
   "cell_type": "code",
   "execution_count": 157,
   "metadata": {},
   "outputs": [
    {
     "name": "stdout",
     "output_type": "stream",
     "text": [
      "1.\n",
      "Text: . call dear\n",
      "R score: 1.0170981352199664\n",
      "\n",
      "2.\n",
      "Text: . reply glad\n",
      "R score: 1.0441124738285459\n",
      "\n",
      "3.\n",
      "Text: . . tell return re order\n",
      "R score: 0.929765843384748\n",
      "\n"
     ]
    }
   ],
   "source": [
    "result = find_top_test_ratios(test, vocabulary, prior_probs, conditional_probs, c1=0, c2=1, boundary=True)\n",
    "for i, (text, R) in enumerate(result.items(), start=1):\n",
    "    print(f\"{i}.\")\n",
    "    print(f\"Text: {text}\")\n",
    "    print(f\"R score: {R}\")\n",
    "    print()"
   ]
  },
  {
   "cell_type": "markdown",
   "metadata": {},
   "source": [
    "Note that here, we should expect to receive the same texts regardless of what c1 or c2 is, which is true, as shown in results."
   ]
  },
  {
   "cell_type": "markdown",
   "metadata": {},
   "source": [
    "**In addition to reporting these points, briefly interpret them. Do the model’s high and low confidence\n",
    "predictions seem reasonable to you? Is one class easier to identify than the other?**"
   ]
  },
  {
   "cell_type": "markdown",
   "metadata": {},
   "source": [
    "The model performs well, having high accuracy and recall/precision per class in the test set. Looking at both recall and precision factors, i.e., the f1 score, the model performs better at predicting non-malicious texts (0.98), compared to scam texts (0.90). The difference may be due to class imbalance in the training set (80/20), where non malicious texts appear more than scams. Because of less occurances of scam instances, the model might not be as well trained on the minority class where there are less examples.\n",
    "\n",
    "The model's predictive capability can be further improved by having larger training datasets which reduce the number of unique tokens that cannot be identified in the test dataset. Fortunately, this issue did not lead to any non-classifications/skips in testing.\n",
    "\n",
    "Additionally, the model's confidence values seem reasonable. The top 3 results in the scam predictions have extremely high confidence, and the contents of the texts reflect this confidence value, tokens such as \"claim\", \"discount\", \"offer\", \"cash\"... are indicative of scam attempts. \n",
    "While there is also high confidence in non-malicious predictions, the degree/magnitude of confidence in scam instances is much higher, where the highest R score of label=0 is approx  3,500,000, compared to approx 1.22E12 in the scam class, almost a million times larger (looking at the number of extra 0s).\n",
    "\n",
    "In summary, based on f1, the model performs better when predicting non-malicious texts, however, looking at confidence, the model is more confident in the scam class, possibly due to more pronounced features."
   ]
  },
  {
   "cell_type": "markdown",
   "metadata": {},
   "source": [
    "## 3. Extending the model with semi-supervised training - Label Propagation"
   ]
  },
  {
   "cell_type": "code",
   "execution_count": 158,
   "metadata": {},
   "outputs": [],
   "source": [
    "# Create a validation set by splitting train dataset into train/validation subset\n",
    "train = pd.read_csv(\"sms_supervised_train.csv\")\n",
    "train_data, validation_data = train_test_split(train, test_size=0.2, random_state=1, stratify=train['class'])\n",
    "\n",
    "train_data.reset_index(inplace=True, drop=True)\n",
    "validation_data.reset_index(inplace=True, drop=True)"
   ]
  },
  {
   "cell_type": "code",
   "execution_count": 159,
   "metadata": {},
   "outputs": [
    {
     "data": {
      "text/html": [
       "<div>\n",
       "<style scoped>\n",
       "    .dataframe tbody tr th:only-of-type {\n",
       "        vertical-align: middle;\n",
       "    }\n",
       "\n",
       "    .dataframe tbody tr th {\n",
       "        vertical-align: top;\n",
       "    }\n",
       "\n",
       "    .dataframe thead th {\n",
       "        text-align: right;\n",
       "    }\n",
       "</style>\n",
       "<table border=\"1\" class=\"dataframe\">\n",
       "  <thead>\n",
       "    <tr style=\"text-align: right;\">\n",
       "      <th></th>\n",
       "      <th>textOriginal</th>\n",
       "      <th>textPreprocessed</th>\n",
       "      <th>class</th>\n",
       "    </tr>\n",
       "  </thead>\n",
       "  <tbody>\n",
       "    <tr>\n",
       "      <th>0</th>\n",
       "      <td>Give her something to drink, if she takes it a...</td>\n",
       "      <td>. . , know take may let give vomit something d...</td>\n",
       "      <td>0</td>\n",
       "    </tr>\n",
       "    <tr>\n",
       "      <th>1</th>\n",
       "      <td>In other news after hassling me to get him wee...</td>\n",
       "      <td>. get week news weed money</td>\n",
       "      <td>0</td>\n",
       "    </tr>\n",
       "    <tr>\n",
       "      <th>2</th>\n",
       "      <td>He's just gonna worry for nothing. And he won'...</td>\n",
       "      <td>. . go he 's just give to nothing worry money</td>\n",
       "      <td>0</td>\n",
       "    </tr>\n",
       "    <tr>\n",
       "      <th>3</th>\n",
       "      <td>I'm nt goin, got somethin on, unless they meet...</td>\n",
       "      <td>4 , , , get lor go ... ... time goin haha unle...</td>\n",
       "      <td>0</td>\n",
       "    </tr>\n",
       "    <tr>\n",
       "      <th>4</th>\n",
       "      <td>Tell my  bad character which u Dnt lik in me. ...</td>\n",
       "      <td>. . . . . 2 character reply u ll ur ... year g...</td>\n",
       "      <td>0</td>\n",
       "    </tr>\n",
       "    <tr>\n",
       "      <th>...</th>\n",
       "      <td>...</td>\n",
       "      <td>...</td>\n",
       "      <td>...</td>\n",
       "    </tr>\n",
       "    <tr>\n",
       "      <th>1595</th>\n",
       "      <td>\\tWe tried to call you re your reply to our sm...</td>\n",
       "      <td>reply reply free re sm text call call 750 try ...</td>\n",
       "      <td>1</td>\n",
       "    </tr>\n",
       "    <tr>\n",
       "      <th>1596</th>\n",
       "      <td>This phone has the weirdest auto correct.</td>\n",
       "      <td>. phone correct weird</td>\n",
       "      <td>0</td>\n",
       "    </tr>\n",
       "    <tr>\n",
       "      <th>1597</th>\n",
       "      <td>We'll join the  &amp;lt;#&amp;gt;  bus</td>\n",
       "      <td>&amp; &amp; ; ; lt # gt join bus</td>\n",
       "      <td>0</td>\n",
       "    </tr>\n",
       "    <tr>\n",
       "      <th>1598</th>\n",
       "      <td>Great! I hope you like your man well endowed. ...</td>\n",
       "      <td>. great hope like ... man ! well &amp; &amp; ; ; lt # ...</td>\n",
       "      <td>0</td>\n",
       "    </tr>\n",
       "    <tr>\n",
       "      <th>1599</th>\n",
       "      <td>Babe ? I lost you ... Will you try rebooting ?</td>\n",
       "      <td>? ? ... try babe lose</td>\n",
       "      <td>0</td>\n",
       "    </tr>\n",
       "  </tbody>\n",
       "</table>\n",
       "<p>1600 rows × 3 columns</p>\n",
       "</div>"
      ],
      "text/plain": [
       "                                           textOriginal  \\\n",
       "0     Give her something to drink, if she takes it a...   \n",
       "1     In other news after hassling me to get him wee...   \n",
       "2     He's just gonna worry for nothing. And he won'...   \n",
       "3     I'm nt goin, got somethin on, unless they meet...   \n",
       "4     Tell my  bad character which u Dnt lik in me. ...   \n",
       "...                                                 ...   \n",
       "1595  \\tWe tried to call you re your reply to our sm...   \n",
       "1596          This phone has the weirdest auto correct.   \n",
       "1597                     We'll join the  &lt;#&gt;  bus   \n",
       "1598  Great! I hope you like your man well endowed. ...   \n",
       "1599     Babe ? I lost you ... Will you try rebooting ?   \n",
       "\n",
       "                                       textPreprocessed  class  \n",
       "0     . . , know take may let give vomit something d...      0  \n",
       "1                            . get week news weed money      0  \n",
       "2         . . go he 's just give to nothing worry money      0  \n",
       "3     4 , , , get lor go ... ... time goin haha unle...      0  \n",
       "4     . . . . . 2 character reply u ll ur ... year g...      0  \n",
       "...                                                 ...    ...  \n",
       "1595  reply reply free re sm text call call 750 try ...      1  \n",
       "1596                              . phone correct weird      0  \n",
       "1597                           & & ; ; lt # gt join bus      0  \n",
       "1598  . great hope like ... man ! well & & ; ; lt # ...      0  \n",
       "1599                              ? ? ... try babe lose      0  \n",
       "\n",
       "[1600 rows x 3 columns]"
      ]
     },
     "execution_count": 159,
     "metadata": {},
     "output_type": "execute_result"
    }
   ],
   "source": [
    "train_data"
   ]
  },
  {
   "cell_type": "code",
   "execution_count": 160,
   "metadata": {},
   "outputs": [
    {
     "ename": "KeyboardInterrupt",
     "evalue": "",
     "output_type": "error",
     "traceback": [
      "\u001b[1;31m---------------------------------------------------------------------------\u001b[0m",
      "\u001b[1;31mKeyboardInterrupt\u001b[0m                         Traceback (most recent call last)",
      "Cell \u001b[1;32mIn[160], line 5\u001b[0m\n\u001b[0;32m      3\u001b[0m count_matrix \u001b[38;5;241m=\u001b[39m find_count_matrix(train_data, vocabulary)\n\u001b[0;32m      4\u001b[0m prior_probs \u001b[38;5;241m=\u001b[39m find_prior_prob(train_data)\n\u001b[1;32m----> 5\u001b[0m conditional_probs \u001b[38;5;241m=\u001b[39m \u001b[43mfind_conditional_prob\u001b[49m\u001b[43m(\u001b[49m\u001b[43mtrain_data\u001b[49m\u001b[43m,\u001b[49m\u001b[43m \u001b[49m\u001b[43mvocabulary\u001b[49m\u001b[43m,\u001b[49m\u001b[43m \u001b[49m\u001b[43mcount_matrix\u001b[49m\u001b[43m)\u001b[49m\n",
      "Cell \u001b[1;32mIn[131], line 10\u001b[0m, in \u001b[0;36mfind_conditional_prob\u001b[1;34m(data, vocabulary, count_matrix)\u001b[0m\n\u001b[0;32m      7\u001b[0m     conditional_probs[label] \u001b[38;5;241m=\u001b[39m {word: \u001b[38;5;241m0\u001b[39m \u001b[38;5;28;01mfor\u001b[39;00m word \u001b[38;5;129;01min\u001b[39;00m vocabulary}\n\u001b[0;32m      9\u001b[0m     \u001b[38;5;28;01mfor\u001b[39;00m word \u001b[38;5;129;01min\u001b[39;00m vocabulary:\n\u001b[1;32m---> 10\u001b[0m         conditional_probs[label][word] \u001b[38;5;241m=\u001b[39m \u001b[43mcalc_p_c_i\u001b[49m\u001b[43m(\u001b[49m\u001b[43mdata\u001b[49m\u001b[43m,\u001b[49m\u001b[43m \u001b[49m\u001b[43mcount_matrix\u001b[49m\u001b[43m,\u001b[49m\u001b[43m \u001b[49m\u001b[43mlabel\u001b[49m\u001b[43m,\u001b[49m\u001b[43m \u001b[49m\u001b[43mword\u001b[49m\u001b[43m,\u001b[49m\u001b[43m \u001b[49m\u001b[43mV\u001b[49m\u001b[38;5;241;43m=\u001b[39;49m\u001b[38;5;28;43mlen\u001b[39;49m\u001b[43m(\u001b[49m\u001b[43mvocabulary\u001b[49m\u001b[43m)\u001b[49m\u001b[43m,\u001b[49m\u001b[43m \u001b[49m\u001b[43malpha\u001b[49m\u001b[38;5;241;43m=\u001b[39;49m\u001b[38;5;241;43m1\u001b[39;49m\u001b[43m)\u001b[49m\n\u001b[0;32m     12\u001b[0m \u001b[38;5;28;01mreturn\u001b[39;00m conditional_probs\n",
      "Cell \u001b[1;32mIn[130], line 12\u001b[0m, in \u001b[0;36mcalc_p_c_i\u001b[1;34m(data, count_matrix, label, word, V, alpha)\u001b[0m\n\u001b[0;32m     10\u001b[0m count_matrix \u001b[38;5;241m=\u001b[39m count_matrix\u001b[38;5;241m.\u001b[39miloc[label_indexes]\n\u001b[0;32m     11\u001b[0m word_counts \u001b[38;5;241m=\u001b[39m np\u001b[38;5;241m.\u001b[39msum(count_matrix[word]) \u001b[38;5;241m+\u001b[39m alpha\n\u001b[1;32m---> 12\u001b[0m label_counts \u001b[38;5;241m=\u001b[39m \u001b[43mnp\u001b[49m\u001b[38;5;241;43m.\u001b[39;49m\u001b[43msum\u001b[49m\u001b[43m(\u001b[49m\u001b[43mcount_matrix\u001b[49m\u001b[43m,\u001b[49m\u001b[43m \u001b[49m\u001b[43maxis\u001b[49m\u001b[38;5;241;43m=\u001b[39;49m\u001b[38;5;241;43m0\u001b[39;49m\u001b[43m)\u001b[49m\u001b[38;5;241m.\u001b[39msum() \u001b[38;5;241m+\u001b[39m (V\u001b[38;5;241m*\u001b[39malpha)\n\u001b[0;32m     14\u001b[0m \u001b[38;5;28;01mreturn\u001b[39;00m \u001b[38;5;28mfloat\u001b[39m(word_counts \u001b[38;5;241m/\u001b[39m label_counts)\n",
      "File \u001b[1;32mc:\\ProgramData\\anaconda3\\Lib\\site-packages\\numpy\\core\\fromnumeric.py:2313\u001b[0m, in \u001b[0;36msum\u001b[1;34m(a, axis, dtype, out, keepdims, initial, where)\u001b[0m\n\u001b[0;32m   2310\u001b[0m         \u001b[38;5;28;01mreturn\u001b[39;00m out\n\u001b[0;32m   2311\u001b[0m     \u001b[38;5;28;01mreturn\u001b[39;00m res\n\u001b[1;32m-> 2313\u001b[0m \u001b[38;5;28;01mreturn\u001b[39;00m \u001b[43m_wrapreduction\u001b[49m\u001b[43m(\u001b[49m\u001b[43ma\u001b[49m\u001b[43m,\u001b[49m\u001b[43m \u001b[49m\u001b[43mnp\u001b[49m\u001b[38;5;241;43m.\u001b[39;49m\u001b[43madd\u001b[49m\u001b[43m,\u001b[49m\u001b[43m \u001b[49m\u001b[38;5;124;43m'\u001b[39;49m\u001b[38;5;124;43msum\u001b[39;49m\u001b[38;5;124;43m'\u001b[39;49m\u001b[43m,\u001b[49m\u001b[43m \u001b[49m\u001b[43maxis\u001b[49m\u001b[43m,\u001b[49m\u001b[43m \u001b[49m\u001b[43mdtype\u001b[49m\u001b[43m,\u001b[49m\u001b[43m \u001b[49m\u001b[43mout\u001b[49m\u001b[43m,\u001b[49m\u001b[43m \u001b[49m\u001b[43mkeepdims\u001b[49m\u001b[38;5;241;43m=\u001b[39;49m\u001b[43mkeepdims\u001b[49m\u001b[43m,\u001b[49m\n\u001b[0;32m   2314\u001b[0m \u001b[43m                      \u001b[49m\u001b[43minitial\u001b[49m\u001b[38;5;241;43m=\u001b[39;49m\u001b[43minitial\u001b[49m\u001b[43m,\u001b[49m\u001b[43m \u001b[49m\u001b[43mwhere\u001b[49m\u001b[38;5;241;43m=\u001b[39;49m\u001b[43mwhere\u001b[49m\u001b[43m)\u001b[49m\n",
      "File \u001b[1;32mc:\\ProgramData\\anaconda3\\Lib\\site-packages\\numpy\\core\\fromnumeric.py:86\u001b[0m, in \u001b[0;36m_wrapreduction\u001b[1;34m(obj, ufunc, method, axis, dtype, out, **kwargs)\u001b[0m\n\u001b[0;32m     84\u001b[0m             \u001b[38;5;28;01mreturn\u001b[39;00m reduction(axis\u001b[38;5;241m=\u001b[39maxis, dtype\u001b[38;5;241m=\u001b[39mdtype, out\u001b[38;5;241m=\u001b[39mout, \u001b[38;5;241m*\u001b[39m\u001b[38;5;241m*\u001b[39mpasskwargs)\n\u001b[0;32m     85\u001b[0m         \u001b[38;5;28;01melse\u001b[39;00m:\n\u001b[1;32m---> 86\u001b[0m             \u001b[38;5;28;01mreturn\u001b[39;00m \u001b[43mreduction\u001b[49m\u001b[43m(\u001b[49m\u001b[43maxis\u001b[49m\u001b[38;5;241;43m=\u001b[39;49m\u001b[43maxis\u001b[49m\u001b[43m,\u001b[49m\u001b[43m \u001b[49m\u001b[43mout\u001b[49m\u001b[38;5;241;43m=\u001b[39;49m\u001b[43mout\u001b[49m\u001b[43m,\u001b[49m\u001b[43m \u001b[49m\u001b[38;5;241;43m*\u001b[39;49m\u001b[38;5;241;43m*\u001b[39;49m\u001b[43mpasskwargs\u001b[49m\u001b[43m)\u001b[49m\n\u001b[0;32m     88\u001b[0m \u001b[38;5;28;01mreturn\u001b[39;00m ufunc\u001b[38;5;241m.\u001b[39mreduce(obj, axis, dtype, out, \u001b[38;5;241m*\u001b[39m\u001b[38;5;241m*\u001b[39mpasskwargs)\n",
      "File \u001b[1;32mc:\\ProgramData\\anaconda3\\Lib\\site-packages\\pandas\\core\\frame.py:11312\u001b[0m, in \u001b[0;36mDataFrame.sum\u001b[1;34m(self, axis, skipna, numeric_only, min_count, **kwargs)\u001b[0m\n\u001b[0;32m  11303\u001b[0m \u001b[38;5;129m@doc\u001b[39m(make_doc(\u001b[38;5;124m\"\u001b[39m\u001b[38;5;124msum\u001b[39m\u001b[38;5;124m\"\u001b[39m, ndim\u001b[38;5;241m=\u001b[39m\u001b[38;5;241m2\u001b[39m))\n\u001b[0;32m  11304\u001b[0m \u001b[38;5;28;01mdef\u001b[39;00m \u001b[38;5;21msum\u001b[39m(\n\u001b[0;32m  11305\u001b[0m     \u001b[38;5;28mself\u001b[39m,\n\u001b[1;32m   (...)\u001b[0m\n\u001b[0;32m  11310\u001b[0m     \u001b[38;5;241m*\u001b[39m\u001b[38;5;241m*\u001b[39mkwargs,\n\u001b[0;32m  11311\u001b[0m ):\n\u001b[1;32m> 11312\u001b[0m     result \u001b[38;5;241m=\u001b[39m \u001b[38;5;28;43msuper\u001b[39;49m\u001b[43m(\u001b[49m\u001b[43m)\u001b[49m\u001b[38;5;241;43m.\u001b[39;49m\u001b[43msum\u001b[49m\u001b[43m(\u001b[49m\u001b[43maxis\u001b[49m\u001b[43m,\u001b[49m\u001b[43m \u001b[49m\u001b[43mskipna\u001b[49m\u001b[43m,\u001b[49m\u001b[43m \u001b[49m\u001b[43mnumeric_only\u001b[49m\u001b[43m,\u001b[49m\u001b[43m \u001b[49m\u001b[43mmin_count\u001b[49m\u001b[43m,\u001b[49m\u001b[43m \u001b[49m\u001b[38;5;241;43m*\u001b[39;49m\u001b[38;5;241;43m*\u001b[39;49m\u001b[43mkwargs\u001b[49m\u001b[43m)\u001b[49m\n\u001b[0;32m  11313\u001b[0m     \u001b[38;5;28;01mreturn\u001b[39;00m result\u001b[38;5;241m.\u001b[39m__finalize__(\u001b[38;5;28mself\u001b[39m, method\u001b[38;5;241m=\u001b[39m\u001b[38;5;124m\"\u001b[39m\u001b[38;5;124msum\u001b[39m\u001b[38;5;124m\"\u001b[39m)\n",
      "File \u001b[1;32mc:\\ProgramData\\anaconda3\\Lib\\site-packages\\pandas\\core\\generic.py:12078\u001b[0m, in \u001b[0;36mNDFrame.sum\u001b[1;34m(self, axis, skipna, numeric_only, min_count, **kwargs)\u001b[0m\n\u001b[0;32m  12070\u001b[0m \u001b[38;5;28;01mdef\u001b[39;00m \u001b[38;5;21msum\u001b[39m(\n\u001b[0;32m  12071\u001b[0m     \u001b[38;5;28mself\u001b[39m,\n\u001b[0;32m  12072\u001b[0m     axis: Axis \u001b[38;5;241m|\u001b[39m \u001b[38;5;28;01mNone\u001b[39;00m \u001b[38;5;241m=\u001b[39m \u001b[38;5;241m0\u001b[39m,\n\u001b[1;32m   (...)\u001b[0m\n\u001b[0;32m  12076\u001b[0m     \u001b[38;5;241m*\u001b[39m\u001b[38;5;241m*\u001b[39mkwargs,\n\u001b[0;32m  12077\u001b[0m ):\n\u001b[1;32m> 12078\u001b[0m     \u001b[38;5;28;01mreturn\u001b[39;00m \u001b[38;5;28;43mself\u001b[39;49m\u001b[38;5;241;43m.\u001b[39;49m\u001b[43m_min_count_stat_function\u001b[49m\u001b[43m(\u001b[49m\n\u001b[0;32m  12079\u001b[0m \u001b[43m        \u001b[49m\u001b[38;5;124;43m\"\u001b[39;49m\u001b[38;5;124;43msum\u001b[39;49m\u001b[38;5;124;43m\"\u001b[39;49m\u001b[43m,\u001b[49m\u001b[43m \u001b[49m\u001b[43mnanops\u001b[49m\u001b[38;5;241;43m.\u001b[39;49m\u001b[43mnansum\u001b[49m\u001b[43m,\u001b[49m\u001b[43m \u001b[49m\u001b[43maxis\u001b[49m\u001b[43m,\u001b[49m\u001b[43m \u001b[49m\u001b[43mskipna\u001b[49m\u001b[43m,\u001b[49m\u001b[43m \u001b[49m\u001b[43mnumeric_only\u001b[49m\u001b[43m,\u001b[49m\u001b[43m \u001b[49m\u001b[43mmin_count\u001b[49m\u001b[43m,\u001b[49m\u001b[43m \u001b[49m\u001b[38;5;241;43m*\u001b[39;49m\u001b[38;5;241;43m*\u001b[39;49m\u001b[43mkwargs\u001b[49m\n\u001b[0;32m  12080\u001b[0m \u001b[43m    \u001b[49m\u001b[43m)\u001b[49m\n",
      "File \u001b[1;32mc:\\ProgramData\\anaconda3\\Lib\\site-packages\\pandas\\core\\generic.py:12061\u001b[0m, in \u001b[0;36mNDFrame._min_count_stat_function\u001b[1;34m(self, name, func, axis, skipna, numeric_only, min_count, **kwargs)\u001b[0m\n\u001b[0;32m  12058\u001b[0m \u001b[38;5;28;01melif\u001b[39;00m axis \u001b[38;5;129;01mis\u001b[39;00m lib\u001b[38;5;241m.\u001b[39mno_default:\n\u001b[0;32m  12059\u001b[0m     axis \u001b[38;5;241m=\u001b[39m \u001b[38;5;241m0\u001b[39m\n\u001b[1;32m> 12061\u001b[0m \u001b[38;5;28;01mreturn\u001b[39;00m \u001b[38;5;28;43mself\u001b[39;49m\u001b[38;5;241;43m.\u001b[39;49m\u001b[43m_reduce\u001b[49m\u001b[43m(\u001b[49m\n\u001b[0;32m  12062\u001b[0m \u001b[43m    \u001b[49m\u001b[43mfunc\u001b[49m\u001b[43m,\u001b[49m\n\u001b[0;32m  12063\u001b[0m \u001b[43m    \u001b[49m\u001b[43mname\u001b[49m\u001b[38;5;241;43m=\u001b[39;49m\u001b[43mname\u001b[49m\u001b[43m,\u001b[49m\n\u001b[0;32m  12064\u001b[0m \u001b[43m    \u001b[49m\u001b[43maxis\u001b[49m\u001b[38;5;241;43m=\u001b[39;49m\u001b[43maxis\u001b[49m\u001b[43m,\u001b[49m\n\u001b[0;32m  12065\u001b[0m \u001b[43m    \u001b[49m\u001b[43mskipna\u001b[49m\u001b[38;5;241;43m=\u001b[39;49m\u001b[43mskipna\u001b[49m\u001b[43m,\u001b[49m\n\u001b[0;32m  12066\u001b[0m \u001b[43m    \u001b[49m\u001b[43mnumeric_only\u001b[49m\u001b[38;5;241;43m=\u001b[39;49m\u001b[43mnumeric_only\u001b[49m\u001b[43m,\u001b[49m\n\u001b[0;32m  12067\u001b[0m \u001b[43m    \u001b[49m\u001b[43mmin_count\u001b[49m\u001b[38;5;241;43m=\u001b[39;49m\u001b[43mmin_count\u001b[49m\u001b[43m,\u001b[49m\n\u001b[0;32m  12068\u001b[0m \u001b[43m\u001b[49m\u001b[43m)\u001b[49m\n",
      "File \u001b[1;32mc:\\ProgramData\\anaconda3\\Lib\\site-packages\\pandas\\core\\frame.py:11204\u001b[0m, in \u001b[0;36mDataFrame._reduce\u001b[1;34m(self, op, name, axis, skipna, numeric_only, filter_type, **kwds)\u001b[0m\n\u001b[0;32m  11200\u001b[0m     df \u001b[38;5;241m=\u001b[39m df\u001b[38;5;241m.\u001b[39mT\n\u001b[0;32m  11202\u001b[0m \u001b[38;5;66;03m# After possibly _get_data and transposing, we are now in the\u001b[39;00m\n\u001b[0;32m  11203\u001b[0m \u001b[38;5;66;03m#  simple case where we can use BlockManager.reduce\u001b[39;00m\n\u001b[1;32m> 11204\u001b[0m res \u001b[38;5;241m=\u001b[39m \u001b[43mdf\u001b[49m\u001b[38;5;241;43m.\u001b[39;49m\u001b[43m_mgr\u001b[49m\u001b[38;5;241;43m.\u001b[39;49m\u001b[43mreduce\u001b[49m\u001b[43m(\u001b[49m\u001b[43mblk_func\u001b[49m\u001b[43m)\u001b[49m\n\u001b[0;32m  11205\u001b[0m out \u001b[38;5;241m=\u001b[39m df\u001b[38;5;241m.\u001b[39m_constructor_from_mgr(res, axes\u001b[38;5;241m=\u001b[39mres\u001b[38;5;241m.\u001b[39maxes)\u001b[38;5;241m.\u001b[39miloc[\u001b[38;5;241m0\u001b[39m]\n\u001b[0;32m  11206\u001b[0m \u001b[38;5;28;01mif\u001b[39;00m out_dtype \u001b[38;5;129;01mis\u001b[39;00m \u001b[38;5;129;01mnot\u001b[39;00m \u001b[38;5;28;01mNone\u001b[39;00m \u001b[38;5;129;01mand\u001b[39;00m out\u001b[38;5;241m.\u001b[39mdtype \u001b[38;5;241m!=\u001b[39m \u001b[38;5;124m\"\u001b[39m\u001b[38;5;124mboolean\u001b[39m\u001b[38;5;124m\"\u001b[39m:\n",
      "File \u001b[1;32mc:\\ProgramData\\anaconda3\\Lib\\site-packages\\pandas\\core\\internals\\managers.py:1459\u001b[0m, in \u001b[0;36mBlockManager.reduce\u001b[1;34m(self, func)\u001b[0m\n\u001b[0;32m   1457\u001b[0m res_blocks: \u001b[38;5;28mlist\u001b[39m[Block] \u001b[38;5;241m=\u001b[39m []\n\u001b[0;32m   1458\u001b[0m \u001b[38;5;28;01mfor\u001b[39;00m blk \u001b[38;5;129;01min\u001b[39;00m \u001b[38;5;28mself\u001b[39m\u001b[38;5;241m.\u001b[39mblocks:\n\u001b[1;32m-> 1459\u001b[0m     nbs \u001b[38;5;241m=\u001b[39m \u001b[43mblk\u001b[49m\u001b[38;5;241;43m.\u001b[39;49m\u001b[43mreduce\u001b[49m\u001b[43m(\u001b[49m\u001b[43mfunc\u001b[49m\u001b[43m)\u001b[49m\n\u001b[0;32m   1460\u001b[0m     res_blocks\u001b[38;5;241m.\u001b[39mextend(nbs)\n\u001b[0;32m   1462\u001b[0m index \u001b[38;5;241m=\u001b[39m Index([\u001b[38;5;28;01mNone\u001b[39;00m])  \u001b[38;5;66;03m# placeholder\u001b[39;00m\n",
      "File \u001b[1;32mc:\\ProgramData\\anaconda3\\Lib\\site-packages\\pandas\\core\\internals\\blocks.py:377\u001b[0m, in \u001b[0;36mBlock.reduce\u001b[1;34m(self, func)\u001b[0m\n\u001b[0;32m    371\u001b[0m \u001b[38;5;129m@final\u001b[39m\n\u001b[0;32m    372\u001b[0m \u001b[38;5;28;01mdef\u001b[39;00m \u001b[38;5;21mreduce\u001b[39m(\u001b[38;5;28mself\u001b[39m, func) \u001b[38;5;241m-\u001b[39m\u001b[38;5;241m>\u001b[39m \u001b[38;5;28mlist\u001b[39m[Block]:\n\u001b[0;32m    373\u001b[0m     \u001b[38;5;66;03m# We will apply the function and reshape the result into a single-row\u001b[39;00m\n\u001b[0;32m    374\u001b[0m     \u001b[38;5;66;03m#  Block with the same mgr_locs; squeezing will be done at a higher level\u001b[39;00m\n\u001b[0;32m    375\u001b[0m     \u001b[38;5;28;01massert\u001b[39;00m \u001b[38;5;28mself\u001b[39m\u001b[38;5;241m.\u001b[39mndim \u001b[38;5;241m==\u001b[39m \u001b[38;5;241m2\u001b[39m\n\u001b[1;32m--> 377\u001b[0m     result \u001b[38;5;241m=\u001b[39m \u001b[43mfunc\u001b[49m\u001b[43m(\u001b[49m\u001b[38;5;28;43mself\u001b[39;49m\u001b[38;5;241;43m.\u001b[39;49m\u001b[43mvalues\u001b[49m\u001b[43m)\u001b[49m\n\u001b[0;32m    379\u001b[0m     \u001b[38;5;28;01mif\u001b[39;00m \u001b[38;5;28mself\u001b[39m\u001b[38;5;241m.\u001b[39mvalues\u001b[38;5;241m.\u001b[39mndim \u001b[38;5;241m==\u001b[39m \u001b[38;5;241m1\u001b[39m:\n\u001b[0;32m    380\u001b[0m         res_values \u001b[38;5;241m=\u001b[39m result\n",
      "File \u001b[1;32mc:\\ProgramData\\anaconda3\\Lib\\site-packages\\pandas\\core\\frame.py:11136\u001b[0m, in \u001b[0;36mDataFrame._reduce.<locals>.blk_func\u001b[1;34m(values, axis)\u001b[0m\n\u001b[0;32m  11134\u001b[0m         \u001b[38;5;28;01mreturn\u001b[39;00m np\u001b[38;5;241m.\u001b[39marray([result])\n\u001b[0;32m  11135\u001b[0m \u001b[38;5;28;01melse\u001b[39;00m:\n\u001b[1;32m> 11136\u001b[0m     \u001b[38;5;28;01mreturn\u001b[39;00m \u001b[43mop\u001b[49m\u001b[43m(\u001b[49m\u001b[43mvalues\u001b[49m\u001b[43m,\u001b[49m\u001b[43m \u001b[49m\u001b[43maxis\u001b[49m\u001b[38;5;241;43m=\u001b[39;49m\u001b[43maxis\u001b[49m\u001b[43m,\u001b[49m\u001b[43m \u001b[49m\u001b[43mskipna\u001b[49m\u001b[38;5;241;43m=\u001b[39;49m\u001b[43mskipna\u001b[49m\u001b[43m,\u001b[49m\u001b[43m \u001b[49m\u001b[38;5;241;43m*\u001b[39;49m\u001b[38;5;241;43m*\u001b[39;49m\u001b[43mkwds\u001b[49m\u001b[43m)\u001b[49m\n",
      "File \u001b[1;32mc:\\ProgramData\\anaconda3\\Lib\\site-packages\\pandas\\core\\nanops.py:85\u001b[0m, in \u001b[0;36mdisallow.__call__.<locals>._f\u001b[1;34m(*args, **kwargs)\u001b[0m\n\u001b[0;32m     81\u001b[0m     \u001b[38;5;28;01mraise\u001b[39;00m \u001b[38;5;167;01mTypeError\u001b[39;00m(\n\u001b[0;32m     82\u001b[0m         \u001b[38;5;124mf\u001b[39m\u001b[38;5;124m\"\u001b[39m\u001b[38;5;124mreduction operation \u001b[39m\u001b[38;5;124m'\u001b[39m\u001b[38;5;132;01m{\u001b[39;00mf_name\u001b[38;5;132;01m}\u001b[39;00m\u001b[38;5;124m'\u001b[39m\u001b[38;5;124m not allowed for this dtype\u001b[39m\u001b[38;5;124m\"\u001b[39m\n\u001b[0;32m     83\u001b[0m     )\n\u001b[0;32m     84\u001b[0m \u001b[38;5;28;01mtry\u001b[39;00m:\n\u001b[1;32m---> 85\u001b[0m     \u001b[38;5;28;01mreturn\u001b[39;00m \u001b[43mf\u001b[49m\u001b[43m(\u001b[49m\u001b[38;5;241;43m*\u001b[39;49m\u001b[43margs\u001b[49m\u001b[43m,\u001b[49m\u001b[43m \u001b[49m\u001b[38;5;241;43m*\u001b[39;49m\u001b[38;5;241;43m*\u001b[39;49m\u001b[43mkwargs\u001b[49m\u001b[43m)\u001b[49m\n\u001b[0;32m     86\u001b[0m \u001b[38;5;28;01mexcept\u001b[39;00m \u001b[38;5;167;01mValueError\u001b[39;00m \u001b[38;5;28;01mas\u001b[39;00m e:\n\u001b[0;32m     87\u001b[0m     \u001b[38;5;66;03m# we want to transform an object array\u001b[39;00m\n\u001b[0;32m     88\u001b[0m     \u001b[38;5;66;03m# ValueError message to the more typical TypeError\u001b[39;00m\n\u001b[0;32m     89\u001b[0m     \u001b[38;5;66;03m# e.g. this is normally a disallowed function on\u001b[39;00m\n\u001b[0;32m     90\u001b[0m     \u001b[38;5;66;03m# object arrays that contain strings\u001b[39;00m\n\u001b[0;32m     91\u001b[0m     \u001b[38;5;28;01mif\u001b[39;00m is_object_dtype(args[\u001b[38;5;241m0\u001b[39m]):\n",
      "File \u001b[1;32mc:\\ProgramData\\anaconda3\\Lib\\site-packages\\pandas\\core\\nanops.py:404\u001b[0m, in \u001b[0;36m_datetimelike_compat.<locals>.new_func\u001b[1;34m(values, axis, skipna, mask, **kwargs)\u001b[0m\n\u001b[0;32m    401\u001b[0m \u001b[38;5;28;01mif\u001b[39;00m datetimelike \u001b[38;5;129;01mand\u001b[39;00m mask \u001b[38;5;129;01mis\u001b[39;00m \u001b[38;5;28;01mNone\u001b[39;00m:\n\u001b[0;32m    402\u001b[0m     mask \u001b[38;5;241m=\u001b[39m isna(values)\n\u001b[1;32m--> 404\u001b[0m result \u001b[38;5;241m=\u001b[39m \u001b[43mfunc\u001b[49m\u001b[43m(\u001b[49m\u001b[43mvalues\u001b[49m\u001b[43m,\u001b[49m\u001b[43m \u001b[49m\u001b[43maxis\u001b[49m\u001b[38;5;241;43m=\u001b[39;49m\u001b[43maxis\u001b[49m\u001b[43m,\u001b[49m\u001b[43m \u001b[49m\u001b[43mskipna\u001b[49m\u001b[38;5;241;43m=\u001b[39;49m\u001b[43mskipna\u001b[49m\u001b[43m,\u001b[49m\u001b[43m \u001b[49m\u001b[43mmask\u001b[49m\u001b[38;5;241;43m=\u001b[39;49m\u001b[43mmask\u001b[49m\u001b[43m,\u001b[49m\u001b[43m \u001b[49m\u001b[38;5;241;43m*\u001b[39;49m\u001b[38;5;241;43m*\u001b[39;49m\u001b[43mkwargs\u001b[49m\u001b[43m)\u001b[49m\n\u001b[0;32m    406\u001b[0m \u001b[38;5;28;01mif\u001b[39;00m datetimelike:\n\u001b[0;32m    407\u001b[0m     result \u001b[38;5;241m=\u001b[39m _wrap_results(result, orig_values\u001b[38;5;241m.\u001b[39mdtype, fill_value\u001b[38;5;241m=\u001b[39miNaT)\n",
      "File \u001b[1;32mc:\\ProgramData\\anaconda3\\Lib\\site-packages\\pandas\\core\\nanops.py:477\u001b[0m, in \u001b[0;36mmaybe_operate_rowwise.<locals>.newfunc\u001b[1;34m(values, axis, **kwargs)\u001b[0m\n\u001b[0;32m    474\u001b[0m         results \u001b[38;5;241m=\u001b[39m [func(x, \u001b[38;5;241m*\u001b[39m\u001b[38;5;241m*\u001b[39mkwargs) \u001b[38;5;28;01mfor\u001b[39;00m x \u001b[38;5;129;01min\u001b[39;00m arrs]\n\u001b[0;32m    475\u001b[0m     \u001b[38;5;28;01mreturn\u001b[39;00m np\u001b[38;5;241m.\u001b[39marray(results)\n\u001b[1;32m--> 477\u001b[0m \u001b[38;5;28;01mreturn\u001b[39;00m \u001b[43mfunc\u001b[49m\u001b[43m(\u001b[49m\u001b[43mvalues\u001b[49m\u001b[43m,\u001b[49m\u001b[43m \u001b[49m\u001b[43maxis\u001b[49m\u001b[38;5;241;43m=\u001b[39;49m\u001b[43maxis\u001b[49m\u001b[43m,\u001b[49m\u001b[43m \u001b[49m\u001b[38;5;241;43m*\u001b[39;49m\u001b[38;5;241;43m*\u001b[39;49m\u001b[43mkwargs\u001b[49m\u001b[43m)\u001b[49m\n",
      "File \u001b[1;32mc:\\ProgramData\\anaconda3\\Lib\\site-packages\\pandas\\core\\nanops.py:639\u001b[0m, in \u001b[0;36mnansum\u001b[1;34m(values, axis, skipna, min_count, mask)\u001b[0m\n\u001b[0;32m    615\u001b[0m \u001b[38;5;250m\u001b[39m\u001b[38;5;124;03m\"\"\"\u001b[39;00m\n\u001b[0;32m    616\u001b[0m \u001b[38;5;124;03mSum the elements along an axis ignoring NaNs\u001b[39;00m\n\u001b[0;32m    617\u001b[0m \n\u001b[1;32m   (...)\u001b[0m\n\u001b[0;32m    636\u001b[0m \u001b[38;5;124;03m3.0\u001b[39;00m\n\u001b[0;32m    637\u001b[0m \u001b[38;5;124;03m\"\"\"\u001b[39;00m\n\u001b[0;32m    638\u001b[0m dtype \u001b[38;5;241m=\u001b[39m values\u001b[38;5;241m.\u001b[39mdtype\n\u001b[1;32m--> 639\u001b[0m values, mask \u001b[38;5;241m=\u001b[39m \u001b[43m_get_values\u001b[49m\u001b[43m(\u001b[49m\u001b[43mvalues\u001b[49m\u001b[43m,\u001b[49m\u001b[43m \u001b[49m\u001b[43mskipna\u001b[49m\u001b[43m,\u001b[49m\u001b[43m \u001b[49m\u001b[43mfill_value\u001b[49m\u001b[38;5;241;43m=\u001b[39;49m\u001b[38;5;241;43m0\u001b[39;49m\u001b[43m,\u001b[49m\u001b[43m \u001b[49m\u001b[43mmask\u001b[49m\u001b[38;5;241;43m=\u001b[39;49m\u001b[43mmask\u001b[49m\u001b[43m)\u001b[49m\n\u001b[0;32m    640\u001b[0m dtype_sum \u001b[38;5;241m=\u001b[39m _get_dtype_max(dtype)\n\u001b[0;32m    641\u001b[0m \u001b[38;5;28;01mif\u001b[39;00m dtype\u001b[38;5;241m.\u001b[39mkind \u001b[38;5;241m==\u001b[39m \u001b[38;5;124m\"\u001b[39m\u001b[38;5;124mf\u001b[39m\u001b[38;5;124m\"\u001b[39m:\n",
      "File \u001b[1;32mc:\\ProgramData\\anaconda3\\Lib\\site-packages\\pandas\\core\\nanops.py:294\u001b[0m, in \u001b[0;36m_get_values\u001b[1;34m(values, skipna, fill_value, fill_value_typ, mask)\u001b[0m\n\u001b[0;32m    260\u001b[0m \u001b[38;5;250m\u001b[39m\u001b[38;5;124;03m\"\"\"\u001b[39;00m\n\u001b[0;32m    261\u001b[0m \u001b[38;5;124;03mUtility to get the values view, mask, dtype, dtype_max, and fill_value.\u001b[39;00m\n\u001b[0;32m    262\u001b[0m \n\u001b[1;32m   (...)\u001b[0m\n\u001b[0;32m    288\u001b[0m \u001b[38;5;124;03m    Mask for values, if deemed necessary to compute\u001b[39;00m\n\u001b[0;32m    289\u001b[0m \u001b[38;5;124;03m\"\"\"\u001b[39;00m\n\u001b[0;32m    290\u001b[0m \u001b[38;5;66;03m# In _get_values is only called from within nanops, and in all cases\u001b[39;00m\n\u001b[0;32m    291\u001b[0m \u001b[38;5;66;03m#  with scalar fill_value.  This guarantee is important for the\u001b[39;00m\n\u001b[0;32m    292\u001b[0m \u001b[38;5;66;03m#  np.where call below\u001b[39;00m\n\u001b[1;32m--> 294\u001b[0m mask \u001b[38;5;241m=\u001b[39m \u001b[43m_maybe_get_mask\u001b[49m\u001b[43m(\u001b[49m\u001b[43mvalues\u001b[49m\u001b[43m,\u001b[49m\u001b[43m \u001b[49m\u001b[43mskipna\u001b[49m\u001b[43m,\u001b[49m\u001b[43m \u001b[49m\u001b[43mmask\u001b[49m\u001b[43m)\u001b[49m\n\u001b[0;32m    296\u001b[0m dtype \u001b[38;5;241m=\u001b[39m values\u001b[38;5;241m.\u001b[39mdtype\n\u001b[0;32m    298\u001b[0m datetimelike \u001b[38;5;241m=\u001b[39m \u001b[38;5;28;01mFalse\u001b[39;00m\n",
      "File \u001b[1;32mc:\\ProgramData\\anaconda3\\Lib\\site-packages\\pandas\\core\\nanops.py:248\u001b[0m, in \u001b[0;36m_maybe_get_mask\u001b[1;34m(values, skipna, mask)\u001b[0m\n\u001b[0;32m    245\u001b[0m         \u001b[38;5;28;01mreturn\u001b[39;00m \u001b[38;5;28;01mNone\u001b[39;00m\n\u001b[0;32m    247\u001b[0m     \u001b[38;5;28;01mif\u001b[39;00m skipna \u001b[38;5;129;01mor\u001b[39;00m values\u001b[38;5;241m.\u001b[39mdtype\u001b[38;5;241m.\u001b[39mkind \u001b[38;5;129;01min\u001b[39;00m \u001b[38;5;124m\"\u001b[39m\u001b[38;5;124mmM\u001b[39m\u001b[38;5;124m\"\u001b[39m:\n\u001b[1;32m--> 248\u001b[0m         mask \u001b[38;5;241m=\u001b[39m \u001b[43misna\u001b[49m\u001b[43m(\u001b[49m\u001b[43mvalues\u001b[49m\u001b[43m)\u001b[49m\n\u001b[0;32m    250\u001b[0m \u001b[38;5;28;01mreturn\u001b[39;00m mask\n",
      "File \u001b[1;32mc:\\ProgramData\\anaconda3\\Lib\\site-packages\\pandas\\core\\dtypes\\missing.py:178\u001b[0m, in \u001b[0;36misna\u001b[1;34m(obj)\u001b[0m\n\u001b[0;32m    101\u001b[0m \u001b[38;5;28;01mdef\u001b[39;00m \u001b[38;5;21misna\u001b[39m(obj: \u001b[38;5;28mobject\u001b[39m) \u001b[38;5;241m-\u001b[39m\u001b[38;5;241m>\u001b[39m \u001b[38;5;28mbool\u001b[39m \u001b[38;5;241m|\u001b[39m npt\u001b[38;5;241m.\u001b[39mNDArray[np\u001b[38;5;241m.\u001b[39mbool_] \u001b[38;5;241m|\u001b[39m NDFrame:\n\u001b[0;32m    102\u001b[0m \u001b[38;5;250m    \u001b[39m\u001b[38;5;124;03m\"\"\"\u001b[39;00m\n\u001b[0;32m    103\u001b[0m \u001b[38;5;124;03m    Detect missing values for an array-like object.\u001b[39;00m\n\u001b[0;32m    104\u001b[0m \n\u001b[1;32m   (...)\u001b[0m\n\u001b[0;32m    176\u001b[0m \u001b[38;5;124;03m    Name: 1, dtype: bool\u001b[39;00m\n\u001b[0;32m    177\u001b[0m \u001b[38;5;124;03m    \"\"\"\u001b[39;00m\n\u001b[1;32m--> 178\u001b[0m     \u001b[38;5;28;01mreturn\u001b[39;00m \u001b[43m_isna\u001b[49m\u001b[43m(\u001b[49m\u001b[43mobj\u001b[49m\u001b[43m)\u001b[49m\n",
      "File \u001b[1;32mc:\\ProgramData\\anaconda3\\Lib\\site-packages\\pandas\\core\\dtypes\\missing.py:207\u001b[0m, in \u001b[0;36m_isna\u001b[1;34m(obj, inf_as_na)\u001b[0m\n\u001b[0;32m    205\u001b[0m     \u001b[38;5;28;01mreturn\u001b[39;00m \u001b[38;5;28;01mFalse\u001b[39;00m\n\u001b[0;32m    206\u001b[0m \u001b[38;5;28;01melif\u001b[39;00m \u001b[38;5;28misinstance\u001b[39m(obj, (np\u001b[38;5;241m.\u001b[39mndarray, ABCExtensionArray)):\n\u001b[1;32m--> 207\u001b[0m     \u001b[38;5;28;01mreturn\u001b[39;00m \u001b[43m_isna_array\u001b[49m\u001b[43m(\u001b[49m\u001b[43mobj\u001b[49m\u001b[43m,\u001b[49m\u001b[43m \u001b[49m\u001b[43minf_as_na\u001b[49m\u001b[38;5;241;43m=\u001b[39;49m\u001b[43minf_as_na\u001b[49m\u001b[43m)\u001b[49m\n\u001b[0;32m    208\u001b[0m \u001b[38;5;28;01melif\u001b[39;00m \u001b[38;5;28misinstance\u001b[39m(obj, ABCIndex):\n\u001b[0;32m    209\u001b[0m     \u001b[38;5;66;03m# Try to use cached isna, which also short-circuits for integer dtypes\u001b[39;00m\n\u001b[0;32m    210\u001b[0m     \u001b[38;5;66;03m#  and avoids materializing RangeIndex._values\u001b[39;00m\n\u001b[0;32m    211\u001b[0m     \u001b[38;5;28;01mif\u001b[39;00m \u001b[38;5;129;01mnot\u001b[39;00m obj\u001b[38;5;241m.\u001b[39m_can_hold_na:\n",
      "File \u001b[1;32mc:\\ProgramData\\anaconda3\\Lib\\site-packages\\pandas\\core\\dtypes\\missing.py:300\u001b[0m, in \u001b[0;36m_isna_array\u001b[1;34m(values, inf_as_na)\u001b[0m\n\u001b[0;32m    298\u001b[0m         result \u001b[38;5;241m=\u001b[39m \u001b[38;5;241m~\u001b[39mnp\u001b[38;5;241m.\u001b[39misfinite(values)\n\u001b[0;32m    299\u001b[0m     \u001b[38;5;28;01melse\u001b[39;00m:\n\u001b[1;32m--> 300\u001b[0m         result \u001b[38;5;241m=\u001b[39m \u001b[43mnp\u001b[49m\u001b[38;5;241;43m.\u001b[39;49m\u001b[43misnan\u001b[49m\u001b[43m(\u001b[49m\u001b[43mvalues\u001b[49m\u001b[43m)\u001b[49m\n\u001b[0;32m    302\u001b[0m \u001b[38;5;28;01mreturn\u001b[39;00m result\n",
      "\u001b[1;31mKeyboardInterrupt\u001b[0m: "
     ]
    }
   ],
   "source": [
    "# Train model only on train_data\n",
    "vocabulary = find_vocabulary(train_data)\n",
    "count_matrix = find_count_matrix(train_data, vocabulary)\n",
    "prior_probs = find_prior_prob(train_data)\n",
    "conditional_probs = find_conditional_prob(train_data, vocabulary, count_matrix)"
   ]
  },
  {
   "cell_type": "code",
   "execution_count": null,
   "metadata": {},
   "outputs": [],
   "source": [
    "# Classify the unsupervised dataset\n",
    "unlabelled = pd.read_csv(\"sms_unlabelled.csv\")\n",
    "unlabelled_instances = unlabelled[\"textPreprocessed\"]\n",
    "predicted_labels = []\n",
    "for unlabelled_instance in unlabelled_instances:\n",
    "    predicted_label = classify_test_instance(unlabelled, vocabulary, unlabelled_instance, prior_probs, conditional_probs)\n",
    "    predicted_labels.append(predicted_label)\n",
    "\n",
    "unlabelled[\"predicted class\"] = predicted_labels"
   ]
  },
  {
   "cell_type": "code",
   "execution_count": null,
   "metadata": {},
   "outputs": [
    {
     "data": {
      "text/html": [
       "<div>\n",
       "<style scoped>\n",
       "    .dataframe tbody tr th:only-of-type {\n",
       "        vertical-align: middle;\n",
       "    }\n",
       "\n",
       "    .dataframe tbody tr th {\n",
       "        vertical-align: top;\n",
       "    }\n",
       "\n",
       "    .dataframe thead th {\n",
       "        text-align: right;\n",
       "    }\n",
       "</style>\n",
       "<table border=\"1\" class=\"dataframe\">\n",
       "  <thead>\n",
       "    <tr style=\"text-align: right;\">\n",
       "      <th></th>\n",
       "      <th>textOriginal</th>\n",
       "      <th>textPreprocessed</th>\n",
       "      <th>class</th>\n",
       "      <th>predicted class</th>\n",
       "    </tr>\n",
       "  </thead>\n",
       "  <tbody>\n",
       "    <tr>\n",
       "      <th>0</th>\n",
       "      <td>Your opinion about me? 1. Over 2. Jada 3. Kusr...</td>\n",
       "      <td>opinion ? 1 . . . . . . . . . 2 3 4 lovable 5 ...</td>\n",
       "      <td>0</td>\n",
       "      <td>0.0</td>\n",
       "    </tr>\n",
       "    <tr>\n",
       "      <th>1</th>\n",
       "      <td>Please Stay At Home. To encourage the notion o...</td>\n",
       "      <td>. . . � home home please stay stay citizen ent...</td>\n",
       "      <td>1</td>\n",
       "      <td>1.0</td>\n",
       "    </tr>\n",
       "    <tr>\n",
       "      <th>2</th>\n",
       "      <td>BankOfAmerica Alert 137943. Please follow http...</td>\n",
       "      <td>. please alert follow re-activate</td>\n",
       "      <td>1</td>\n",
       "      <td>1.0</td>\n",
       "    </tr>\n",
       "    <tr>\n",
       "      <th>3</th>\n",
       "      <td>Sorry dude. Dont know how i forgot. Even after...</td>\n",
       "      <td>. . . . . sorry sorry dude know forget even re...</td>\n",
       "      <td>0</td>\n",
       "      <td>0.0</td>\n",
       "    </tr>\n",
       "    <tr>\n",
       "      <th>4</th>\n",
       "      <td>No. I dont want to hear anything</td>\n",
       "      <td>. hear anything</td>\n",
       "      <td>0</td>\n",
       "      <td>0.0</td>\n",
       "    </tr>\n",
       "    <tr>\n",
       "      <th>...</th>\n",
       "      <td>...</td>\n",
       "      <td>...</td>\n",
       "      <td>...</td>\n",
       "      <td>...</td>\n",
       "    </tr>\n",
       "    <tr>\n",
       "      <th>1995</th>\n",
       "      <td>Kay... Since we are out already</td>\n",
       "      <td>already ...</td>\n",
       "      <td>0</td>\n",
       "      <td>0.0</td>\n",
       "    </tr>\n",
       "    <tr>\n",
       "      <th>1996</th>\n",
       "      <td>call now 08707509020 Just 20p per min NTT Ltd...</td>\n",
       "      <td>, call call just rate national per 0870 min 08...</td>\n",
       "      <td>1</td>\n",
       "      <td>1.0</td>\n",
       "    </tr>\n",
       "    <tr>\n",
       "      <th>1997</th>\n",
       "      <td>Are you angry with me. What happen dear</td>\n",
       "      <td>. angry dear happen</td>\n",
       "      <td>0</td>\n",
       "      <td>0.0</td>\n",
       "    </tr>\n",
       "    <tr>\n",
       "      <th>1998</th>\n",
       "      <td>We r outside already.</td>\n",
       "      <td>. already r outside</td>\n",
       "      <td>0</td>\n",
       "      <td>0.0</td>\n",
       "    </tr>\n",
       "    <tr>\n",
       "      <th>1999</th>\n",
       "      <td>The Xmas story is peace.. The Xmas msg is love...</td>\n",
       "      <td>.. .. .. u ... story month love &amp; amp ; msg wi...</td>\n",
       "      <td>0</td>\n",
       "      <td>0.0</td>\n",
       "    </tr>\n",
       "  </tbody>\n",
       "</table>\n",
       "<p>2000 rows × 4 columns</p>\n",
       "</div>"
      ],
      "text/plain": [
       "                                           textOriginal  \\\n",
       "0     Your opinion about me? 1. Over 2. Jada 3. Kusr...   \n",
       "1     Please Stay At Home. To encourage the notion o...   \n",
       "2     BankOfAmerica Alert 137943. Please follow http...   \n",
       "3     Sorry dude. Dont know how i forgot. Even after...   \n",
       "4                      No. I dont want to hear anything   \n",
       "...                                                 ...   \n",
       "1995                    Kay... Since we are out already   \n",
       "1996   call now 08707509020 Just 20p per min NTT Ltd...   \n",
       "1997            Are you angry with me. What happen dear   \n",
       "1998                              We r outside already.   \n",
       "1999  The Xmas story is peace.. The Xmas msg is love...   \n",
       "\n",
       "                                       textPreprocessed  class  \\\n",
       "0     opinion ? 1 . . . . . . . . . 2 3 4 lovable 5 ...      0   \n",
       "1     . . . � home home please stay stay citizen ent...      1   \n",
       "2                     . please alert follow re-activate      1   \n",
       "3     . . . . . sorry sorry dude know forget even re...      0   \n",
       "4                                       . hear anything      0   \n",
       "...                                                 ...    ...   \n",
       "1995                                        already ...      0   \n",
       "1996  , call call just rate national per 0870 min 08...      1   \n",
       "1997                                . angry dear happen      0   \n",
       "1998                                . already r outside      0   \n",
       "1999  .. .. .. u ... story month love & amp ; msg wi...      0   \n",
       "\n",
       "      predicted class  \n",
       "0                 0.0  \n",
       "1                 1.0  \n",
       "2                 1.0  \n",
       "3                 0.0  \n",
       "4                 0.0  \n",
       "...               ...  \n",
       "1995              0.0  \n",
       "1996              1.0  \n",
       "1997              0.0  \n",
       "1998              0.0  \n",
       "1999              0.0  \n",
       "\n",
       "[2000 rows x 4 columns]"
      ]
     },
     "metadata": {},
     "output_type": "display_data"
    },
    {
     "data": {
      "text/html": [
       "<div>\n",
       "<style scoped>\n",
       "    .dataframe tbody tr th:only-of-type {\n",
       "        vertical-align: middle;\n",
       "    }\n",
       "\n",
       "    .dataframe tbody tr th {\n",
       "        vertical-align: top;\n",
       "    }\n",
       "\n",
       "    .dataframe thead th {\n",
       "        text-align: right;\n",
       "    }\n",
       "</style>\n",
       "<table border=\"1\" class=\"dataframe\">\n",
       "  <thead>\n",
       "    <tr style=\"text-align: right;\">\n",
       "      <th></th>\n",
       "      <th>textOriginal</th>\n",
       "      <th>textPreprocessed</th>\n",
       "      <th>class</th>\n",
       "      <th>predicted class</th>\n",
       "    </tr>\n",
       "  </thead>\n",
       "  <tbody>\n",
       "    <tr>\n",
       "      <th>113</th>\n",
       "      <td>ALRITE</td>\n",
       "      <td>alrite</td>\n",
       "      <td>0</td>\n",
       "      <td>NaN</td>\n",
       "    </tr>\n",
       "  </tbody>\n",
       "</table>\n",
       "</div>"
      ],
      "text/plain": [
       "    textOriginal textPreprocessed  class  predicted class\n",
       "113       ALRITE           alrite      0              NaN"
      ]
     },
     "metadata": {},
     "output_type": "display_data"
    },
    {
     "data": {
      "text/html": [
       "<div>\n",
       "<style scoped>\n",
       "    .dataframe tbody tr th:only-of-type {\n",
       "        vertical-align: middle;\n",
       "    }\n",
       "\n",
       "    .dataframe tbody tr th {\n",
       "        vertical-align: top;\n",
       "    }\n",
       "\n",
       "    .dataframe thead th {\n",
       "        text-align: right;\n",
       "    }\n",
       "</style>\n",
       "<table border=\"1\" class=\"dataframe\">\n",
       "  <thead>\n",
       "    <tr style=\"text-align: right;\">\n",
       "      <th></th>\n",
       "      <th>textOriginal</th>\n",
       "      <th>textPreprocessed</th>\n",
       "      <th>class</th>\n",
       "    </tr>\n",
       "  </thead>\n",
       "  <tbody>\n",
       "    <tr>\n",
       "      <th>0</th>\n",
       "      <td>Your opinion about me? 1. Over 2. Jada 3. Kusr...</td>\n",
       "      <td>opinion ? 1 . . . . . . . . . 2 3 4 lovable 5 ...</td>\n",
       "      <td>0.0</td>\n",
       "    </tr>\n",
       "    <tr>\n",
       "      <th>1</th>\n",
       "      <td>Please Stay At Home. To encourage the notion o...</td>\n",
       "      <td>. . . � home home please stay stay citizen ent...</td>\n",
       "      <td>1.0</td>\n",
       "    </tr>\n",
       "    <tr>\n",
       "      <th>2</th>\n",
       "      <td>BankOfAmerica Alert 137943. Please follow http...</td>\n",
       "      <td>. please alert follow re-activate</td>\n",
       "      <td>1.0</td>\n",
       "    </tr>\n",
       "    <tr>\n",
       "      <th>3</th>\n",
       "      <td>Sorry dude. Dont know how i forgot. Even after...</td>\n",
       "      <td>. . . . . sorry sorry dude know forget even re...</td>\n",
       "      <td>0.0</td>\n",
       "    </tr>\n",
       "    <tr>\n",
       "      <th>4</th>\n",
       "      <td>No. I dont want to hear anything</td>\n",
       "      <td>. hear anything</td>\n",
       "      <td>0.0</td>\n",
       "    </tr>\n",
       "  </tbody>\n",
       "</table>\n",
       "</div>"
      ],
      "text/plain": [
       "                                        textOriginal  \\\n",
       "0  Your opinion about me? 1. Over 2. Jada 3. Kusr...   \n",
       "1  Please Stay At Home. To encourage the notion o...   \n",
       "2  BankOfAmerica Alert 137943. Please follow http...   \n",
       "3  Sorry dude. Dont know how i forgot. Even after...   \n",
       "4                   No. I dont want to hear anything   \n",
       "\n",
       "                                    textPreprocessed  class  \n",
       "0  opinion ? 1 . . . . . . . . . 2 3 4 lovable 5 ...    0.0  \n",
       "1  . . . � home home please stay stay citizen ent...    1.0  \n",
       "2                  . please alert follow re-activate    1.0  \n",
       "3  . . . . . sorry sorry dude know forget even re...    0.0  \n",
       "4                                    . hear anything    0.0  "
      ]
     },
     "metadata": {},
     "output_type": "display_data"
    }
   ],
   "source": [
    "# Drop any instances that can not be classified because none of its tokens appeared in vocabulary\n",
    "display(unlabelled)\n",
    "display(unlabelled[unlabelled[\"predicted class\"].isna()])\n",
    "unlabelled.dropna(subset=[\"predicted class\"], inplace=True)\n",
    "unlabelled = unlabelled[[\"textOriginal\", \"textPreprocessed\", \"predicted class\"]]\n",
    "unlabelled.rename(columns={\"predicted class\": \"class\"}, inplace=True)\n",
    "display(unlabelled.head())"
   ]
  },
  {
   "cell_type": "code",
   "execution_count": null,
   "metadata": {},
   "outputs": [],
   "source": [
    "# Retrain model on train_data + unlabelled data, do not touch validation set\n",
    "expanded_data = pd.concat([train_data, unlabelled], axis=0)\n",
    "expanded_data.reset_index(inplace=True, drop=False)\n",
    "vocabulary = find_vocabulary(expanded_data)\n",
    "count_matrix = find_count_matrix(expanded_data, vocabulary)\n",
    "prior_probs = find_prior_prob(expanded_data)\n",
    "conditional_probs = find_conditional_prob(expanded_data, vocabulary, count_matrix)"
   ]
  },
  {
   "cell_type": "markdown",
   "metadata": {},
   "source": [
    "**1. Is it better to use all of the unlabelled data as described above, or only the instances that the Q1 model could label with high confidence?**"
   ]
  },
  {
   "cell_type": "code",
   "execution_count": null,
   "metadata": {},
   "outputs": [],
   "source": [
    "def create_model(data):\n",
    "    vocabulary = find_vocabulary(data)\n",
    "    count_matrix = find_count_matrix(data, vocabulary)\n",
    "    prior_probs = find_prior_prob(data)\n",
    "    conditional_probs = find_conditional_prob(data, vocabulary, count_matrix)\n",
    "\n",
    "    return {\"data\": data,\n",
    "            \"vocabulary\": vocabulary,\n",
    "            \"count_matrix\": count_matrix,\n",
    "            \"prior_probs\": prior_probs,\n",
    "            \"conditional_probs\": conditional_probs}"
   ]
  },
  {
   "cell_type": "code",
   "execution_count": null,
   "metadata": {},
   "outputs": [],
   "source": [
    "def get_top_confident_instances(model, unlabelled, conf=1):\n",
    "    data = model[\"data\"]\n",
    "    vocabulary = model[\"vocabulary\"]\n",
    "    count_matrix = model[\"count_matrix\"]\n",
    "    prior_probs = model[\"prior_probs\"]\n",
    "    conditional_probs = model[\"conditional_probs\"]\n",
    "\n",
    "    # Find R scores for each of the unlabelled instances\n",
    "\n",
    "    # Confidence of scam \n",
    "    scam_confidence = find_top_test_ratios(unlabelled, vocabulary, prior_probs, conditional_probs, c1=1, c2=0, top=len(unlabelled))\n",
    "    # Confidence of non-malicious\n",
    "    non_mal_confidence = find_top_test_ratios(unlabelled, vocabulary, prior_probs, conditional_probs, c1=0, c2=1, top=len(unlabelled))\n",
    "    \n",
    "    return scam_confidence, non_mal_confidence"
   ]
  },
  {
   "cell_type": "code",
   "execution_count": null,
   "metadata": {},
   "outputs": [],
   "source": [
    "train_model = create_model(train_data)"
   ]
  },
  {
   "cell_type": "code",
   "execution_count": null,
   "metadata": {},
   "outputs": [],
   "source": [
    "scam_confidence, non_mal_confidence = get_top_confident_instances(train_model, unlabelled)"
   ]
  },
  {
   "cell_type": "code",
   "execution_count": null,
   "metadata": {},
   "outputs": [
    {
     "data": {
      "text/plain": [
       "1999"
      ]
     },
     "metadata": {},
     "output_type": "display_data"
    },
    {
     "data": {
      "text/plain": [
       "1946"
      ]
     },
     "metadata": {},
     "output_type": "display_data"
    },
    {
     "data": {
      "text/plain": [
       "1946"
      ]
     },
     "metadata": {},
     "output_type": "display_data"
    },
    {
     "data": {
      "text/plain": [
       "{'. call £ £ guarantee won customer prize prize claim service 1000 10p yr 2000 representative cash 10am-7pm cost': 3.062234680601251e+20,\n",
       " ', ! ! ! ! call win £ * * * * * * * * * * * * * * * prize number 2nd urgent bonus mobile 2000 caller 150ppm attempt reach asap box': 1.906834375497819e+19,\n",
       " '. . please call £ apply end 350 todays voda number select receive match 08712300220 quoting claim code standard rate reward': 1.8895283672992813e+19,\n",
       " '. please call award apply end rs. vodafone todays number select receive match quoting claim code standard rate 2,00,000 7679046492': 1.81911444193788e+19,\n",
       " '. please call award apply end rs. vodafone todays number select receive match quoting claim code standard rate 2,00,000 8927307655': 9.0955722096894e+18,\n",
       " '2 2 4 u speak + ( ( ) ) / £ * select receive claim inc holiday 1000 18 live min winner specially operator flight': 8.643881123545552e+18,\n",
       " '1 2 3 week ! ) ) ) f : new download tone tone ready > > > > > > > > > info n weekly black p crazy include': 6.683733065279842e+18,\n",
       " '2 2 4 u u r speak ( ( ) ) / £ * select receive claim inc ave holiday 1000 18 live min winner cash specially operator flight': 6.018061946896724e+18,\n",
       " '. . ! call win £ show prize prize todays try contact land line u. draw draw 2000 guaranteed valid 12hrs xmas': 4.3907801898421647e+18,\n",
       " '2 free ur r award £ £ txt & & 500 100 cd gift voucher entry weekly draw music 87066 xmas': 3.329539358389575e+18,\n",
       " '. 4 free get ur ur week week tell + ! 1st / every txt just tone tone mate 16 mobile nokia nokia pobox www.getzed.co.uk no1 txting 36504 w45wq norm150p': 2.1475294797306307e+18,\n",
       " '. please call award end 350 todays voda number select receive match 08712300220 quoting claim code standard rate app $': 1.8849376618764216e+18,\n",
       " '4 get ur ur week tell + / every txt just tone tone mate 16 mob 8007 nokia nokia pobox www.getzed.co.uk no1 txting 36504 w45wq norm150p': 1.278181348776028e+18,\n",
       " '. ! call award win £ prize number claim urgent land line mobile 2000 150ppm guaranteed 3030 valid 12hrs': 1.1622301762817956e+18,\n",
       " '. . . ! call win £ show prize todays claim urgent try contact land line u. draw 2000 guaranteed 3030 valid 12hrs': 9.015341030053252e+17,\n",
       " ', ! ! ! ! call win £ * * * * * * * * * * * prize 2nd urgent bonus mobile caller 150ppm attempt reach 2,000 02/06/03 asap': 3.652292290510007e+17,\n",
       " '. . . . . 4 please + ! call £ * holiday & urgent t 16 landline 150ppm cash cs await collection po box 5000 island sae': 3.3308045647749e+17,\n",
       " '2 free even ur stop + ( ) call award award win £ £ 200 guarantee claim 1000 18': 3.222710609159282e+17,\n",
       " '. . . ! call win £ show prize todays claim urgent try contact land line 800 u. draw guaranteed valid 12hrs': 2.7574918993311286e+17,\n",
       " '. . . , please order text call / : customer tone number [ [ service mobile ] ] colour colour thanks ringtone reference charge 4.50 arrive = red x49 09065989182': 1.5408507054990195e+17,\n",
       " '. . . . . , weekend ! call show rs. customer prize claim code urgent try last contact dear draw guaranteed valid 12hrs fl1pkart w0n 5,00,000 7044518857': 1.4372562184674955e+17,\n",
       " '. . . ! ! ! call £ value customer prize select claim claim code hour network valid winner 900 reward 12': 1.1400127406716894e+17,\n",
       " 'u weekend call win £ show prize claim code pm urgent try last 150p 1000 contact draw guaranteed valid 12hrs k52': 1.0305821550756218e+17,\n",
       " 'please ! call £ £ guarantee won customer prize service 0800 1000 representative 10am-9pm cash 5000': 7.171951222480286e+16,\n",
       " '. . 2 2 4 free week 1st win £ every wk txt & chance 250 entry 08712405020 cash ts cs custcare 40gb ipod www.textpod.net 81303': 5.577180485459149e+16,\n",
       " '. . call award award £ £ end vodafone 350 350 todays number number select receive receive match': 5.502127297597983e+16,\n",
       " '2 free ur award txt guarantee & 500 100 congratulation cd voucher entry draw music 87066 tncs wkly': 5.466870980748191e+16,\n",
       " '. . . ! call award £ prize number claim urgent land line mobile 2000 150ppm guaranteed 3030 valid 12hrs': 5.318580270401679e+16,\n",
       " '. . . . . , weekend ! call show rs. customer prize claim code urgent try last contact dear draw guaranteed valid 12hrs fl1pkart w0n 8536074310 k52': 4.790854061558315e+16,\n",
       " '. . . ! call award prize number claim urgent < > mobile 2000 landline 150ppm guaranteed 3030 valid 12hrs': 4.473572190057488e+16}"
      ]
     },
     "metadata": {},
     "output_type": "display_data"
    },
    {
     "data": {
      "text/plain": [
       "{\". . 4 u u , , , , , , , , ... year good 's new & & & amp ; ; ; day day day day day day lt # gt morning father happy happy happy happy happy happy happy happy happy happy happy happy happy happy happy u. jan fast wish wish valentines friendship mother teacher birthday christmas afternoon first\": 6.484102529862571e+33,\n",
       " '. . . . . 2 u u u , send send get like ... ... good person break break news & & & & ; ; ; ; tomorrow day lt lt # # gt gt problem life friday d min gud gud frnds dis pple dat hav lover read wil marry': 5.5879485819944075e+32,\n",
       " '. . . . . . . . . . . . . . . .. .. up up come thing thing get anyone anyone like late tell say lady time time every every every every take end end feel love love love love love ready girl day day morning dream need thank give thought always life life life name happen first beautiful beautiful start start start around around god fight cry whole lot crazy happiness': 1.0675478207016377e+31,\n",
       " '.. .. .. .. u u u , , , dude get il wen & & & & & & ; ; ; ; ; ; lt lt lt # # # gt gt gt credit mail draw y frnds rs rs rs money wit link thts member acc vl': 4.634715861496406e+30,\n",
       " '. , , , e text time & & & & & & ; ; ; ; ; ; tomorrow lt lt lt # # gt gt gt check again g st double': 2.3157857204390384e+27}"
      ]
     },
     "metadata": {},
     "output_type": "display_data"
    }
   ],
   "source": [
    "display(len(unlabelled))\n",
    "display(len(scam_confidence))\n",
    "display(len(non_mal_confidence))\n",
    "display(dict(sorted(scam_confidence.items(), key=lambda x: x[1], reverse=True)[:30]))\n",
    "display(dict(sorted(non_mal_confidence.items(), key=lambda x: x[1], reverse=True)[:5]))"
   ]
  },
  {
   "cell_type": "code",
   "execution_count": null,
   "metadata": {},
   "outputs": [
    {
     "data": {
      "text/html": [
       "<div>\n",
       "<style scoped>\n",
       "    .dataframe tbody tr th:only-of-type {\n",
       "        vertical-align: middle;\n",
       "    }\n",
       "\n",
       "    .dataframe tbody tr th {\n",
       "        vertical-align: top;\n",
       "    }\n",
       "\n",
       "    .dataframe thead th {\n",
       "        text-align: right;\n",
       "    }\n",
       "</style>\n",
       "<table border=\"1\" class=\"dataframe\">\n",
       "  <thead>\n",
       "    <tr style=\"text-align: right;\">\n",
       "      <th></th>\n",
       "      <th>textOriginal</th>\n",
       "      <th>textPreprocessed</th>\n",
       "      <th>class</th>\n",
       "      <th>Scam confidence</th>\n",
       "      <th>Non-malicious confidence</th>\n",
       "    </tr>\n",
       "  </thead>\n",
       "  <tbody>\n",
       "    <tr>\n",
       "      <th>0</th>\n",
       "      <td>Your opinion about me? 1. Over 2. Jada 3. Kusr...</td>\n",
       "      <td>opinion ? 1 . . . . . . . . . 2 3 4 lovable 5 ...</td>\n",
       "      <td>0.0</td>\n",
       "      <td>2.014906e-04</td>\n",
       "      <td>4.963010e+03</td>\n",
       "    </tr>\n",
       "    <tr>\n",
       "      <th>1</th>\n",
       "      <td>Please Stay At Home. To encourage the notion o...</td>\n",
       "      <td>. . . � home home please stay stay citizen ent...</td>\n",
       "      <td>1.0</td>\n",
       "      <td>1.264532e+00</td>\n",
       "      <td>7.908066e-01</td>\n",
       "    </tr>\n",
       "    <tr>\n",
       "      <th>2</th>\n",
       "      <td>BankOfAmerica Alert 137943. Please follow http...</td>\n",
       "      <td>. please alert follow re-activate</td>\n",
       "      <td>1.0</td>\n",
       "      <td>6.289955e+01</td>\n",
       "      <td>1.589837e-02</td>\n",
       "    </tr>\n",
       "    <tr>\n",
       "      <th>3</th>\n",
       "      <td>Sorry dude. Dont know how i forgot. Even after...</td>\n",
       "      <td>. . . . . sorry sorry dude know forget even re...</td>\n",
       "      <td>0.0</td>\n",
       "      <td>2.659360e-08</td>\n",
       "      <td>3.760304e+07</td>\n",
       "    </tr>\n",
       "    <tr>\n",
       "      <th>4</th>\n",
       "      <td>No. I dont want to hear anything</td>\n",
       "      <td>. hear anything</td>\n",
       "      <td>0.0</td>\n",
       "      <td>1.031944e-02</td>\n",
       "      <td>9.690453e+01</td>\n",
       "    </tr>\n",
       "    <tr>\n",
       "      <th>...</th>\n",
       "      <td>...</td>\n",
       "      <td>...</td>\n",
       "      <td>...</td>\n",
       "      <td>...</td>\n",
       "      <td>...</td>\n",
       "    </tr>\n",
       "    <tr>\n",
       "      <th>1995</th>\n",
       "      <td>Kay... Since we are out already</td>\n",
       "      <td>already ...</td>\n",
       "      <td>0.0</td>\n",
       "      <td>4.059396e-04</td>\n",
       "      <td>2.463421e+03</td>\n",
       "    </tr>\n",
       "    <tr>\n",
       "      <th>1996</th>\n",
       "      <td>call now 08707509020 Just 20p per min NTT Ltd...</td>\n",
       "      <td>, call call just rate national per 0870 min 08...</td>\n",
       "      <td>1.0</td>\n",
       "      <td>9.422397e+12</td>\n",
       "      <td>1.061301e-13</td>\n",
       "    </tr>\n",
       "    <tr>\n",
       "      <th>1997</th>\n",
       "      <td>Are you angry with me. What happen dear</td>\n",
       "      <td>. angry dear happen</td>\n",
       "      <td>0.0</td>\n",
       "      <td>1.030894e-02</td>\n",
       "      <td>9.700318e+01</td>\n",
       "    </tr>\n",
       "    <tr>\n",
       "      <th>1998</th>\n",
       "      <td>We r outside already.</td>\n",
       "      <td>. already r outside</td>\n",
       "      <td>0.0</td>\n",
       "      <td>2.387732e-03</td>\n",
       "      <td>4.188074e+02</td>\n",
       "    </tr>\n",
       "    <tr>\n",
       "      <th>1999</th>\n",
       "      <td>The Xmas story is peace.. The Xmas msg is love...</td>\n",
       "      <td>.. .. .. u ... story month love &amp; amp ; msg wi...</td>\n",
       "      <td>0.0</td>\n",
       "      <td>1.399660e-09</td>\n",
       "      <td>7.144591e+08</td>\n",
       "    </tr>\n",
       "  </tbody>\n",
       "</table>\n",
       "<p>1999 rows × 5 columns</p>\n",
       "</div>"
      ],
      "text/plain": [
       "                                           textOriginal  \\\n",
       "0     Your opinion about me? 1. Over 2. Jada 3. Kusr...   \n",
       "1     Please Stay At Home. To encourage the notion o...   \n",
       "2     BankOfAmerica Alert 137943. Please follow http...   \n",
       "3     Sorry dude. Dont know how i forgot. Even after...   \n",
       "4                      No. I dont want to hear anything   \n",
       "...                                                 ...   \n",
       "1995                    Kay... Since we are out already   \n",
       "1996   call now 08707509020 Just 20p per min NTT Ltd...   \n",
       "1997            Are you angry with me. What happen dear   \n",
       "1998                              We r outside already.   \n",
       "1999  The Xmas story is peace.. The Xmas msg is love...   \n",
       "\n",
       "                                       textPreprocessed  class  \\\n",
       "0     opinion ? 1 . . . . . . . . . 2 3 4 lovable 5 ...    0.0   \n",
       "1     . . . � home home please stay stay citizen ent...    1.0   \n",
       "2                     . please alert follow re-activate    1.0   \n",
       "3     . . . . . sorry sorry dude know forget even re...    0.0   \n",
       "4                                       . hear anything    0.0   \n",
       "...                                                 ...    ...   \n",
       "1995                                        already ...    0.0   \n",
       "1996  , call call just rate national per 0870 min 08...    1.0   \n",
       "1997                                . angry dear happen    0.0   \n",
       "1998                                . already r outside    0.0   \n",
       "1999  .. .. .. u ... story month love & amp ; msg wi...    0.0   \n",
       "\n",
       "      Scam confidence  Non-malicious confidence  \n",
       "0        2.014906e-04              4.963010e+03  \n",
       "1        1.264532e+00              7.908066e-01  \n",
       "2        6.289955e+01              1.589837e-02  \n",
       "3        2.659360e-08              3.760304e+07  \n",
       "4        1.031944e-02              9.690453e+01  \n",
       "...               ...                       ...  \n",
       "1995     4.059396e-04              2.463421e+03  \n",
       "1996     9.422397e+12              1.061301e-13  \n",
       "1997     1.030894e-02              9.700318e+01  \n",
       "1998     2.387732e-03              4.188074e+02  \n",
       "1999     1.399660e-09              7.144591e+08  \n",
       "\n",
       "[1999 rows x 5 columns]"
      ]
     },
     "execution_count": 57,
     "metadata": {},
     "output_type": "execute_result"
    }
   ],
   "source": [
    "unlabelled[\"Scam confidence\"] = unlabelled[\"textPreprocessed\"].apply(lambda x: scam_confidence.get(x, None))\n",
    "unlabelled[\"Non-malicious confidence\"] = unlabelled[\"textPreprocessed\"].apply(lambda x: non_mal_confidence.get(x,None))\n",
    "unlabelled"
   ]
  },
  {
   "cell_type": "code",
   "execution_count": null,
   "metadata": {},
   "outputs": [],
   "source": [
    "# filtered_unlabelled = unlabelled[(~unlabelled[\"Scam confidence\"].isna()) & (~unlabelled[\"Non-malicious confidence\"].isna())]\n",
    "# filtered_unlabelled = unlabelled[(~unlabelled[\"Scam confidence\"].isna()) | (~unlabelled[\"Non-malicious confidence\"].isna())]\n",
    "# filtered_unlabelled\n",
    "\n",
    "# Create function to get add top X% of Scam conf instance and top Y% of Non-malicious conf inst to the expanded dataset"
   ]
  },
  {
   "cell_type": "code",
   "execution_count": null,
   "metadata": {},
   "outputs": [],
   "source": [
    "def get_top_confidence(unlabelled, scam_prop, non_mal_prop):\n",
    "    # print(len(unlabelled)) # 1999, dropped 1 instance due to not having tokens in vocab\n",
    "    confident_scam_instances = unlabelled[unlabelled[\"Scam confidence\"] > 1]\n",
    "    confident_non_mal_instances = unlabelled[unlabelled[\"Non-malicious confidence\"] > 1]\n",
    "\n",
    "    num_scam = int(len(confident_scam_instances) * scam_prop / 100)\n",
    "    num_non_mal = int(len(confident_non_mal_instances) * non_mal_prop / 100)\n",
    "\n",
    "    # Get the indexes of the top scam confidence values\n",
    "    top_scam_idx = confident_scam_instances.nlargest(num_scam, \"Scam confidence\").index\n",
    "    \n",
    "    # Get the indexes of the top non-malicious confidence values\n",
    "    top_non_mal_idx = confident_non_mal_instances.nlargest(num_non_mal, \"Non-malicious confidence\").index\n",
    "\n",
    "    confident_idx = list(set(top_scam_idx).union(top_non_mal_idx))\n",
    "    unlabelled = unlabelled.iloc[confident_idx[0:1998]]\n",
    "    display(unlabelled)\n",
    "\n",
    "    return unlabelled"
   ]
  },
  {
   "cell_type": "code",
   "execution_count": null,
   "metadata": {},
   "outputs": [
    {
     "data": {
      "text/html": [
       "<div>\n",
       "<style scoped>\n",
       "    .dataframe tbody tr th:only-of-type {\n",
       "        vertical-align: middle;\n",
       "    }\n",
       "\n",
       "    .dataframe tbody tr th {\n",
       "        vertical-align: top;\n",
       "    }\n",
       "\n",
       "    .dataframe thead th {\n",
       "        text-align: right;\n",
       "    }\n",
       "</style>\n",
       "<table border=\"1\" class=\"dataframe\">\n",
       "  <thead>\n",
       "    <tr style=\"text-align: right;\">\n",
       "      <th></th>\n",
       "      <th>textOriginal</th>\n",
       "      <th>textPreprocessed</th>\n",
       "      <th>class</th>\n",
       "      <th>Scam confidence</th>\n",
       "      <th>Non-malicious confidence</th>\n",
       "    </tr>\n",
       "  </thead>\n",
       "  <tbody>\n",
       "    <tr>\n",
       "      <th>0</th>\n",
       "      <td>Your opinion about me? 1. Over 2. Jada 3. Kusr...</td>\n",
       "      <td>opinion ? 1 . . . . . . . . . 2 3 4 lovable 5 ...</td>\n",
       "      <td>0.0</td>\n",
       "      <td>2.014906e-04</td>\n",
       "      <td>4.963010e+03</td>\n",
       "    </tr>\n",
       "    <tr>\n",
       "      <th>1</th>\n",
       "      <td>Please Stay At Home. To encourage the notion o...</td>\n",
       "      <td>. . . � home home please stay stay citizen ent...</td>\n",
       "      <td>1.0</td>\n",
       "      <td>1.264532e+00</td>\n",
       "      <td>7.908066e-01</td>\n",
       "    </tr>\n",
       "    <tr>\n",
       "      <th>2</th>\n",
       "      <td>BankOfAmerica Alert 137943. Please follow http...</td>\n",
       "      <td>. please alert follow re-activate</td>\n",
       "      <td>1.0</td>\n",
       "      <td>6.289955e+01</td>\n",
       "      <td>1.589837e-02</td>\n",
       "    </tr>\n",
       "    <tr>\n",
       "      <th>3</th>\n",
       "      <td>Sorry dude. Dont know how i forgot. Even after...</td>\n",
       "      <td>. . . . . sorry sorry dude know forget even re...</td>\n",
       "      <td>0.0</td>\n",
       "      <td>2.659360e-08</td>\n",
       "      <td>3.760304e+07</td>\n",
       "    </tr>\n",
       "    <tr>\n",
       "      <th>4</th>\n",
       "      <td>No. I dont want to hear anything</td>\n",
       "      <td>. hear anything</td>\n",
       "      <td>0.0</td>\n",
       "      <td>1.031944e-02</td>\n",
       "      <td>9.690453e+01</td>\n",
       "    </tr>\n",
       "    <tr>\n",
       "      <th>...</th>\n",
       "      <td>...</td>\n",
       "      <td>...</td>\n",
       "      <td>...</td>\n",
       "      <td>...</td>\n",
       "      <td>...</td>\n",
       "    </tr>\n",
       "    <tr>\n",
       "      <th>1995</th>\n",
       "      <td>Kay... Since we are out already</td>\n",
       "      <td>already ...</td>\n",
       "      <td>0.0</td>\n",
       "      <td>4.059396e-04</td>\n",
       "      <td>2.463421e+03</td>\n",
       "    </tr>\n",
       "    <tr>\n",
       "      <th>1996</th>\n",
       "      <td>call now 08707509020 Just 20p per min NTT Ltd...</td>\n",
       "      <td>, call call just rate national per 0870 min 08...</td>\n",
       "      <td>1.0</td>\n",
       "      <td>9.422397e+12</td>\n",
       "      <td>1.061301e-13</td>\n",
       "    </tr>\n",
       "    <tr>\n",
       "      <th>1997</th>\n",
       "      <td>Are you angry with me. What happen dear</td>\n",
       "      <td>. angry dear happen</td>\n",
       "      <td>0.0</td>\n",
       "      <td>1.030894e-02</td>\n",
       "      <td>9.700318e+01</td>\n",
       "    </tr>\n",
       "    <tr>\n",
       "      <th>1998</th>\n",
       "      <td>We r outside already.</td>\n",
       "      <td>. already r outside</td>\n",
       "      <td>0.0</td>\n",
       "      <td>2.387732e-03</td>\n",
       "      <td>4.188074e+02</td>\n",
       "    </tr>\n",
       "    <tr>\n",
       "      <th>1999</th>\n",
       "      <td>The Xmas story is peace.. The Xmas msg is love...</td>\n",
       "      <td>.. .. .. u ... story month love &amp; amp ; msg wi...</td>\n",
       "      <td>0.0</td>\n",
       "      <td>1.399660e-09</td>\n",
       "      <td>7.144591e+08</td>\n",
       "    </tr>\n",
       "  </tbody>\n",
       "</table>\n",
       "<p>1998 rows × 5 columns</p>\n",
       "</div>"
      ],
      "text/plain": [
       "                                           textOriginal  \\\n",
       "0     Your opinion about me? 1. Over 2. Jada 3. Kusr...   \n",
       "1     Please Stay At Home. To encourage the notion o...   \n",
       "2     BankOfAmerica Alert 137943. Please follow http...   \n",
       "3     Sorry dude. Dont know how i forgot. Even after...   \n",
       "4                      No. I dont want to hear anything   \n",
       "...                                                 ...   \n",
       "1995                    Kay... Since we are out already   \n",
       "1996   call now 08707509020 Just 20p per min NTT Ltd...   \n",
       "1997            Are you angry with me. What happen dear   \n",
       "1998                              We r outside already.   \n",
       "1999  The Xmas story is peace.. The Xmas msg is love...   \n",
       "\n",
       "                                       textPreprocessed  class  \\\n",
       "0     opinion ? 1 . . . . . . . . . 2 3 4 lovable 5 ...    0.0   \n",
       "1     . . . � home home please stay stay citizen ent...    1.0   \n",
       "2                     . please alert follow re-activate    1.0   \n",
       "3     . . . . . sorry sorry dude know forget even re...    0.0   \n",
       "4                                       . hear anything    0.0   \n",
       "...                                                 ...    ...   \n",
       "1995                                        already ...    0.0   \n",
       "1996  , call call just rate national per 0870 min 08...    1.0   \n",
       "1997                                . angry dear happen    0.0   \n",
       "1998                                . already r outside    0.0   \n",
       "1999  .. .. .. u ... story month love & amp ; msg wi...    0.0   \n",
       "\n",
       "      Scam confidence  Non-malicious confidence  \n",
       "0        2.014906e-04              4.963010e+03  \n",
       "1        1.264532e+00              7.908066e-01  \n",
       "2        6.289955e+01              1.589837e-02  \n",
       "3        2.659360e-08              3.760304e+07  \n",
       "4        1.031944e-02              9.690453e+01  \n",
       "...               ...                       ...  \n",
       "1995     4.059396e-04              2.463421e+03  \n",
       "1996     9.422397e+12              1.061301e-13  \n",
       "1997     1.030894e-02              9.700318e+01  \n",
       "1998     2.387732e-03              4.188074e+02  \n",
       "1999     1.399660e-09              7.144591e+08  \n",
       "\n",
       "[1998 rows x 5 columns]"
      ]
     },
     "metadata": {},
     "output_type": "display_data"
    }
   ],
   "source": [
    "confident_unlabelled = get_top_confidence(unlabelled, 100, 100)"
   ]
  },
  {
   "cell_type": "code",
   "execution_count": null,
   "metadata": {},
   "outputs": [],
   "source": [
    "expanded_data = pd.concat([train_data, confident_unlabelled[[\"textOriginal\", \"textPreprocessed\", \"class\"]]], axis=0)\n",
    "expanded_data.reset_index(drop=True, inplace=True)"
   ]
  },
  {
   "cell_type": "code",
   "execution_count": null,
   "metadata": {},
   "outputs": [],
   "source": [
    "expanded_model = create_model(expanded_data)"
   ]
  },
  {
   "cell_type": "code",
   "execution_count": null,
   "metadata": {},
   "outputs": [],
   "source": [
    "def predict_dataset(model, test):\n",
    "    test_instances = test[\"textPreprocessed\"]\n",
    "    \n",
    "    vocabulary = model[\"vocabulary\"]\n",
    "    prior_probs = model[\"prior_probs\"]\n",
    "    conditional_probs = model[\"conditional_probs\"]\n",
    "    \n",
    "    predicted_labels = []\n",
    "    for test_instance in test_instances:\n",
    "        predicted_label = classify_test_instance(test, vocabulary, test_instance, prior_probs, conditional_probs)\n",
    "        predicted_labels.append(predicted_label)\n",
    "\n",
    "    test[\"predicted class\"] = predicted_labels\n",
    "\n",
    "    return test"
   ]
  },
  {
   "cell_type": "code",
   "execution_count": null,
   "metadata": {},
   "outputs": [],
   "source": [
    "def report_predictions(test):\n",
    "    test_no_draws = test[test[\"predicted class\"] != 0.5]\n",
    "    class_true = test_no_draws[\"class\"]\n",
    "    class_predict = test_no_draws[\"predicted class\"]\n",
    "    print(classification_report(class_true, class_predict))\n",
    "    cm = confusion_matrix(class_true, class_predict)\n",
    "    print(cm)\n",
    "    sns.heatmap(cm, annot=True, fmt='d')\n",
    "    plt.xlabel('Predicted labels')\n",
    "    plt.ylabel('True labels')\n",
    "    plt.title('Confusion Matrix')\n",
    "    plt.show()"
   ]
  },
  {
   "cell_type": "code",
   "execution_count": null,
   "metadata": {},
   "outputs": [
    {
     "name": "stdout",
     "output_type": "stream",
     "text": [
      "              precision    recall  f1-score   support\n",
      "\n",
      "           0       0.98      0.93      0.96       739\n",
      "           1       0.73      0.89      0.80       146\n",
      "\n",
      "    accuracy                           0.93       885\n",
      "   macro avg       0.85      0.91      0.88       885\n",
      "weighted avg       0.94      0.93      0.93       885\n",
      "\n",
      "[[690  49]\n",
      " [ 16 130]]\n"
     ]
    },
    {
     "data": {
      "image/png": "[encoded data removed]",
      "text/plain": [
       "<Figure size 640x480 with 2 Axes>"
      ]
     },
     "metadata": {},
     "output_type": "display_data"
    }
   ],
   "source": [
    "test = predict_dataset(expanded_model, test)\n",
    "report_predictions(test)"
   ]
  },
  {
   "cell_type": "code",
   "execution_count": null,
   "metadata": {},
   "outputs": [],
   "source": [
    "# Entire pipeline\n",
    "def pipeline(train_data, validation_data, unlabelled_data, test_data, confident_prop):\n",
    "    \n",
    "    # Create training model based on training data\n",
    "    train_model = create_model(train_data)\n",
    "\n",
    "    # Use the model to get most confident instances from unlabelled data\n",
    "    scam_confidence, non_mal_confidence = get_top_confident_instances(train_model, unlabelled_data, conf=confident_prop)\n",
    "    unlabelled_data[\"Scam confidence\"] = unlabelled_data[\"textPreprocessed\"].apply(lambda x: scam_confidence.get(x, None))\n",
    "    unlabelled_data[\"Non-malicious confidence\"] = unlabelled_data[\"textPreprocessed\"].apply(lambda x: non_mal_confidence.get(x,None))\n",
    "\n",
    "    confident_unlabelled = get_top_confidence(unlabelled_data, 100, 100)\n",
    "    \n",
    "    expanded_data = pd.concat([train_data, confident_unlabelled[[\"textOriginal\", \"textPreprocessed\", \"class\"]]], axis=0)\n",
    "    expanded_data.reset_index(drop=True, inplace=True)\n",
    "\n",
    "    # Create expanded model based on supervised data and unlabelled data\n",
    "    expanded_model = create_model(expanded_data)\n",
    "    test_data = predict_dataset(expanded_model, test_data)\n",
    "    report_predictions(test_data)"
   ]
  },
  {
   "cell_type": "code",
   "execution_count": null,
   "metadata": {},
   "outputs": [],
   "source": [
    "train = pd.read_csv(\"sms_supervised_train.csv\")\n",
    "test = pd.read_csv(\"sms_test.csv\")\n",
    "unlabelled = pd.read_csv(\"sms_unlabelled.csv\")"
   ]
  },
  {
   "cell_type": "code",
   "execution_count": null,
   "metadata": {},
   "outputs": [],
   "source": [
    "train_data, validation_data = train_test_split(train, test_size=0.2, random_state=1, stratify=train['class'])\n",
    "train_data.reset_index(inplace=True, drop=True)\n",
    "validation_data.reset_index(inplace=True, drop=True)"
   ]
  },
  {
   "cell_type": "markdown",
   "metadata": {},
   "source": [
    "Using all train, no validation, no unlabelled to classify test (The first version of the model, fully supervised)"
   ]
  },
  {
   "cell_type": "code",
   "execution_count": null,
   "metadata": {},
   "outputs": [
    {
     "name": "stdout",
     "output_type": "stream",
     "text": [
      "              precision    recall  f1-score   support\n",
      "\n",
      "           0       0.97      0.93      0.95       750\n",
      "           1       0.72      0.89      0.80       158\n",
      "\n",
      "    accuracy                           0.92       908\n",
      "   macro avg       0.85      0.91      0.87       908\n",
      "weighted avg       0.93      0.92      0.92       908\n",
      "\n",
      "[[696  54]\n",
      " [ 18 140]]\n"
     ]
    },
    {
     "data": {
      "image/png": "[encoded data removed]",
      "text/plain": [
       "<Figure size 640x480 with 2 Axes>"
      ]
     },
     "metadata": {},
     "output_type": "display_data"
    }
   ],
   "source": [
    "pipeline(train, 0, unlabelled, test, confident_prop=0)"
   ]
  },
  {
   "cell_type": "code",
   "execution_count": null,
   "metadata": {},
   "outputs": [],
   "source": [
    "# Entire pipeline\n",
    "def pipeline1(train_data, validation_data, unlabelled_data, test_data):\n",
    "    train_model = create_model(train_data)\n",
    "    test_data = predict_dataset(train_model, test_data)\n",
    "    report_predictions(test_data)"
   ]
  },
  {
   "cell_type": "code",
   "execution_count": null,
   "metadata": {},
   "outputs": [
    {
     "name": "stdout",
     "output_type": "stream",
     "text": [
      "              precision    recall  f1-score   support\n",
      "\n",
      "           0       0.97      0.99      0.98       752\n",
      "           1       0.93      0.88      0.90       158\n",
      "\n",
      "    accuracy                           0.97       910\n",
      "   macro avg       0.95      0.93      0.94       910\n",
      "weighted avg       0.97      0.97      0.97       910\n",
      "\n",
      "[[741  11]\n",
      " [ 19 139]]\n"
     ]
    },
    {
     "data": {
      "image/png": "[encoded data removed]",
      "text/plain": [
       "<Figure size 640x480 with 2 Axes>"
      ]
     },
     "metadata": {},
     "output_type": "display_data"
    }
   ],
   "source": [
    "pipeline1(train, 0, 0, test)"
   ]
  },
  {
   "cell_type": "markdown",
   "metadata": {},
   "source": [
    "**2.Do you get a different result if you iteratively update the model, retraining on only a portion of the unlabelled data each time? For example, use the Q1 model to label 50% of the unlabelled data, retrain, use the retrained model to classify the remaining 50% of the data, and then train the final model?**"
   ]
  },
  {
   "cell_type": "markdown",
   "metadata": {},
   "source": [
    "**In your write-up, explain your approach and give the reasoning behind your implementation choices.\n",
    "Show results on the training and/or validation set to support your discussion. Your response should be\n",
    "no more than 500 words.**"
   ]
  },
  {
   "cell_type": "markdown",
   "metadata": {},
   "source": [
    "## 4. Supervised model evaluation"
   ]
  },
  {
   "cell_type": "code",
   "execution_count": null,
   "metadata": {
    "collapsed": true
   },
   "outputs": [],
   "source": []
  }
 ],
 "metadata": {
  "kernelspec": {
   "display_name": "base",
   "language": "python",
   "name": "python3"
  },
  "language_info": {
   "codemirror_mode": {
    "name": "ipython",
    "version": 3
   },
   "file_extension": ".py",
   "mimetype": "text/x-python",
   "name": "python",
   "nbconvert_exporter": "python",
   "pygments_lexer": "ipython3",
   "version": "3.11.7"
  }
 },
 "nbformat": 4,
 "nbformat_minor": 4
}
