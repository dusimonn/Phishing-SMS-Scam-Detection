{
 "cells": [
  {
   "cell_type": "markdown",
   "metadata": {},
   "source": [
    "##### ### The University of Melbourne, School of Computing and Information Systems\n",
    "# COMP30027 Machine Learning, 2025 Semester 1\n",
    "\n",
    "## Assignment 1: Scam detection with naive Bayes\n"
   ]
  },
  {
   "cell_type": "markdown",
   "metadata": {},
   "source": [
    "**Student ID(s):**     `1352062`\n"
   ]
  },
  {
   "cell_type": "markdown",
   "metadata": {},
   "source": [
    "This iPython notebook is a template which you will use for your Assignment 1 submission.\n",
    "\n",
    "**NOTE: YOU SHOULD ADD YOUR RESULTS, GRAPHS, AND FIGURES FROM YOUR OBSERVATIONS IN THIS FILE TO YOUR REPORT (the PDF file).** Results, figures, etc. which appear in this file but are NOT included in your report will not be marked.\n",
    "\n",
    "**Adding proper comments to your code is MANDATORY. **"
   ]
  },
  {
   "cell_type": "markdown",
   "metadata": {},
   "source": [
    "## 0. Infrastructure and setup"
   ]
  },
  {
   "cell_type": "code",
   "execution_count": 1,
   "metadata": {},
   "outputs": [],
   "source": [
    "import numpy as np\n",
    "import pandas as pd\n",
    "import math\n",
    "from sklearn.metrics import classification_report, confusion_matrix\n",
    "import matplotlib.pyplot as plt\n",
    "import seaborn as sns"
   ]
  },
  {
   "cell_type": "code",
   "execution_count": 2,
   "metadata": {},
   "outputs": [],
   "source": [
    "def return_tokens(processed_text):\n",
    "    \"\"\"\n",
    "    Given a preprocessed string/instance, return its tokens and their counts.\n",
    "    \"\"\"\n",
    "    token_counts = dict()\n",
    "    \n",
    "    if isinstance(processed_text, str):\n",
    "        # Split the string into words/tokens\n",
    "        processed_text = processed_text.split(\" \")\n",
    "        # Count the occurrences of each token\n",
    "        for token in processed_text:\n",
    "            if token in token_counts:\n",
    "                token_counts[token] += 1\n",
    "            else:\n",
    "                token_counts[token] = 1\n",
    "    else:\n",
    "        # Empty string classified as a float for some reason\n",
    "        token_counts = {\"\": 1}\n",
    "\n",
    "    return token_counts"
   ]
  },
  {
   "cell_type": "code",
   "execution_count": 3,
   "metadata": {},
   "outputs": [],
   "source": [
    "def find_vocabulary(data):\n",
    "    \"\"\"\n",
    "    Find the list of every word which occurs in the  dataset (every word in textPreprocessed)\n",
    "    \"\"\"\n",
    "    vocabulary = []\n",
    "\n",
    "    for i in range(len(data)):\n",
    "        processed_text = return_tokens(data.loc[i, \"textPreprocessed\"]).keys()\n",
    "        vocabulary = vocabulary + list(processed_text)\n",
    "\n",
    "    vocabulary = sorted(list(set(vocabulary)))\n",
    "    return vocabulary"
   ]
  },
  {
   "cell_type": "code",
   "execution_count": 4,
   "metadata": {},
   "outputs": [],
   "source": [
    "def find_count_matrix(data, vocabulary):\n",
    "    \"\"\"\n",
    "    Find the count matrix, which is a matrix of size N*V where N is the number of instances in the training data \n",
    "    and V is the number of words in the vocabulary.  \n",
    "    Each cell in the matrix represents the number of times a given word appeared in a given message \n",
    "    \"\"\"\n",
    "\n",
    "    N = len(data)\n",
    "    V = len(vocabulary)\n",
    "\n",
    "    # Intialise matrix N*V with 0s\n",
    "    count_matrix = np.zeros((N,V))\n",
    "    count_matrix = pd.DataFrame(count_matrix)\n",
    "    count_matrix.columns = vocabulary\n",
    "\n",
    "    # Iterate over each row - instance \n",
    "    for i in range(N):\n",
    "        instance_token_counts = return_tokens(data.loc[i, \"textPreprocessed\"])\n",
    "        for token in instance_token_counts.keys():\n",
    "            count_matrix.loc[i, token] = instance_token_counts[token]\n",
    "    \n",
    "    return count_matrix"
   ]
  },
  {
   "cell_type": "code",
   "execution_count": 5,
   "metadata": {},
   "outputs": [],
   "source": [
    "def find_prior_prob(data):\n",
    "    \"\"\"\n",
    "    Returns a dictionary of the prior probability of each class P(class)\n",
    "    \"\"\"\n",
    "    prior_probs = dict()\n",
    "\n",
    "    labels = np.unique(data[\"class\"])\n",
    "    for label in labels:\n",
    "        prior_probs[int(label)] = len(data[data[\"class\"]==label])/len(data)\n",
    "\n",
    "    return prior_probs"
   ]
  },
  {
   "cell_type": "code",
   "execution_count": 6,
   "metadata": {},
   "outputs": [],
   "source": [
    "def calc_p_c_i(data, count_matrix, label, word, V=0, alpha=0):\n",
    "    \"\"\"\n",
    "    p(word | label) = count(c,i) + alpha / total(c) + V*alpha\n",
    "    count(c,i) is the total count of times word i appears in messages from class c\n",
    "    total(c) is the total count of words in class c\n",
    "    Alpha is smoothing factor used for Laplace smoothing, defaulted to 0 (no smoothing)\n",
    "    V is the length of the count vector of a test instance\n",
    "    \"\"\"\n",
    "    label_indexes = data[data[\"class\"] == label].index\n",
    "    count_matrix = count_matrix.iloc[label_indexes]\n",
    "    word_counts = np.sum(count_matrix[word]) + alpha\n",
    "    label_counts = np.sum(count_matrix, axis=0).sum() + (V*alpha)\n",
    "    \n",
    "    return float(word_counts / label_counts)"
   ]
  },
  {
   "cell_type": "code",
   "execution_count": 7,
   "metadata": {},
   "outputs": [],
   "source": [
    "def find_conditional_prob(data, vocabulary, count_matrix):\n",
    "    \"\"\"\n",
    "    Return dictionary conditional probabilities of each token in a class\n",
    "    \"\"\"\n",
    "    conditional_probs = {int(label): None for label in data[\"class\"].unique()}\n",
    "    for label in conditional_probs.keys():\n",
    "        conditional_probs[label] = {word: 0 for word in vocabulary}\n",
    "\n",
    "        for word in vocabulary:\n",
    "            conditional_probs[label][word] = calc_p_c_i(data, count_matrix, label, word, V=len(vocabulary))\n",
    "    \n",
    "    return conditional_probs"
   ]
  },
  {
   "cell_type": "code",
   "execution_count": 8,
   "metadata": {},
   "outputs": [],
   "source": [
    "def find_test_count_vector(test_text, vocabulary):\n",
    "    \"\"\"\n",
    "    Find the count vector of a test instance\n",
    "    \"\"\"\n",
    "    count_vector = np.zeros((1, len(vocabulary)))[0]\n",
    "    test_token_counts = return_tokens(test_text)\n",
    "\n",
    "    for i in range(len(vocabulary)):\n",
    "        token = vocabulary[i]\n",
    "        if token in test_token_counts.keys():\n",
    "            count_vector[i] = test_token_counts[token]\n",
    "    \n",
    "    return count_vector"
   ]
  },
  {
   "cell_type": "code",
   "execution_count": 9,
   "metadata": {},
   "outputs": [],
   "source": [
    "def find_posterior_prob(data, count_vector, vocabulary, prior_probs, conditional_probs):\n",
    "    \"\"\"\n",
    "    Find posterior probability P(class = label | count = count vector) -> P(class = label) * P(count|c)\n",
    "    \"\"\"\n",
    "    posterior_probs = {int(label): None for label in data[\"class\"].unique()}\n",
    "    for label in posterior_probs.keys():\n",
    "        p_class = prior_probs[label]\n",
    "        p_count_c = math.factorial(int(sum(count_vector))) / math.prod([math.factorial(int(x)) for x in count_vector])\n",
    "        test_token_indexes = [i for i in range(len(count_vector)) if count_vector[i] != 0]\n",
    "\n",
    "        for token_index in test_token_indexes:\n",
    "            p_c_i = conditional_probs[label][vocabulary[token_index]]\n",
    "\n",
    "            # Original formula\n",
    "            p_count_c = p_count_c * math.pow(p_c_i, count_vector[token_index])\n",
    "\n",
    "            # Or take log to avoid underflow\n",
    "            # prob = math.pow(p_c_i, count_vector[token_index])\n",
    "            # if prob == 0:\n",
    "            #     p_count_c = p_count_c + 0\n",
    "            # else:\n",
    "            #     p_count_c = p_count_c + math.log(prob)\n",
    "            \n",
    "        p_c_count = p_class * p_count_c\n",
    "        posterior_probs[label] = p_c_count\n",
    "\n",
    "    return posterior_probs"
   ]
  },
  {
   "cell_type": "code",
   "execution_count": 10,
   "metadata": {},
   "outputs": [],
   "source": [
    "def classify_test_instance(data, vocabulary, test_text, prior_probs, conditional_probs):\n",
    "    \"\"\"\n",
    "    Given a string, classify it as 0 - non malicious, or 1 - scam\n",
    "    \"\"\"\n",
    "    test_count_vector = find_test_count_vector(test_text, vocabulary)\n",
    "\n",
    "    # Count vector all zeroes so cannot classify\n",
    "    if np.count_nonzero(test_count_vector) == 0:\n",
    "        print(\"Cannot classify\")\n",
    "        return None\n",
    "    \n",
    "    test_posterior_prob = find_posterior_prob(data, test_count_vector, vocabulary, prior_probs, conditional_probs)\n",
    "    # Find which class has higher likelihood\n",
    "    best_label = None\n",
    "    best_prob = 0\n",
    "\n",
    "    # If both are equal, return 0.5, hard coded \n",
    "    if test_posterior_prob[0] == test_posterior_prob[1]:\n",
    "        return 0.5\n",
    "\n",
    "    for label, prob_label in test_posterior_prob.items():\n",
    "        if prob_label > best_prob:\n",
    "            best_prob = prob_label\n",
    "            best_label = label\n",
    "    \n",
    "    return best_label"
   ]
  },
  {
   "cell_type": "code",
   "execution_count": 11,
   "metadata": {},
   "outputs": [],
   "source": [
    "def find_top_prob_ratio(c1, c2, vocabulary, conditional_probs, top=10):\n",
    "    ratios = dict()\n",
    "\n",
    "    for word in vocabulary:\n",
    "        p_c1_i = conditional_probs[c1][word]\n",
    "        p_c2_i = conditional_probs[c2][word]\n",
    "        if p_c2_i != 0:\n",
    "            r = p_c1_i / p_c2_i\n",
    "            ratios[word] = r\n",
    "\n",
    "    top_ratios = sorted(ratios.items(), key=lambda x: x[1], reverse=True)[:top]\n",
    "    top_ratios = dict(top_ratios)\n",
    "\n",
    "    return top_ratios"
   ]
  },
  {
   "cell_type": "code",
   "execution_count": 12,
   "metadata": {},
   "outputs": [],
   "source": [
    "def find_top_test_ratios(data, vocabulary, prior_probs, conditional_probs, c1, c2, boundary=False, top=3):\n",
    "    ratios = dict()\n",
    "\n",
    "    for test_text in data[\"textPreprocessed\"]:\n",
    "        test_count_vector = find_test_count_vector(test_text, vocabulary)\n",
    "        test_posterior_prob = find_posterior_prob(data, test_count_vector, vocabulary, prior_probs, conditional_probs)\n",
    "        post_c1 = test_posterior_prob[c1]\n",
    "        post_c2 = test_posterior_prob[c2]\n",
    "\n",
    "        if post_c2 != 0:\n",
    "            r = post_c1/post_c2\n",
    "            ratios[test_text] = r\n",
    "\n",
    "    if not boundary:\n",
    "        top_ratios = sorted(ratios.items(), key=lambda x: x[1], reverse=True)[:top]\n",
    "    else:\n",
    "        top_ratios = sorted(ratios.items(), key=lambda x: abs(x[1] - 1))[:top]\n",
    "\n",
    "    top_ratios = dict(top_ratios)\n",
    "    return top_ratios"
   ]
  },
  {
   "cell_type": "markdown",
   "metadata": {},
   "source": [
    "## 1. Supervised model training\n"
   ]
  },
  {
   "cell_type": "code",
   "execution_count": 13,
   "metadata": {},
   "outputs": [],
   "source": [
    "train = pd.read_csv(\"sms_supervised_train.csv\")"
   ]
  },
  {
   "cell_type": "code",
   "execution_count": 14,
   "metadata": {},
   "outputs": [],
   "source": [
    "vocabulary = find_vocabulary(train)"
   ]
  },
  {
   "cell_type": "code",
   "execution_count": 15,
   "metadata": {},
   "outputs": [],
   "source": [
    "count_matrix = find_count_matrix(train, vocabulary)"
   ]
  },
  {
   "cell_type": "code",
   "execution_count": 16,
   "metadata": {},
   "outputs": [],
   "source": [
    "prior_probs = find_prior_prob(train)"
   ]
  },
  {
   "cell_type": "code",
   "execution_count": 17,
   "metadata": {},
   "outputs": [],
   "source": [
    "conditional_probs = find_conditional_prob(train, vocabulary, count_matrix)"
   ]
  },
  {
   "cell_type": "code",
   "execution_count": 18,
   "metadata": {},
   "outputs": [
    {
     "name": "stdout",
     "output_type": "stream",
     "text": [
      "(0, 1.0000000000000027)\n",
      "(1, 0.9999999999999903)\n"
     ]
    }
   ],
   "source": [
    "# check if prob within each class label sum = 1\n",
    "for label in conditional_probs.keys():\n",
    "    print((label, sum(conditional_probs[label].values())))\n",
    "# good enough"
   ]
  },
  {
   "cell_type": "markdown",
   "metadata": {},
   "source": [
    "**1. What are the prior probabilities of the classes P(c) in the training dataset?**"
   ]
  },
  {
   "cell_type": "code",
   "execution_count": 19,
   "metadata": {},
   "outputs": [
    {
     "data": {
      "text/plain": [
       "{0: 0.8, 1: 0.2}"
      ]
     },
     "execution_count": 19,
     "metadata": {},
     "output_type": "execute_result"
    }
   ],
   "source": [
    "prior_probs"
   ]
  },
  {
   "cell_type": "markdown",
   "metadata": {},
   "source": [
    "**2. What are the most probable words in each class? List about 10 per class and their probability values p(c,i)**"
   ]
  },
  {
   "cell_type": "code",
   "execution_count": 20,
   "metadata": {},
   "outputs": [
    {
     "name": "stdout",
     "output_type": "stream",
     "text": [
      "Top 10 probable words in class 0\n",
      "1. P(,|class = 0) = 0.02925414538805876\n",
      "2. P(?|class = 0) = 0.028749763571023264\n",
      "3. P(u|class = 0) = 0.021247084042620264\n",
      "4. P(...|class = 0) = 0.02105794086123195\n",
      "5. P(!|class = 0) = 0.01929260450160772\n",
      "6. P(..|class = 0) = 0.016770695416430236\n",
      "7. P(;|class = 0) = 0.014753168148288254\n",
      "8. P(&|class = 0) = 0.014690120421158817\n",
      "9. P(go|class = 0) = 0.012483449971628523\n",
      "10. P(get|class = 0) = 0.011096399974780909\n",
      "\n",
      "\n",
      "Top 10 probable words in class 1\n",
      "1. P(!|class = 1) = 0.031002363408869735\n",
      "2. P(,|class = 1) = 0.029890170999582927\n",
      "3. P(call|class = 1) = 0.026136521618239955\n",
      "4. P(£|class = 1) = 0.017656054497428054\n",
      "5. P(free|class = 1) = 0.01334630891144168\n",
      "6. P(/|class = 1) = 0.011538996246350618\n",
      "7. P(2|class = 1) = 0.011121924092868066\n",
      "8. P(&|class = 1) = 0.010982900041707216\n",
      "9. P(?|class = 1) = 0.010704851939385513\n",
      "10. P(claim|class = 1) = 0.009731683581259558\n",
      "\n",
      "\n"
     ]
    }
   ],
   "source": [
    "sorted_conditional_probs = {}\n",
    "\n",
    "for label in conditional_probs:\n",
    "    prob_dict = conditional_probs[label]\n",
    "    sorted_items = sorted(prob_dict.items(), key=lambda x: x[1], reverse=True)\n",
    "    sorted_conditional_probs[label] = dict(sorted_items)  \n",
    "\n",
    "for label in sorted_conditional_probs:\n",
    "    print(f\"Top 10 probable words in class {label}\")\n",
    "    for i in range(1, 11):\n",
    "        token = list(sorted_conditional_probs[label].keys())[i]\n",
    "        print(f\"{i}. P({token}|class = {label}) = {sorted_conditional_probs[label][token]}\")\n",
    "    print(\"\\n\")"
   ]
  },
  {
   "cell_type": "markdown",
   "metadata": {},
   "source": [
    "**3. What individual words are most strongly predictive of each class? List the words and the probability ratios R. Ignore ratios where the denominator = 0.**"
   ]
  },
  {
   "cell_type": "markdown",
   "metadata": {},
   "source": [
    "*What 10 words are most strongly predictive of the scam (label=1) class?*"
   ]
  },
  {
   "cell_type": "code",
   "execution_count": 21,
   "metadata": {},
   "outputs": [
    {
     "data": {
      "text/plain": [
       "{'claim': 77.17711664117893,\n",
       " 'award': 70.56193521479217,\n",
       " '£': 70.0106700959266,\n",
       " 'cs': 48.51133046016962,\n",
       " '1000': 41.89614903378285,\n",
       " '150p': 39.691088558320594,\n",
       " 'entry': 39.691088558320594,\n",
       " '100': 35.280967607396086,\n",
       " 'contact': 30.870846656471567,\n",
       " 'service': 30.13582649798415}"
      ]
     },
     "execution_count": 21,
     "metadata": {},
     "output_type": "execute_result"
    }
   ],
   "source": [
    "find_top_prob_ratio(c1=1, c2=0, vocabulary=vocabulary, conditional_probs=conditional_probs, top=10)"
   ]
  },
  {
   "cell_type": "markdown",
   "metadata": {},
   "source": [
    "*What 10 words are most strongly predictive non-malicious (label=0) class?*"
   ]
  },
  {
   "cell_type": "code",
   "execution_count": 22,
   "metadata": {},
   "outputs": [
    {
     "data": {
      "text/plain": [
       "{';': 106.11953849063741,\n",
       " '...': 75.73488430742071,\n",
       " 'ok': 43.08271861799382,\n",
       " 'sorry': 25.849631170796293,\n",
       " 'ask': 24.94262656831221,\n",
       " 'come': 20.86110585713385,\n",
       " 'k': 18.14009204968161,\n",
       " 'leave': 15.872580543471408,\n",
       " 'really': 14.512073639745285,\n",
       " 'say': 14.05857133850325}"
      ]
     },
     "execution_count": 22,
     "metadata": {},
     "output_type": "execute_result"
    }
   ],
   "source": [
    "find_top_prob_ratio(c1=0, c2=1, vocabulary=vocabulary, conditional_probs=conditional_probs, top=10)"
   ]
  },
  {
   "cell_type": "markdown",
   "metadata": {},
   "source": [
    "**Discuss results. Do they seem reasonable? Do you think it will be possible to distinguish the 2 classes using the multinomial naive Bayes model? Why?**"
   ]
  },
  {
   "cell_type": "markdown",
   "metadata": {},
   "source": [
    "Looking at the most probable words in each class, the top 10 most probable words in each class are filled with punctuation tokens instead of actual words, making it hard to distinguish the 2 classes using this specific Bayes Model. For example, the \"!\" token, appears relatively frequently in both classes, with a probability of approx. 2% and 3% respectively.\n",
    "Thus, more text preprocessing may be needed to reduce the dimensionality of our attributes/tokens/vocabulary, which may result in a more realistic representation of probable words within each label.\n",
    "\n",
    "However, results from the ratio R calculations seem promising and reasonable. The words most strongly predictive of the scam class include \"claim\", \"award\", \"service\", \"£\", which may correspond to typical rewards/money related phishing scams, which is to be expected. Likewise, words most strongly predictive of the non-malicious class such as \"ok\", \"k\", \"sorry\" are typically seen in everyday texts and conversations. \n",
    "\n",
    "Ultimately, it is possible to distinguish the 2 classes using the multinomial naive Bayes model, however, in our specific infrastructure/setup, more data preprocessing of the raw sms could further enhance the model's ability to differentiate between class labels."
   ]
  },
  {
   "cell_type": "markdown",
   "metadata": {},
   "source": [
    "## 2. Supervised model evaluation"
   ]
  },
  {
   "cell_type": "code",
   "execution_count": 23,
   "metadata": {
    "collapsed": true
   },
   "outputs": [],
   "source": [
    "test = pd.read_csv(\"sms_test.csv\")"
   ]
  },
  {
   "cell_type": "code",
   "execution_count": 24,
   "metadata": {},
   "outputs": [],
   "source": [
    "test_instances = test[\"textPreprocessed\"]\n",
    "predicted_labels = []\n",
    "for test_instance in test_instances:\n",
    "    predicted_label = classify_test_instance(test, vocabulary, test_instance, prior_probs, conditional_probs)\n",
    "    predicted_labels.append(predicted_label)\n",
    "\n",
    "test[\"predicted class\"] = predicted_labels"
   ]
  },
  {
   "cell_type": "markdown",
   "metadata": {},
   "source": [
    "**1. Report the overall accuracy of your classifier as well as a breakdown by class (e.g. using a confusion matrix or by reporting precision and recall)**"
   ]
  },
  {
   "cell_type": "markdown",
   "metadata": {},
   "source": [
    "Remove instances where the model could not decide between class 0 or 1 (predict 0.5)"
   ]
  },
  {
   "cell_type": "code",
   "execution_count": 25,
   "metadata": {},
   "outputs": [],
   "source": [
    "test_no_draws = test[test[\"predicted class\"] != 0.5]\n",
    "class_true = test_no_draws[\"class\"]\n",
    "class_predict = test_no_draws[\"predicted class\"]"
   ]
  },
  {
   "cell_type": "code",
   "execution_count": 26,
   "metadata": {},
   "outputs": [
    {
     "name": "stdout",
     "output_type": "stream",
     "text": [
      "              precision    recall  f1-score   support\n",
      "\n",
      "           0       0.97      0.99      0.98       752\n",
      "           1       0.93      0.88      0.90       158\n",
      "\n",
      "    accuracy                           0.97       910\n",
      "   macro avg       0.95      0.93      0.94       910\n",
      "weighted avg       0.97      0.97      0.97       910\n",
      "\n"
     ]
    }
   ],
   "source": [
    "print(classification_report(class_true, class_predict))"
   ]
  },
  {
   "cell_type": "code",
   "execution_count": 27,
   "metadata": {},
   "outputs": [
    {
     "name": "stdout",
     "output_type": "stream",
     "text": [
      "[[741  11]\n",
      " [ 19 139]]\n"
     ]
    },
    {
     "data": {
      "image/png": "[encoded data removed]",
      "text/plain": [
       "<Figure size 640x480 with 2 Axes>"
      ]
     },
     "metadata": {},
     "output_type": "display_data"
    }
   ],
   "source": [
    "cm = confusion_matrix(class_true, class_predict)\n",
    "print(cm)\n",
    "sns.heatmap(cm, annot=True, fmt='d')\n",
    "plt.xlabel('Predicted labels')\n",
    "plt.ylabel('True labels')\n",
    "plt.title('Confusion Matrix')\n",
    "plt.show()"
   ]
  },
  {
   "cell_type": "markdown",
   "metadata": {},
   "source": [
    "Overall accuracy = (741+139)/(741+139+11+19) = 0.967 = 0.97, matching the classification report\n",
    "\n",
    "Class 0:\n",
    "- Recall = 0.99\n",
    "- Precision = 0.97\n",
    "\n",
    "Class 1:\n",
    "- Recall = 0.88\n",
    "- Precision = 0.93"
   ]
  },
  {
   "cell_type": "markdown",
   "metadata": {},
   "source": [
    "**2. Report how often your model encountered out-of-vocabulary words in the test set. Were any test items skipped (not classified) due to this problem?**"
   ]
  },
  {
   "cell_type": "code",
   "execution_count": 28,
   "metadata": {},
   "outputs": [
    {
     "name": "stdout",
     "output_type": "stream",
     "text": [
      "{'trouble': 1, '2nite': 5, 'hmv': 1, 'law': 2, 'plot': 1, 'pie': 3, 'drivin': 3, 'realise': 1, 'hook': 3, 'nearly': 1, 'fetch': 1, 'activity': 2, 'inside': 3, 'greet': 1, 'grl': 1, 'manage': 2, '87131': 1, 'journey': 1, 'require': 2, '://': 3, 'daddy': 4, 'asleep': 4, 'market': 2, 'depend': 1, 'prabha': 1, 'wed': 2, 'title': 1, 'piece': 1, 'fault': 3, 'lift': 2, 'girlfrnd': 1, 'boston': 2, 'nyc': 2, 't-mobile': 3, '0845': 2, 'skype': 2, 'mini': 2, 'postcode': 1, 'dreams': 3, 'lmao': 2, 'armand': 1, '1956669': 2, 'possession': 2, 'feelin': 1, 'befor': 1, 'ru': 1, 'sen': 1, 'fire': 1, 'definitely': 1, 'legal': 2, 'holla': 3, 'sup': 1, 'dick': 2, 'harry': 1, 'oz': 3, 'yijue': 1, 'exactly': 2, 'bet': 1, 'esplanade': 2, 'bud': 1, 'din': 2, 'act': 3, '=d': 1, 'challenge': 1, 'wet': 1, '6hrs': 3, '7250i': 1, '0578': 2, 'annoying': 2, 'calling': 3, 'rally': 2, 'pack': 1, 'empty': 3, 'fyi': 2, '81151': 1, 'report': 1, 'gram': 1, 'lay': 2, 'yahoo': 1, 'experience': 2, 'fee': 1, 'k.': 2, 'pg': 1, 'ec2a': 1, 'woke': 2, 'realy': 1, 'lecture': 1, 'cancer': 1, 'fromm': 1, 'aiyar': 1, 'ta': 1, '32': 1, 'infernal': 1, 'affair': 1}\n",
      "Number of unique tokens not classifed = 94\n",
      "Number of instances model encountered out-of-vocab during testing = 160\n"
     ]
    }
   ],
   "source": [
    "test_out_of_vocab = dict()\n",
    "for i in range(len(test)):\n",
    "    text = test.loc[i, \"textPreprocessed\"]\n",
    "    text_tokens = return_tokens(text)\n",
    "    tokens_out_of_vocab = 0\n",
    "\n",
    "    for token in text_tokens:\n",
    "        if token not in vocabulary:\n",
    "            tokens_out_of_vocab += 1\n",
    "            if token not in test_out_of_vocab.keys():\n",
    "                test_out_of_vocab[token] = 1\n",
    "            else:\n",
    "                test_out_of_vocab[token] += 1\n",
    "\n",
    "print(test_out_of_vocab)\n",
    "print(f\"Number of unique tokens not classifed = {len(test_out_of_vocab)}\")\n",
    "print(f\"Number of instances model encountered out-of-vocab during testing = {sum(test_out_of_vocab.values())}\")"
   ]
  },
  {
   "cell_type": "code",
   "execution_count": 29,
   "metadata": {},
   "outputs": [
    {
     "name": "stdout",
     "output_type": "stream",
     "text": [
      "There were 0 test instances skipped\n"
     ]
    }
   ],
   "source": [
    "num_tests_skipped = len(test[test[\"predicted class\"].isna()])\n",
    "print(f\"There were {num_tests_skipped} test instances skipped\")"
   ]
  },
  {
   "cell_type": "markdown",
   "metadata": {},
   "source": [
    "**3. Provide examples of instances classified with high low confidence using ratio of posterior likelihood for each class. Provide some examples of test instances which are:**"
   ]
  },
  {
   "cell_type": "markdown",
   "metadata": {},
   "source": [
    "**a. classified scam (label=1) with high confidence**"
   ]
  },
  {
   "cell_type": "code",
   "execution_count": 30,
   "metadata": {},
   "outputs": [
    {
     "name": "stdout",
     "output_type": "stream",
     "text": [
      "1.\n",
      "Text: . . . 2 ur yes ! £ £ offer claim last chance t 250 16 mobile discount worth cs sub 3.00\n",
      "R score: 1218556157491979.2\n",
      "\n",
      "2.\n",
      "Text: reply reply free re call new offer delivery phone 150 750 tomorrow try contact video min\n",
      "R score: 72050987442.02776\n",
      "\n",
      "3.\n",
      "Text: ? . 4 4 u week £ txt new question name 100 draw thanks enter cash continue support an\n",
      "R score: 322011806.0440202\n",
      "\n"
     ]
    }
   ],
   "source": [
    "result = find_top_test_ratios(test, vocabulary, prior_probs, conditional_probs, c1=1, c2=0)\n",
    "for i, (text, R) in enumerate(result.items(), start=1):\n",
    "    print(f\"{i}.\")\n",
    "    print(f\"Text: {text}\")\n",
    "    print(f\"R score: {R}\")\n",
    "    print()"
   ]
  },
  {
   "cell_type": "markdown",
   "metadata": {},
   "source": [
    "**b. classified non-malicious (label=0) with high confidence**"
   ]
  },
  {
   "cell_type": "code",
   "execution_count": 31,
   "metadata": {},
   "outputs": [
    {
     "name": "stdout",
     "output_type": "stream",
     "text": [
      "1.\n",
      "Text: come , back back ... ... babe\n",
      "R score: 3496694.2349932324\n",
      "\n",
      "2.\n",
      "Text: ? come u pick ok n\n",
      "R score: 501137.3137662168\n",
      "\n",
      "3.\n",
      "Text: ok go ... change\n",
      "R score: 281369.3755832117\n",
      "\n"
     ]
    }
   ],
   "source": [
    "result = find_top_test_ratios(test, vocabulary, prior_probs, conditional_probs, c1=0, c2=1)\n",
    "for i, (text, R) in enumerate(result.items(), start=1):\n",
    "    print(f\"{i}.\")\n",
    "    print(f\"Text: {text}\")\n",
    "    print(f\"R score: {R}\")\n",
    "    print()"
   ]
  },
  {
   "cell_type": "markdown",
   "metadata": {},
   "source": [
    "**c. on the boundary between the 2 classes (R near 1)**"
   ]
  },
  {
   "cell_type": "code",
   "execution_count": 32,
   "metadata": {},
   "outputs": [
    {
     "name": "stdout",
     "output_type": "stream",
     "text": [
      "1.\n",
      "Text: 4 ! ! mate money\n",
      "R score: 0.916100252108639\n",
      "\n",
      "2.\n",
      "Text: . send link picture\n",
      "R score: 0.8252714568964516\n",
      "\n",
      "3.\n",
      "Text: . yes chat\n",
      "R score: 1.2034878671644293\n",
      "\n"
     ]
    }
   ],
   "source": [
    "result = find_top_test_ratios(test, vocabulary, prior_probs, conditional_probs, c1=1, c2=0, boundary=True)\n",
    "for i, (text, R) in enumerate(result.items(), start=1):\n",
    "    print(f\"{i}.\")\n",
    "    print(f\"Text: {text}\")\n",
    "    print(f\"R score: {R}\")\n",
    "    print()"
   ]
  },
  {
   "cell_type": "code",
   "execution_count": 33,
   "metadata": {},
   "outputs": [
    {
     "name": "stdout",
     "output_type": "stream",
     "text": [
      "1.\n",
      "Text: 4 ! ! mate money\n",
      "R score: 1.091583587820486\n",
      "\n",
      "2.\n",
      "Text: . yes chat\n",
      "R score: 0.8309182230113605\n",
      "\n",
      "3.\n",
      "Text: . send link picture\n",
      "R score: 1.2117225085678347\n",
      "\n"
     ]
    }
   ],
   "source": [
    "result = find_top_test_ratios(test, vocabulary, prior_probs, conditional_probs, c1=0, c2=1, boundary=True)\n",
    "for i, (text, R) in enumerate(result.items(), start=1):\n",
    "    print(f\"{i}.\")\n",
    "    print(f\"Text: {text}\")\n",
    "    print(f\"R score: {R}\")\n",
    "    print()"
   ]
  },
  {
   "cell_type": "markdown",
   "metadata": {},
   "source": [
    "Note that here, we should expect to receive the same texts regardless of what c1 or c2 is, which is true, as shown in results."
   ]
  },
  {
   "cell_type": "markdown",
   "metadata": {},
   "source": [
    "**In addition to reporting these points, briefly interpret them. Do the model’s high and low confidence\n",
    "predictions seem reasonable to you? Is one class easier to identify than the other?**"
   ]
  },
  {
   "cell_type": "markdown",
   "metadata": {},
   "source": [
    "The model performs well, having high accuracy and recall/precision per class in the test set. Looking at both recall and precision factors, i.e., the f1 score, the model performs better at predicting non-malicious texts (0.98), compared to scam texts (0.90). The difference may be due to class imbalance in the training set (80/20), where non malicious texts appear more than scams. Because of less occurances of scam instances, the model might not be as well trained on the minority class where there are less examples.\n",
    "\n",
    "The model's predictive capability can be further improved by having larger training datasets which reduce the number of unique tokens that cannot be identified in the test dataset. Fortunately, this issue did not lead to any non-classifications/skips in testing.\n",
    "\n",
    "Additionally, the model's confidence values seem reasonable. The top 3 results in the scam predictions have extremely high confidence, and the contents of the texts reflect this confidence value, tokens such as \"claim\", \"discount\", \"offer\", \"cash\"... are indicative of scam attempts. \n",
    "While there is also high confidence in non-malicious predictions, the degree/magnitude of confidence in scam instances is much higher, where the highest R score of label=0 is approx  3,500,000, compared to approx 1.22E12 in the scam class, almost a million times larger (looking at the number of extra 0s).\n",
    "\n",
    "In summary, based on f1, the model performs better when predicting non-malicious texts, however, looking at confidence, the model is more confident in the scam class, possibly due to more pronounced features."
   ]
  },
  {
   "cell_type": "markdown",
   "metadata": {},
   "source": [
    "## 3. Extending the model with semi-supervised training"
   ]
  },
  {
   "cell_type": "code",
   "execution_count": 34,
   "metadata": {},
   "outputs": [],
   "source": [
    "unlabelled = pd.read_csv(\"sms_unlabelled.csv\")"
   ]
  },
  {
   "cell_type": "markdown",
   "metadata": {},
   "source": [
    "## 4. Supervised model evaluation"
   ]
  },
  {
   "cell_type": "code",
   "execution_count": null,
   "metadata": {
    "collapsed": true
   },
   "outputs": [],
   "source": []
  }
 ],
 "metadata": {
  "kernelspec": {
   "display_name": "base",
   "language": "python",
   "name": "python3"
  },
  "language_info": {
   "codemirror_mode": {
    "name": "ipython",
    "version": 3
   },
   "file_extension": ".py",
   "mimetype": "text/x-python",
   "name": "python",
   "nbconvert_exporter": "python",
   "pygments_lexer": "ipython3",
   "version": "3.11.7"
  }
 },
 "nbformat": 4,
 "nbformat_minor": 4
}
